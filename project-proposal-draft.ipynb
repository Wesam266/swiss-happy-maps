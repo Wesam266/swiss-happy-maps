{
 "cells": [
  {
   "cell_type": "markdown",
   "metadata": {},
   "source": [
    "## Happiness Map of Lausanne\n",
    "\n",
    "Kirtan Padh, Luis Medina, Tina Fang"
   ]
  },
  {
   "cell_type": "markdown",
   "metadata": {},
   "source": [
    "### Technical Challenges\n",
    "\n",
    "- Big Data\n",
    "- NLP — entity extraction (e.g. #happiness, #happy, #blessed mean the same thing)\n",
    "- NLP - sentimental analysis, words and  😃 or 😔\n",
    "- Interactive Visualization — build the coolest visualization possible"
   ]
  },
  {
   "cell_type": "markdown",
   "metadata": {},
   "source": [
    "### Data Description\n",
    "- Twitter - tweets from Lausanne, text and emoticons\n",
    "- Instagram - posts tagged with Lausanne or created near Lausanne, tags, perhaps imagess (?) then will use deep learning.\n",
    "- Perhaps Tripadvisor, Reddit, other social networks\n",
    "- Flickr for tags for urban perception (most photographed locations)"
   ]
  },
  {
   "cell_type": "markdown",
   "metadata": {},
   "source": [
    "### Timeline\n",
    "\n",
    "Project Plan, time in order:\n",
    "- review relevant literature (e.g. http://www.di.unito.it/~schifane/papers/hypertext14_shortest.pdf)\n",
    "- find relevant datasets and put into usable format\n",
    "- process dataset (perhaps need Spark)\n",
    "- select ML/ deep learning algortihms (perhaps need to learn NLP)\n",
    "- evaluate performance and finetune model\n",
    "- build interactive visualization\n",
    "\n",
    "Time Estimate/Division (?) TBD"
   ]
  },
  {
   "cell_type": "markdown",
   "metadata": {},
   "source": [
    "### Deliverables:\n",
    "\n",
    "- Interactive Lausanne Map with City Happiness Scale and Emotion (?)\n",
    "- Report with Methodology and Process\n",
    "- User research and testing in Lausanne (?)\n",
    "- Website / App for people to use (?)"
   ]
  },
  {
   "cell_type": "code",
   "execution_count": null,
   "metadata": {
    "collapsed": true
   },
   "outputs": [],
   "source": []
  }
 ],
 "metadata": {
  "kernelspec": {
   "display_name": "Python 3",
   "language": "python",
   "name": "python3"
  },
  "language_info": {
   "codemirror_mode": {
    "name": "ipython",
    "version": 3
   },
   "file_extension": ".py",
   "mimetype": "text/x-python",
   "name": "python",
   "nbconvert_exporter": "python",
   "pygments_lexer": "ipython3",
   "version": "3.5.1"
  }
 },
 "nbformat": 4,
 "nbformat_minor": 0
}
