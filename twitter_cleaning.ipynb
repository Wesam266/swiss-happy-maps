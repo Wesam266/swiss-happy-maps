{
 "cells": [
  {
   "cell_type": "markdown",
   "metadata": {},
   "source": [
    "## Getting and saving the cleaned twitter data\n",
    "* TODO Describe data based on analysis done on cluster\n",
    "* The code to get the data is in cleaned_twitter.py and other scripts. TODO Mention which other scripts.\n",
    "* #TODO write comments and reasons for writing stuff"
   ]
  },
  {
   "cell_type": "code",
   "execution_count": 3,
   "metadata": {
    "collapsed": false
   },
   "outputs": [],
   "source": [
    "import pandas as pd\n",
    "import os\n",
    "from tqdm import tqdm\n",
    "from pyspark import SparkConf, HiveContext\n",
    "import pyspark.sql\n",
    "from pyspark.sql.types import *\n",
    "from pyspark.sql import SQLContext\n",
    "from pyspark.sql.functions import col, lit, udf\n",
    "import pyspark.sql.functions as functions\n",
    "import pickle\n",
    "import time\n",
    "\n",
    "conf = SparkConf().setAppName(\"ADA-gcl\")\n",
    "sqlContext = SQLContext(sc)"
   ]
  },
  {
   "cell_type": "markdown",
   "metadata": {},
   "source": [
    "## Load the parquet data\n",
    "As the goal of our project evolved, we realized that we needed more columns than the ones we had already queried for the twitter dataset. Each time we query, we save parquet files by month. Here we combine all the different queries that we have done for different columns and clean the dataframe to get it iin a form we need for the visualisation."
   ]
  },
  {
   "cell_type": "code",
   "execution_count": 7,
   "metadata": {
    "collapsed": false
   },
   "outputs": [],
   "source": [
    "path1 = 'file:///home/kirtan/Academics/EPFL/sem1/ADA/ADA-Project/twitter_data/cleaned/'\n",
    "files1 = os.listdir('twitter_data/cleaned')\n",
    "\n",
    "df1 = sqlContext.read.parquet(path1+files1[0])\n",
    "df_twitter1 = df1\n",
    "\n",
    "for f in tqdm(files1[1:]):\n",
    "    temp = sqlContext.read.parquet(path1 + f)\n",
    "    df_twitter1 = df_twitter1.unionAll(temp)  "
   ]
  },
  {
   "cell_type": "code",
   "execution_count": 6,
   "metadata": {
    "collapsed": false
   },
   "outputs": [
    {
     "data": {
      "text/plain": [
       "10828070"
      ]
     },
     "execution_count": 6,
     "metadata": {},
     "output_type": "execute_result"
    }
   ],
   "source": [
    "# Number of tweets\n",
    "df_twitter1.count()"
   ]
  },
  {
   "cell_type": "code",
   "execution_count": 7,
   "metadata": {
    "collapsed": false
   },
   "outputs": [
    {
     "name": "stdout",
     "output_type": "stream",
     "text": [
      "+-------------------+--------+---------+--------------------+--------------------+--------------------+\n",
      "|                 id|language|sentiment|            location|                main|                date|\n",
      "+-------------------+--------+---------+--------------------+--------------------+--------------------+\n",
      "|1467622550934000011|      en| POSITIVE|            Schenkon| @beknuesel Fast :-)|2016-07-04T08:51:23Z|\n",
      "|1467661901184400101|      en| NEGATIVE|            Svizzera|@sebdivo @ildivoo...|2016-07-04T17:05:55Z|\n",
      "|1467664145156400055|      en|  NEUTRAL|           Neuchâtel|Need you by my side.|2016-07-04T17:30:19Z|\n",
      "|1467656305452100106|      en| POSITIVE|                null|One Nation. One L...|2016-07-04T16:16:34Z|\n",
      "|1467672681723400019|      en| POSITIVE|         Orlando, FL|Happy Independenc...|2016-07-04T22:05:47Z|\n",
      "|1467663376923900019|      en|  NEUTRAL|         Switzerland|@Moreterm Full of...|2016-07-04T17:21:37Z|\n",
      "|1467670928189100298|      en|  NEUTRAL|         Switzerland|@Antonineone1 You...|2016-07-04T20:46:04Z|\n",
      "|1467672413671200220|      en| POSITIVE|           somewhere|And some love for...|2016-07-04T21:51:31Z|\n",
      "|1467595296452100365|      en| POSITIVE|       United States|Beautiful town #Z...|2016-07-04T00:09:06Z|\n",
      "|1467670456238200051|      en| POSITIVE|           somewhere|These little thin...|2016-07-04T20:27:54Z|\n",
      "|1467631047189100234|      en| POSITIVE|                null|Happy #Independen...|2016-07-04T11:16:18Z|\n",
      "|1467672593115300180|      en| POSITIVE|           somewhere|Happy Birthday Gl...|2016-07-04T22:01:13Z|\n",
      "|1467630962073600130|      en|  NEUTRAL|               India|Students brainsto...|2016-07-04T11:14:01Z|\n",
      "|1467611758163200092|      en| POSITIVE|  Berne, Switzerland|'@IEEEInstitute S...|2016-07-04T05:55:20Z|\n",
      "|1467635198239800107|      en| NEGATIVE|         Switzerland|#Skynews Angela E...|2016-07-04T12:22:54Z|\n",
      "|1467663375452100078|      en| POSITIVE|                null|Sweet dinner espe...|2016-07-04T17:21:35Z|\n",
      "|1467637237170000090|      en| POSITIVE|           Llanberis|Lunch with a spec...|2016-07-04T12:56:17Z|\n",
      "|1467668541189100035|      en| NEGATIVE|                null|i'm addicted to #...|2016-07-04T19:03:04Z|\n",
      "|1467659351170600081|      en| NEGATIVE|         Switzerland|What a toxic char...|2016-07-04T16:42:01Z|\n",
      "|1467649651184700008|      en| POSITIVE|Loughborough, Lei...|Welcome to Switze...|2016-07-04T15:26:43Z|\n",
      "+-------------------+--------+---------+--------------------+--------------------+--------------------+\n",
      "only showing top 20 rows\n",
      "\n"
     ]
    }
   ],
   "source": [
    "df_twitter1.show()"
   ]
  },
  {
   "cell_type": "code",
   "execution_count": 8,
   "metadata": {
    "collapsed": false
   },
   "outputs": [
    {
     "data": {
      "text/plain": [
       "8719750"
      ]
     },
     "execution_count": 8,
     "metadata": {},
     "output_type": "execute_result"
    }
   ],
   "source": [
    "df_twitter1 = df_twitter1.where(col(\"language\").isin({\"en\", \"de\", \"fr\"}))\n",
    "df_twitter1 = df_twitter1.filter(df.sentiment != 'null')\n",
    "df_twitter1.count()"
   ]
  },
  {
   "cell_type": "code",
   "execution_count": 9,
   "metadata": {
    "collapsed": false
   },
   "outputs": [
    {
     "data": {
      "text/plain": [
       "[Row(language='fr', sentiment='NEUTRAL', count=2018350),\n",
       " Row(language='fr', sentiment='POSITIVE', count=53314),\n",
       " Row(language='fr', sentiment='NEGATIVE', count=8254),\n",
       " Row(language='en', sentiment='POSITIVE', count=1423976),\n",
       " Row(language='en', sentiment='NEGATIVE', count=676615),\n",
       " Row(language='en', sentiment='NEUTRAL', count=2333867),\n",
       " Row(language='de', sentiment='NEGATIVE', count=4804),\n",
       " Row(language='de', sentiment='NEUTRAL', count=2102071),\n",
       " Row(language='de', sentiment='POSITIVE', count=98499)]"
      ]
     },
     "execution_count": 9,
     "metadata": {},
     "output_type": "execute_result"
    }
   ],
   "source": [
    "# See main languages\n",
    "df_twitter1.groupBy(['language', 'sentiment']).count().sort(col(\"language\").desc()).collect()"
   ]
  },
  {
   "cell_type": "markdown",
   "metadata": {},
   "source": [
    "### Combining other data"
   ]
  },
  {
   "cell_type": "code",
   "execution_count": 13,
   "metadata": {
    "collapsed": false
   },
   "outputs": [],
   "source": [
    "path2 = 'file:///home/kirtan/Academics/EPFL/sem1/ADA/ADA-Project/twitter_data/gender/'\n",
    "files2 = os.listdir('twitter_data/gender/')\n",
    "\n",
    "df2 = sqlContext.read.parquet(path2 + files2[0])\n",
    "df_twitter2 = df2\n",
    "\n",
    "for f in tqdm(files2[1:]):\n",
    "    temp = sqlContext.read.parquet(path2 + f)\n",
    "    df_twitter2 = df_twitter2.unionAll(temp)\n",
    "    \n",
    "df_twitter2 = df_twitter2.dropDuplicates()"
   ]
  },
  {
   "cell_type": "code",
   "execution_count": 15,
   "metadata": {
    "collapsed": false
   },
   "outputs": [
    {
     "data": {
      "text/plain": [
       "10557432"
      ]
     },
     "execution_count": 15,
     "metadata": {},
     "output_type": "execute_result"
    }
   ],
   "source": [
    "df_twitter2.count()"
   ]
  },
  {
   "cell_type": "code",
   "execution_count": 18,
   "metadata": {
    "collapsed": false
   },
   "outputs": [],
   "source": [
    "combined_df = df_twitter1.join(df_twitter2, df_twitter1.id == df_twitter2.id, 'inner').drop(df_twitter2.id)"
   ]
  },
  {
   "cell_type": "code",
   "execution_count": 17,
   "metadata": {
    "collapsed": false
   },
   "outputs": [
    {
     "data": {
      "text/plain": [
       "8719750"
      ]
     },
     "execution_count": 17,
     "metadata": {},
     "output_type": "execute_result"
    }
   ],
   "source": [
    "combined_df.count()"
   ]
  },
  {
   "cell_type": "code",
   "execution_count": 44,
   "metadata": {
    "collapsed": false
   },
   "outputs": [
    {
     "data": {
      "text/plain": [
       "8500030"
      ]
     },
     "execution_count": 44,
     "metadata": {},
     "output_type": "execute_result"
    }
   ],
   "source": [
    "combined_df = combined_df.dropDuplicates().drop(combined_df.canton)\n",
    "combined_df.count()"
   ]
  },
  {
   "cell_type": "markdown",
   "metadata": {},
   "source": [
    "### Adding more data"
   ]
  },
  {
   "cell_type": "code",
   "execution_count": 20,
   "metadata": {
    "collapsed": true
   },
   "outputs": [],
   "source": [
    "path3 = 'file:///home/kirtan/Academics/EPFL/sem1/ADA/ADA-Project/twitter_data/canton/'\n",
    "files3 = os.listdir('twitter_data/canton')\n",
    "\n",
    "df3 = sqlContext.read.parquet(path3 + files3[0])\n",
    "df_twitter3 = df3\n",
    "\n",
    "for f in tqdm(files3[1:]):\n",
    "    temp = sqlContext.read.parquet(path3 + f)\n",
    "    df_twitter3 = df_twitter3.unionAll(temp)\n",
    "\n",
    "df_twitter3 = df_twitter3.dropDuplicates()\n",
    "final = main_df.join(df_twitter3, combined_df.id == df_twitter3.id, 'left').drop(df_twitter3.id)"
   ]
  },
  {
   "cell_type": "code",
   "execution_count": 35,
   "metadata": {
    "collapsed": false
   },
   "outputs": [
    {
     "data": {
      "text/plain": [
       "8500030"
      ]
     },
     "execution_count": 35,
     "metadata": {},
     "output_type": "execute_result"
    }
   ],
   "source": [
    "final.count()"
   ]
  },
  {
   "cell_type": "code",
   "execution_count": 26,
   "metadata": {
    "collapsed": false
   },
   "outputs": [
    {
     "data": {
      "text/plain": [
       "[Row(language='fr', sentiment='NEUTRAL', count=1963897),\n",
       " Row(language='fr', sentiment='POSITIVE', count=51940),\n",
       " Row(language='fr', sentiment='NEGATIVE', count=8040),\n",
       " Row(language='en', sentiment='POSITIVE', count=1387348),\n",
       " Row(language='en', sentiment='NEGATIVE', count=657896),\n",
       " Row(language='en', sentiment='NEUTRAL', count=2279445),\n",
       " Row(language='de', sentiment='NEGATIVE', count=4679),\n",
       " Row(language='de', sentiment='NEUTRAL', count=2050716),\n",
       " Row(language='de', sentiment='POSITIVE', count=96069)]"
      ]
     },
     "execution_count": 26,
     "metadata": {},
     "output_type": "execute_result"
    }
   ],
   "source": [
    "final.groupBy(['language', 'sentiment']).count().sort(col(\"language\").desc()).collect()"
   ]
  },
  {
   "cell_type": "code",
   "execution_count": 26,
   "metadata": {
    "collapsed": true
   },
   "outputs": [],
   "source": [
    "final = final.where((col('language') == 'en') | (col('sentiment').isin({'POSITIVE', 'NEGATIVE'})))"
   ]
  },
  {
   "cell_type": "code",
   "execution_count": 37,
   "metadata": {
    "collapsed": false
   },
   "outputs": [
    {
     "data": {
      "text/plain": [
       "[Row(language='fr', sentiment='POSITIVE', count=51940),\n",
       " Row(language='fr', sentiment='NEGATIVE', count=8040),\n",
       " Row(language='en', sentiment='POSITIVE', count=1387348),\n",
       " Row(language='en', sentiment='NEGATIVE', count=657896),\n",
       " Row(language='en', sentiment='NEUTRAL', count=2279445),\n",
       " Row(language='de', sentiment='NEGATIVE', count=4679),\n",
       " Row(language='de', sentiment='POSITIVE', count=96069)]"
      ]
     },
     "execution_count": 37,
     "metadata": {},
     "output_type": "execute_result"
    }
   ],
   "source": [
    "final.groupBy(['language', 'sentiment']).count().sort(col(\"language\").desc()).collect()"
   ]
  },
  {
   "cell_type": "code",
   "execution_count": 25,
   "metadata": {
    "collapsed": false
   },
   "outputs": [
    {
     "data": {
      "text/plain": [
       "4485417"
      ]
     },
     "execution_count": 25,
     "metadata": {},
     "output_type": "execute_result"
    }
   ],
   "source": [
    "final.count()"
   ]
  },
  {
   "cell_type": "code",
   "execution_count": 26,
   "metadata": {
    "collapsed": false
   },
   "outputs": [
    {
     "name": "stdout",
     "output_type": "stream",
     "text": [
      "Proportion with a canton: 0.37345312598583363\n"
     ]
    }
   ],
   "source": [
    "print(\"Proportion with a canton:\", final.filter(final.canton != 'null').count()/4485417)"
   ]
  },
  {
   "cell_type": "markdown",
   "metadata": {},
   "source": [
    "### Make dictionary\n",
    "We make a dictionary out of the rows for which we have both canton name and source location to map source location to canton for the remaining rows for which we do not have canton but have source location. The dictionary is stored in small_dict.p. In the next part we simply load this dataframe and continue our analysis."
   ]
  },
  {
   "cell_type": "markdown",
   "metadata": {},
   "source": [
    "## Load saved data"
   ]
  },
  {
   "cell_type": "code",
   "execution_count": 38,
   "metadata": {
    "collapsed": true
   },
   "outputs": [],
   "source": [
    "#pickle.dump( dict_map, open( \"small_dict.p\", \"wb\" ) )\n",
    "#sqlContext.parquet.write('file:///home/kirtan/Academics/EPFL/sem1/ADA/ADA-Project/twitter_data/final_twitter.parquet')"
   ]
  },
  {
   "cell_type": "code",
   "execution_count": null,
   "metadata": {
    "collapsed": true
   },
   "outputs": [],
   "source": [
    "final = sqlContext.read.parquet('file:///home/kirtan/Academics/EPFL/sem1/ADA/ADA-Project/twitter_data/final_twitter.parquet')\n",
    "dict_map =  pickle.load( open( \"small_dict.p\", \"rb\" ) )"
   ]
  },
  {
   "cell_type": "markdown",
   "metadata": {},
   "source": [
    "### Process the dataframe to get it in the form we need for visualisation\n",
    "We start with getting the canton value which is not given to us for all the tweets"
   ]
  },
  {
   "cell_type": "code",
   "execution_count": 4,
   "metadata": {
    "collapsed": false
   },
   "outputs": [],
   "source": [
    "def map_location(value):\n",
    "    if value in dict_map.keys():\n",
    "        return(dict_map[value])\n",
    "    else:\n",
    "        return('null')\n",
    "udfmap = udf(map_location, StringType())\n",
    "final_loc = final.withColumn('canton_', udfmap(\"location\"))\n",
    "final = final_loc.drop(final_loc.canton)"
   ]
  },
  {
   "cell_type": "code",
   "execution_count": 22,
   "metadata": {
    "collapsed": false
   },
   "outputs": [
    {
     "name": "stdout",
     "output_type": "stream",
     "text": [
      "Proportion with a canton: 0.9803710558015007\n"
     ]
    }
   ],
   "source": [
    "print(\"Proportion with a canton:\", final_loc.filter(final_loc.canton_ != 'null').count()/final_loc.count())"
   ]
  },
  {
   "cell_type": "code",
   "execution_count": 25,
   "metadata": {
    "collapsed": false
   },
   "outputs": [
    {
     "data": {
      "text/plain": [
       "33"
      ]
     },
     "execution_count": 25,
     "metadata": {},
     "output_type": "execute_result"
    }
   ],
   "source": [
    "len(set(dict_map.values()))"
   ]
  },
  {
   "cell_type": "markdown",
   "metadata": {},
   "source": [
    "We have some fake cantons. We manually identify them and delete them."
   ]
  },
  {
   "cell_type": "code",
   "execution_count": 7,
   "metadata": {
    "collapsed": true
   },
   "outputs": [],
   "source": [
    "bad = ['Baden-Württemberg', 'Bavaria', 'Kocaeli', 'Lower Silesian Voivodeship', 'Maha Sarakham', 'Rio de Janeiro', 'São Paulo', 'null']\n",
    "final = final.drop(final.location)"
   ]
  },
  {
   "cell_type": "code",
   "execution_count": 29,
   "metadata": {
    "collapsed": false
   },
   "outputs": [
    {
     "name": "stdout",
     "output_type": "stream",
     "text": [
      "+-------------------+--------+---------+--------------------+--------------------+-------+----------+\n",
      "|                 id|language|sentiment|                main|                date| gender|   canton_|\n",
      "+-------------------+--------+---------+--------------------+--------------------+-------+----------+\n",
      "|1451606716000000246|      en|  NEUTRAL|Gregory Larsen - ...|2016-01-01T00:04:33Z|UNKNOWN|    Zurich|\n",
      "|1451606971000001136|      en|  NEUTRAL|@killMOOSEkill @W...|2016-01-01T00:04:02Z|UNKNOWN|      Vaud|\n",
      "|1451611676000005396|      en|  NEUTRAL|Leave charging 20...|2016-01-01T01:27:19Z|UNKNOWN|      Vaud|\n",
      "|1451612158000004904|      en|  NEUTRAL|Happy new year fr...|2016-01-01T01:35:30Z|UNKNOWN|    Glarus|\n",
      "|1451612584000003207|      en|  NEUTRAL|@Yanruliu1 Accord...|2016-01-01T01:42:39Z|UNKNOWN|    Zurich|\n",
      "|1451625427000008147|      en|  NEUTRAL|AccentForex | “Ca...|2016-01-01T05:16:46Z|UNKNOWN|      Vaud|\n",
      "|1451637836000007370|      en|  NEUTRAL|@malcolm_fox2 Che...|2016-01-01T08:43:22Z|UNKNOWN|      Vaud|\n",
      "|1451640479000009658|      en|  NEUTRAL|@Plichta part2: D...|2016-01-01T09:27:26Z|UNKNOWN|      Vaud|\n",
      "|1451644118000007621|      en|  NEUTRAL|#HappyNewYear Red...|2016-01-01T10:28:02Z|UNKNOWN|    Zurich|\n",
      "|1451644142000007785|      en|  NEUTRAL|2016 - The Year o...|2016-01-01T10:28:15Z|   MALE|    Geneva|\n",
      "|1451644400000004886|      en|  NEUTRAL|@Ionicframework u...|2016-01-01T10:32:55Z|UNKNOWN|Basel-City|\n",
      "|1451644797000008003|      en|  NEUTRAL|    Happy New Year !|2016-01-01T10:39:04Z|UNKNOWN|      Vaud|\n",
      "|1451650095000012198|      en|  NEUTRAL|Year 2015: Black-...|2016-01-01T12:03:08Z| FEMALE|      Vaud|\n",
      "|1451650370000012275|      en|  NEUTRAL|Chou ^^ https://t...|2016-01-01T12:04:30Z|UNKNOWN|    Valais|\n",
      "|1451652444000013593|      en|  NEUTRAL|Hyun Song Shin, B...|2016-01-01T12:47:00Z|UNKNOWN|    Zurich|\n",
      "|1451653626000003104|      en|  NEUTRAL|Cant wait for all...|2016-01-01T13:05:41Z| FEMALE|      Vaud|\n",
      "|1451654249000000666|      en|  NEUTRAL|Transl. Happy New...|2016-01-01T13:17:02Z| FEMALE|      Vaud|\n",
      "|1451654961000007637|      en|  NEUTRAL|The Swisstorage D...|2016-01-01T13:28:55Z|UNKNOWN|      Vaud|\n",
      "|1451655307000012144|      en|  NEUTRAL|Navys ; so when i...|2016-01-01T13:34:05Z| FEMALE|      Vaud|\n",
      "|1451656447000014018|      en|  NEUTRAL|But, 2016 Here I ...|2016-01-01T13:53:45Z| FEMALE|    Geneva|\n",
      "+-------------------+--------+---------+--------------------+--------------------+-------+----------+\n",
      "only showing top 20 rows\n",
      "\n"
     ]
    }
   ],
   "source": [
    "final.show()"
   ]
  },
  {
   "cell_type": "code",
   "execution_count": 30,
   "metadata": {
    "collapsed": false
   },
   "outputs": [
    {
     "data": {
      "text/plain": [
       "[Row(language='fr', sentiment='POSITIVE', count=51940),\n",
       " Row(language='fr', sentiment='NEGATIVE', count=8040),\n",
       " Row(language='en', sentiment='POSITIVE', count=1387348),\n",
       " Row(language='en', sentiment='NEGATIVE', count=657896),\n",
       " Row(language='en', sentiment='NEUTRAL', count=2279445),\n",
       " Row(language='de', sentiment='NEGATIVE', count=4679),\n",
       " Row(language='de', sentiment='POSITIVE', count=96069)]"
      ]
     },
     "execution_count": 30,
     "metadata": {},
     "output_type": "execute_result"
    }
   ],
   "source": [
    "final.groupBy(['language', 'sentiment']).count().sort(col(\"language\").desc()).collect()"
   ]
  },
  {
   "cell_type": "code",
   "execution_count": 10,
   "metadata": {
    "collapsed": true
   },
   "outputs": [],
   "source": [
    "def time_of_day(iso_time):\n",
    "    time_struct = time.strptime(iso_time, \"%Y-%m-%dT%H:%M:%SZ\")\n",
    "    hour = time_struct.tm_hour\n",
    "    if 6 <= hour < 18:\n",
    "        return \"Day\"\n",
    "    else:\n",
    "        return \"Night\"\n",
    "\n",
    "def month(iso_time):\n",
    "    time_struct = time.strptime(iso_time, \"%Y-%m-%dT%H:%M:%SZ\")\n",
    "    return time_struct.tm_mon\n",
    "\n",
    "def sentiment_map(sentiment):\n",
    "    if(sentiment == 'NEGATIVE'):\n",
    "        return(-1)\n",
    "    elif(sentiment == 'POSITIVE'):\n",
    "        return(1)\n",
    "    elif(sentiment == 'NEUTRAL'):\n",
    "        return(0)\n",
    "    else:\n",
    "        return(2)"
   ]
  },
  {
   "cell_type": "code",
   "execution_count": 13,
   "metadata": {
    "collapsed": true
   },
   "outputs": [],
   "source": [
    "udfTOD = udf(time_of_day, StringType())\n",
    "udfMonth = udf(month, StringType())\n",
    "udfSenti = udf(sentiment_map, IntegerType())"
   ]
  },
  {
   "cell_type": "code",
   "execution_count": 14,
   "metadata": {
    "collapsed": true
   },
   "outputs": [],
   "source": [
    "final = final.withColumn('time_period', udfTOD(\"date\"))\n",
    "final = final.withColumn('month', udfMonth(\"date\"))\n",
    "final = final.withColumn('sentiment_', udfSenti(\"sentiment\"))"
   ]
  },
  {
   "cell_type": "code",
   "execution_count": 41,
   "metadata": {
    "collapsed": false
   },
   "outputs": [
    {
     "name": "stdout",
     "output_type": "stream",
     "text": [
      "+-------------------+--------+---------+--------------------+--------------------+-------+----------+-----------+-----+----------+\n",
      "|                 id|language|sentiment|                main|                date| gender|   canton_|time_period|month|sentiment_|\n",
      "+-------------------+--------+---------+--------------------+--------------------+-------+----------+-----------+-----+----------+\n",
      "|1451606716000000246|      en|  NEUTRAL|Gregory Larsen - ...|2016-01-01T00:04:33Z|UNKNOWN|    Zurich|      Night|    1|         0|\n",
      "|1451606971000001136|      en|  NEUTRAL|@killMOOSEkill @W...|2016-01-01T00:04:02Z|UNKNOWN|      Vaud|      Night|    1|         0|\n",
      "|1451611676000005396|      en|  NEUTRAL|Leave charging 20...|2016-01-01T01:27:19Z|UNKNOWN|      Vaud|      Night|    1|         0|\n",
      "|1451612158000004904|      en|  NEUTRAL|Happy new year fr...|2016-01-01T01:35:30Z|UNKNOWN|    Glarus|      Night|    1|         0|\n",
      "|1451612584000003207|      en|  NEUTRAL|@Yanruliu1 Accord...|2016-01-01T01:42:39Z|UNKNOWN|    Zurich|      Night|    1|         0|\n",
      "|1451625427000008147|      en|  NEUTRAL|AccentForex | “Ca...|2016-01-01T05:16:46Z|UNKNOWN|      Vaud|      Night|    1|         0|\n",
      "|1451637836000007370|      en|  NEUTRAL|@malcolm_fox2 Che...|2016-01-01T08:43:22Z|UNKNOWN|      Vaud|        Day|    1|         0|\n",
      "|1451640479000009658|      en|  NEUTRAL|@Plichta part2: D...|2016-01-01T09:27:26Z|UNKNOWN|      Vaud|        Day|    1|         0|\n",
      "|1451644118000007621|      en|  NEUTRAL|#HappyNewYear Red...|2016-01-01T10:28:02Z|UNKNOWN|    Zurich|        Day|    1|         0|\n",
      "|1451644142000007785|      en|  NEUTRAL|2016 - The Year o...|2016-01-01T10:28:15Z|   MALE|    Geneva|        Day|    1|         0|\n",
      "|1451644400000004886|      en|  NEUTRAL|@Ionicframework u...|2016-01-01T10:32:55Z|UNKNOWN|Basel-City|        Day|    1|         0|\n",
      "|1451644797000008003|      en|  NEUTRAL|    Happy New Year !|2016-01-01T10:39:04Z|UNKNOWN|      Vaud|        Day|    1|         0|\n",
      "|1451650095000012198|      en|  NEUTRAL|Year 2015: Black-...|2016-01-01T12:03:08Z| FEMALE|      Vaud|        Day|    1|         0|\n",
      "|1451650370000012275|      en|  NEUTRAL|Chou ^^ https://t...|2016-01-01T12:04:30Z|UNKNOWN|    Valais|        Day|    1|         0|\n",
      "|1451652444000013593|      en|  NEUTRAL|Hyun Song Shin, B...|2016-01-01T12:47:00Z|UNKNOWN|    Zurich|        Day|    1|         0|\n",
      "|1451653626000003104|      en|  NEUTRAL|Cant wait for all...|2016-01-01T13:05:41Z| FEMALE|      Vaud|        Day|    1|         0|\n",
      "|1451654249000000666|      en|  NEUTRAL|Transl. Happy New...|2016-01-01T13:17:02Z| FEMALE|      Vaud|        Day|    1|         0|\n",
      "|1451654961000007637|      en|  NEUTRAL|The Swisstorage D...|2016-01-01T13:28:55Z|UNKNOWN|      Vaud|        Day|    1|         0|\n",
      "|1451655307000012144|      en|  NEUTRAL|Navys ; so when i...|2016-01-01T13:34:05Z| FEMALE|      Vaud|        Day|    1|         0|\n",
      "|1451656447000014018|      en|  NEUTRAL|But, 2016 Here I ...|2016-01-01T13:53:45Z| FEMALE|    Geneva|        Day|    1|         0|\n",
      "+-------------------+--------+---------+--------------------+--------------------+-------+----------+-----------+-----+----------+\n",
      "only showing top 20 rows\n",
      "\n"
     ]
    }
   ],
   "source": [
    "final.show()"
   ]
  },
  {
   "cell_type": "code",
   "execution_count": 17,
   "metadata": {
    "collapsed": true
   },
   "outputs": [],
   "source": [
    "final = final.drop(final.sentiment).drop(final.date)\n",
    "for b in bad:\n",
    "    final = final.filter(final.canton_ != b)"
   ]
  },
  {
   "cell_type": "code",
   "execution_count": 24,
   "metadata": {
    "collapsed": false
   },
   "outputs": [
    {
     "name": "stdout",
     "output_type": "stream",
     "text": [
      "+-------------------+--------+--------------------+-------+----------+-----------+-----+----------+---+\n",
      "|                 id|language|                main| gender|   canton_|time_period|month|sentiment_|tmp|\n",
      "+-------------------+--------+--------------------+-------+----------+-----------+-----+----------+---+\n",
      "|1451606716000000246|      en|Gregory Larsen - ...|UNKNOWN|    Zurich|      Night|    1|         0|  1|\n",
      "|1451606971000001136|      en|@killMOOSEkill @W...|UNKNOWN|      Vaud|      Night|    1|         0|  1|\n",
      "|1451611676000005396|      en|Leave charging 20...|UNKNOWN|      Vaud|      Night|    1|         0|  1|\n",
      "|1451612158000004904|      en|Happy new year fr...|UNKNOWN|    Glarus|      Night|    1|         0|  1|\n",
      "|1451612584000003207|      en|@Yanruliu1 Accord...|UNKNOWN|    Zurich|      Night|    1|         0|  1|\n",
      "|1451625427000008147|      en|AccentForex | “Ca...|UNKNOWN|      Vaud|      Night|    1|         0|  1|\n",
      "|1451637836000007370|      en|@malcolm_fox2 Che...|UNKNOWN|      Vaud|        Day|    1|         0|  1|\n",
      "|1451640479000009658|      en|@Plichta part2: D...|UNKNOWN|      Vaud|        Day|    1|         0|  1|\n",
      "|1451644118000007621|      en|#HappyNewYear Red...|UNKNOWN|    Zurich|        Day|    1|         0|  1|\n",
      "|1451644142000007785|      en|2016 - The Year o...|   MALE|    Geneva|        Day|    1|         0|  1|\n",
      "|1451644400000004886|      en|@Ionicframework u...|UNKNOWN|Basel-City|        Day|    1|         0|  1|\n",
      "|1451644797000008003|      en|    Happy New Year !|UNKNOWN|      Vaud|        Day|    1|         0|  1|\n",
      "|1451650095000012198|      en|Year 2015: Black-...| FEMALE|      Vaud|        Day|    1|         0|  1|\n",
      "|1451650370000012275|      en|Chou ^^ https://t...|UNKNOWN|    Valais|        Day|    1|         0|  1|\n",
      "|1451652444000013593|      en|Hyun Song Shin, B...|UNKNOWN|    Zurich|        Day|    1|         0|  1|\n",
      "|1451653626000003104|      en|Cant wait for all...| FEMALE|      Vaud|        Day|    1|         0|  1|\n",
      "|1451654249000000666|      en|Transl. Happy New...| FEMALE|      Vaud|        Day|    1|         0|  1|\n",
      "|1451654961000007637|      en|The Swisstorage D...|UNKNOWN|      Vaud|        Day|    1|         0|  1|\n",
      "|1451655307000012144|      en|Navys ; so when i...| FEMALE|      Vaud|        Day|    1|         0|  1|\n",
      "|1451656447000014018|      en|But, 2016 Here I ...| FEMALE|    Geneva|        Day|    1|         0|  1|\n",
      "+-------------------+--------+--------------------+-------+----------+-----------+-----+----------+---+\n",
      "only showing top 20 rows\n",
      "\n"
     ]
    }
   ],
   "source": [
    "final.show()"
   ]
  },
  {
   "cell_type": "code",
   "execution_count": 19,
   "metadata": {
    "collapsed": false
   },
   "outputs": [],
   "source": [
    "final = final.withColumn('tmp', lit(1))\n",
    "final = final.drop(final.id).drop(final.main)"
   ]
  },
  {
   "cell_type": "code",
   "execution_count": 30,
   "metadata": {
    "collapsed": false
   },
   "outputs": [
    {
     "name": "stdout",
     "output_type": "stream",
     "text": [
      "+--------+-------+----------+-----------+-----+----------+---+\n",
      "|language| gender|   canton_|time_period|month|sentiment_|tmp|\n",
      "+--------+-------+----------+-----------+-----+----------+---+\n",
      "|      en|UNKNOWN|    Zurich|      Night|    1|         0|  1|\n",
      "|      en|UNKNOWN|      Vaud|      Night|    1|         0|  1|\n",
      "|      en|UNKNOWN|      Vaud|      Night|    1|         0|  1|\n",
      "|      en|UNKNOWN|    Glarus|      Night|    1|         0|  1|\n",
      "|      en|UNKNOWN|    Zurich|      Night|    1|         0|  1|\n",
      "|      en|UNKNOWN|      Vaud|      Night|    1|         0|  1|\n",
      "|      en|UNKNOWN|      Vaud|        Day|    1|         0|  1|\n",
      "|      en|UNKNOWN|      Vaud|        Day|    1|         0|  1|\n",
      "|      en|UNKNOWN|    Zurich|        Day|    1|         0|  1|\n",
      "|      en|   MALE|    Geneva|        Day|    1|         0|  1|\n",
      "|      en|UNKNOWN|Basel-City|        Day|    1|         0|  1|\n",
      "|      en|UNKNOWN|      Vaud|        Day|    1|         0|  1|\n",
      "|      en| FEMALE|      Vaud|        Day|    1|         0|  1|\n",
      "|      en|UNKNOWN|    Valais|        Day|    1|         0|  1|\n",
      "|      en|UNKNOWN|    Zurich|        Day|    1|         0|  1|\n",
      "|      en| FEMALE|      Vaud|        Day|    1|         0|  1|\n",
      "|      en| FEMALE|      Vaud|        Day|    1|         0|  1|\n",
      "|      en|UNKNOWN|      Vaud|        Day|    1|         0|  1|\n",
      "|      en| FEMALE|      Vaud|        Day|    1|         0|  1|\n",
      "|      en| FEMALE|    Geneva|        Day|    1|         0|  1|\n",
      "+--------+-------+----------+-----------+-----+----------+---+\n",
      "only showing top 20 rows\n",
      "\n"
     ]
    }
   ],
   "source": [
    "final.show()"
   ]
  },
  {
   "cell_type": "code",
   "execution_count": 28,
   "metadata": {
    "collapsed": false
   },
   "outputs": [],
   "source": [
    "#final.write.parquet('file:///home/kirtan/Academics/EPFL/sem1/ADA/ADA-Project/twitter_data/final_twitter1.parquet')"
   ]
  },
  {
   "cell_type": "markdown",
   "metadata": {},
   "source": [
    "### Load prepared dataframe"
   ]
  },
  {
   "cell_type": "code",
   "execution_count": 4,
   "metadata": {
    "collapsed": false
   },
   "outputs": [],
   "source": [
    "final = sqlContext.read.parquet('file:///home/kirtan/Academics/EPFL/sem1/ADA/ADA-Project/twitter_data/final_twitter2.parquet')"
   ]
  },
  {
   "cell_type": "code",
   "execution_count": 5,
   "metadata": {
    "collapsed": false
   },
   "outputs": [
    {
     "name": "stdout",
     "output_type": "stream",
     "text": [
      "+--------+-------+----------+-----------+-----+----------+---+\n",
      "|language| gender|   canton_|time_period|month|sentiment_|tmp|\n",
      "+--------+-------+----------+-----------+-----+----------+---+\n",
      "|      en|UNKNOWN|      Vaud|      Night|    1|         0|  1|\n",
      "|      en|UNKNOWN|      Vaud|      Night|    1|         0|  1|\n",
      "|      en|UNKNOWN|    Ticino|      Night|    1|         0|  1|\n",
      "|      en| FEMALE|      Vaud|      Night|    1|         0|  1|\n",
      "|      en|   MALE|      Vaud|      Night|    1|         0|  1|\n",
      "|      en|UNKNOWN|      Vaud|      Night|    1|         0|  1|\n",
      "|      en|UNKNOWN|      Vaud|        Day|    1|         0|  1|\n",
      "|      en|   MALE|      Vaud|        Day|    1|         0|  1|\n",
      "|      en|UNKNOWN|    Geneva|        Day|    1|         0|  1|\n",
      "|      en|UNKNOWN|      Vaud|        Day|    1|         0|  1|\n",
      "|      en|UNKNOWN|    Geneva|        Day|    1|         0|  1|\n",
      "|      en|UNKNOWN|      Vaud|        Day|    1|         0|  1|\n",
      "|      en|UNKNOWN|Basel-City|        Day|    1|         0|  1|\n",
      "|      en| FEMALE|    Zurich|        Day|    1|         0|  1|\n",
      "|      en|UNKNOWN|    Zurich|        Day|    1|         0|  1|\n",
      "|      en|UNKNOWN|Basel-City|        Day|    1|         0|  1|\n",
      "|      en|UNKNOWN|      Bern|        Day|    1|         0|  1|\n",
      "|      en| FEMALE|      Vaud|        Day|    1|         0|  1|\n",
      "|      en|   MALE|      Vaud|        Day|    1|         0|  1|\n",
      "|      en|   MALE|      Vaud|        Day|    1|         0|  1|\n",
      "+--------+-------+----------+-----------+-----+----------+---+\n",
      "only showing top 20 rows\n",
      "\n"
     ]
    }
   ],
   "source": [
    "final.show()"
   ]
  },
  {
   "cell_type": "code",
   "execution_count": 7,
   "metadata": {
    "collapsed": false
   },
   "outputs": [],
   "source": [
    "final = final.groupBy('canton_', 'month', 'language', 'gender', 'time_period').agg((func.sum('sentiment_')/func.sum('tmp')).alias('avg_sentiment'), func.sum('tmp').alias('count'))"
   ]
  },
  {
   "cell_type": "code",
   "execution_count": 8,
   "metadata": {
    "collapsed": false
   },
   "outputs": [
    {
     "name": "stdout",
     "output_type": "stream",
     "text": [
      "+--------------------+-----+--------+-------+-----------+-------------------+-----+\n",
      "|             canton_|month|language| gender|time_period|      avg_sentiment|count|\n",
      "+--------------------+-----+--------+-------+-----------+-------------------+-----+\n",
      "|          Basel-City|    7|      en|   MALE|        Day|0.16316931982633864| 2764|\n",
      "|              Geneva|    8|      en|   MALE|        Day|0.13686382393397525|13086|\n",
      "|           Solothurn|    9|      en| FEMALE|      Night| 0.2608695652173913|   69|\n",
      "|              Schwyz|    5|      en|UNKNOWN|        Day|                0.5|    6|\n",
      "|          Basel-City|    9|      fr|UNKNOWN|      Night|                1.0|    2|\n",
      "|             Thurgau|    8|      en|   MALE|        Day|0.10526315789473684|   19|\n",
      "|    Basel-Landschaft|    5|      en| FEMALE|        Day|                0.2|    5|\n",
      "|              Glarus|    4|      en|   MALE|        Day|                1.0|    1|\n",
      "|          Basel-City|    1|      de|UNKNOWN|        Day| 0.8735042735042735|  585|\n",
      "|                Vaud|    4|      fr|   MALE|        Day| 0.8545454545454545|  220|\n",
      "|           Neuchâtel|    8|      en|   MALE|        Day| 0.3333333333333333|  192|\n",
      "|              Aargau|    8|      en|   MALE|        Day|               0.16|   50|\n",
      "|              Zurich|    7|      de|UNKNOWN|        Day| 0.8717948717948718|  156|\n",
      "|            Obwalden|    8|      en|UNKNOWN|      Night|0.05405405405405406|   37|\n",
      "|              Aargau|   10|      en| FEMALE|        Day|                0.1|   10|\n",
      "|             Thurgau|    2|      de|UNKNOWN|        Day|                1.0|    5|\n",
      "|                Bern|    6|      de|   MALE|      Night| 0.9069767441860465|   43|\n",
      "|              Zurich|    7|      fr|   MALE|      Night|                1.0|    2|\n",
      "|        Schaffhausen|    5|      de|UNKNOWN|        Day|                1.0|    5|\n",
      "|Appenzell Ausserr...|    5|      de|   MALE|        Day|                1.0|    2|\n",
      "+--------------------+-----+--------+-------+-----------+-------------------+-----+\n",
      "only showing top 20 rows\n",
      "\n"
     ]
    }
   ],
   "source": [
    "final.show()"
   ]
  },
  {
   "cell_type": "code",
   "execution_count": 9,
   "metadata": {
    "collapsed": false
   },
   "outputs": [],
   "source": [
    "# Rename Columns\n",
    "final = final.selectExpr(\"canton_ as canton\", \"month as month\", \"language as language\", \"gender as gender\", \"time_period as time_period\",\n",
    "                  \"avg_sentiment as avg_sentiment\", \"count as count\")"
   ]
  },
  {
   "cell_type": "code",
   "execution_count": 10,
   "metadata": {
    "collapsed": false
   },
   "outputs": [
    {
     "name": "stdout",
     "output_type": "stream",
     "text": [
      "+--------------------+-----+--------+-------+-----------+-------------------+-----+\n",
      "|              canton|month|language| gender|time_period|      avg_sentiment|count|\n",
      "+--------------------+-----+--------+-------+-----------+-------------------+-----+\n",
      "|          Basel-City|    7|      en|   MALE|        Day|0.16316931982633864| 2764|\n",
      "|              Geneva|    8|      en|   MALE|        Day|0.13686382393397525|13086|\n",
      "|           Solothurn|    9|      en| FEMALE|      Night| 0.2608695652173913|   69|\n",
      "|              Schwyz|    5|      en|UNKNOWN|        Day|                0.5|    6|\n",
      "|          Basel-City|    9|      fr|UNKNOWN|      Night|                1.0|    2|\n",
      "|             Thurgau|    8|      en|   MALE|        Day|0.10526315789473684|   19|\n",
      "|    Basel-Landschaft|    5|      en| FEMALE|        Day|                0.2|    5|\n",
      "|              Glarus|    4|      en|   MALE|        Day|                1.0|    1|\n",
      "|          Basel-City|    1|      de|UNKNOWN|        Day| 0.8735042735042735|  585|\n",
      "|                Vaud|    4|      fr|   MALE|        Day| 0.8545454545454545|  220|\n",
      "|           Neuchâtel|    8|      en|   MALE|        Day| 0.3333333333333333|  192|\n",
      "|              Aargau|    8|      en|   MALE|        Day|               0.16|   50|\n",
      "|              Zurich|    7|      de|UNKNOWN|        Day| 0.8717948717948718|  156|\n",
      "|            Obwalden|    8|      en|UNKNOWN|      Night|0.05405405405405406|   37|\n",
      "|              Aargau|   10|      en| FEMALE|        Day|                0.1|   10|\n",
      "|             Thurgau|    2|      de|UNKNOWN|        Day|                1.0|    5|\n",
      "|                Bern|    6|      de|   MALE|      Night| 0.9069767441860465|   43|\n",
      "|              Zurich|    7|      fr|   MALE|      Night|                1.0|    2|\n",
      "|        Schaffhausen|    5|      de|UNKNOWN|        Day|                1.0|    5|\n",
      "|Appenzell Ausserr...|    5|      de|   MALE|        Day|                1.0|    2|\n",
      "+--------------------+-----+--------+-------+-----------+-------------------+-----+\n",
      "only showing top 20 rows\n",
      "\n"
     ]
    }
   ],
   "source": [
    "final.show()"
   ]
  },
  {
   "cell_type": "code",
   "execution_count": 11,
   "metadata": {
    "collapsed": true
   },
   "outputs": [],
   "source": [
    "#final.write.parquet('file:///home/kirtan/Academics/EPFL/sem1/ADA/ADA-Project/twitter_data/final_twitter3.parquet')"
   ]
  },
  {
   "cell_type": "code",
   "execution_count": 12,
   "metadata": {
    "collapsed": false
   },
   "outputs": [
    {
     "data": {
      "text/plain": [
       "2448"
      ]
     },
     "execution_count": 12,
     "metadata": {},
     "output_type": "execute_result"
    }
   ],
   "source": [
    "final.count()"
   ]
  },
  {
   "cell_type": "code",
   "execution_count": 13,
   "metadata": {
    "collapsed": true
   },
   "outputs": [],
   "source": [
    "fp = final.toPandas()"
   ]
  },
  {
   "cell_type": "code",
   "execution_count": 14,
   "metadata": {
    "collapsed": false
   },
   "outputs": [],
   "source": [
    "# Dataframe to be used for visualisation\n",
    "fp.to_csv('twitter_data/twitter.csv', sep=',', encoding='utf-8')"
   ]
  }
 ],
 "metadata": {
  "anaconda-cloud": {},
  "kernelspec": {
   "display_name": "Python [default]",
   "language": "python",
   "name": "python3"
  },
  "language_info": {
   "codemirror_mode": {
    "name": "ipython",
    "version": 3
   },
   "file_extension": ".py",
   "mimetype": "text/x-python",
   "name": "python",
   "nbconvert_exporter": "python",
   "pygments_lexer": "ipython3",
   "version": "3.5.2"
  }
 },
 "nbformat": 4,
 "nbformat_minor": 0
}
