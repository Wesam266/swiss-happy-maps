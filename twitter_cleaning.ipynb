{
 "cells": [
  {
   "cell_type": "markdown",
   "metadata": {},
   "source": [
    "## Getting and saving the cleaned twitter data\n",
    "* We get the necessary columns for the twitter data from the  .json files by running the code on the cluster and saving the dataframes as parquet.\n",
    "* The code to get the data is in cleaned_twitter.py"
   ]
  },
  {
   "cell_type": "code",
   "execution_count": 22,
   "metadata": {
    "collapsed": false
   },
   "outputs": [],
   "source": [
    "import pandas as pd\n",
    "import os\n",
    "from tqdm import tqdm\n",
    "from pyspark import SparkConf, HiveContext\n",
    "import pyspark.sql\n",
    "from pyspark.sql.types import *\n",
    "from pyspark.sql import SQLContext\n",
    "from pyspark.sql.functions import col\n",
    "import pyspark.sql.functions as func\n",
    "from pyspark.sql.functions import udf\n",
    "import pickle\n",
    "\n",
    "\n",
    "conf = SparkConf().setAppName(\"ADA-gcl\")\n",
    "#sc = SparkContext(conf=conf)\n",
    "sqlContext = HiveContext(sc)\n",
    "#sqlContext.setConf(\"spark.sql.parquet.compression.codec\", \"snappy\")\n"
   ]
  },
  {
   "cell_type": "markdown",
   "metadata": {},
   "source": [
    "## Load the parquet data"
   ]
  },
  {
   "cell_type": "code",
   "execution_count": 7,
   "metadata": {
    "collapsed": false
   },
   "outputs": [],
   "source": [
    "base_path = 'file:///home/kirtan/Academics/EPFL/sem1/ADA/ADA-Project/twitter_data/cleaned/'\n",
    "files = os.listdir('twitter_data/cleaned')"
   ]
  },
  {
   "cell_type": "code",
   "execution_count": 8,
   "metadata": {
    "collapsed": false
   },
   "outputs": [],
   "source": [
    "df = sqlContext.read.parquet(base_path+files[0])"
   ]
  },
  {
   "cell_type": "code",
   "execution_count": 9,
   "metadata": {
    "collapsed": false
   },
   "outputs": [],
   "source": [
    "df_twitter = df"
   ]
  },
  {
   "cell_type": "code",
   "execution_count": 10,
   "metadata": {
    "collapsed": false
   },
   "outputs": [
    {
     "name": "stderr",
     "output_type": "stream",
     "text": []
    }
   ],
   "source": [
    "for f in tqdm(files[1:]):\n",
    "    temp = sqlContext.read.parquet(base_path + f)\n",
    "    df_twitter = df_twitter.unionAll(temp)\n",
    "   \n",
    "    "
   ]
  },
  {
   "cell_type": "code",
   "execution_count": 6,
   "metadata": {
    "collapsed": false
   },
   "outputs": [
    {
     "data": {
      "text/plain": [
       "10828070"
      ]
     },
     "execution_count": 6,
     "metadata": {},
     "output_type": "execute_result"
    }
   ],
   "source": [
    "# Number of tweets\n",
    "df_twitter.count()"
   ]
  },
  {
   "cell_type": "code",
   "execution_count": 7,
   "metadata": {
    "collapsed": false
   },
   "outputs": [
    {
     "name": "stdout",
     "output_type": "stream",
     "text": [
      "+-------------------+--------+---------+--------------------+--------------------+--------------------+\n",
      "|                 id|language|sentiment|            location|                main|                date|\n",
      "+-------------------+--------+---------+--------------------+--------------------+--------------------+\n",
      "|1467622550934000011|      en| POSITIVE|            Schenkon| @beknuesel Fast :-)|2016-07-04T08:51:23Z|\n",
      "|1467661901184400101|      en| NEGATIVE|            Svizzera|@sebdivo @ildivoo...|2016-07-04T17:05:55Z|\n",
      "|1467664145156400055|      en|  NEUTRAL|           Neuchâtel|Need you by my side.|2016-07-04T17:30:19Z|\n",
      "|1467656305452100106|      en| POSITIVE|                null|One Nation. One L...|2016-07-04T16:16:34Z|\n",
      "|1467672681723400019|      en| POSITIVE|         Orlando, FL|Happy Independenc...|2016-07-04T22:05:47Z|\n",
      "|1467663376923900019|      en|  NEUTRAL|         Switzerland|@Moreterm Full of...|2016-07-04T17:21:37Z|\n",
      "|1467670928189100298|      en|  NEUTRAL|         Switzerland|@Antonineone1 You...|2016-07-04T20:46:04Z|\n",
      "|1467672413671200220|      en| POSITIVE|           somewhere|And some love for...|2016-07-04T21:51:31Z|\n",
      "|1467595296452100365|      en| POSITIVE|       United States|Beautiful town #Z...|2016-07-04T00:09:06Z|\n",
      "|1467670456238200051|      en| POSITIVE|           somewhere|These little thin...|2016-07-04T20:27:54Z|\n",
      "|1467631047189100234|      en| POSITIVE|                null|Happy #Independen...|2016-07-04T11:16:18Z|\n",
      "|1467672593115300180|      en| POSITIVE|           somewhere|Happy Birthday Gl...|2016-07-04T22:01:13Z|\n",
      "|1467630962073600130|      en|  NEUTRAL|               India|Students brainsto...|2016-07-04T11:14:01Z|\n",
      "|1467611758163200092|      en| POSITIVE|  Berne, Switzerland|'@IEEEInstitute S...|2016-07-04T05:55:20Z|\n",
      "|1467635198239800107|      en| NEGATIVE|         Switzerland|#Skynews Angela E...|2016-07-04T12:22:54Z|\n",
      "|1467663375452100078|      en| POSITIVE|                null|Sweet dinner espe...|2016-07-04T17:21:35Z|\n",
      "|1467637237170000090|      en| POSITIVE|           Llanberis|Lunch with a spec...|2016-07-04T12:56:17Z|\n",
      "|1467668541189100035|      en| NEGATIVE|                null|i'm addicted to #...|2016-07-04T19:03:04Z|\n",
      "|1467659351170600081|      en| NEGATIVE|         Switzerland|What a toxic char...|2016-07-04T16:42:01Z|\n",
      "|1467649651184700008|      en| POSITIVE|Loughborough, Lei...|Welcome to Switze...|2016-07-04T15:26:43Z|\n",
      "+-------------------+--------+---------+--------------------+--------------------+--------------------+\n",
      "only showing top 20 rows\n",
      "\n"
     ]
    }
   ],
   "source": [
    "df_twitter.show()"
   ]
  },
  {
   "cell_type": "code",
   "execution_count": 11,
   "metadata": {
    "collapsed": false
   },
   "outputs": [],
   "source": [
    "# Keeping only the major languages\n",
    "t1 = df_twitter.where(col(\"language\").isin({\"en\", \"de\", \"fr\"}))"
   ]
  },
  {
   "cell_type": "code",
   "execution_count": 12,
   "metadata": {
    "collapsed": false
   },
   "outputs": [],
   "source": [
    "# Removing those which do not have a sentiment\n",
    "t1 = t1.filter(df.sentiment != 'null')\n"
   ]
  },
  {
   "cell_type": "code",
   "execution_count": 8,
   "metadata": {
    "collapsed": false
   },
   "outputs": [
    {
     "data": {
      "text/plain": [
       "8719750"
      ]
     },
     "execution_count": 8,
     "metadata": {},
     "output_type": "execute_result"
    }
   ],
   "source": [
    "t1.count()"
   ]
  },
  {
   "cell_type": "code",
   "execution_count": 9,
   "metadata": {
    "collapsed": false
   },
   "outputs": [
    {
     "data": {
      "text/plain": [
       "[Row(language='fr', sentiment='NEUTRAL', count=2018350),\n",
       " Row(language='fr', sentiment='POSITIVE', count=53314),\n",
       " Row(language='fr', sentiment='NEGATIVE', count=8254),\n",
       " Row(language='en', sentiment='POSITIVE', count=1423976),\n",
       " Row(language='en', sentiment='NEGATIVE', count=676615),\n",
       " Row(language='en', sentiment='NEUTRAL', count=2333867),\n",
       " Row(language='de', sentiment='NEGATIVE', count=4804),\n",
       " Row(language='de', sentiment='NEUTRAL', count=2102071),\n",
       " Row(language='de', sentiment='POSITIVE', count=98499)]"
      ]
     },
     "execution_count": 9,
     "metadata": {},
     "output_type": "execute_result"
    }
   ],
   "source": [
    "# See main languages\n",
    "t1.groupBy(['language', 'sentiment']).count().sort(col(\"language\").desc()).collect()"
   ]
  },
  {
   "cell_type": "code",
   "execution_count": 13,
   "metadata": {
    "collapsed": false
   },
   "outputs": [
    {
     "name": "stdout",
     "output_type": "stream",
     "text": [
      "+-------------------+--------+---------+--------------------+--------------------+--------------------+\n",
      "|                 id|language|sentiment|            location|                main|                date|\n",
      "+-------------------+--------+---------+--------------------+--------------------+--------------------+\n",
      "|1467622550934000011|      en| POSITIVE|            Schenkon| @beknuesel Fast :-)|2016-07-04T08:51:23Z|\n",
      "|1467661901184400101|      en| NEGATIVE|            Svizzera|@sebdivo @ildivoo...|2016-07-04T17:05:55Z|\n",
      "|1467664145156400055|      en|  NEUTRAL|           Neuchâtel|Need you by my side.|2016-07-04T17:30:19Z|\n",
      "|1467656305452100106|      en| POSITIVE|                null|One Nation. One L...|2016-07-04T16:16:34Z|\n",
      "|1467672681723400019|      en| POSITIVE|         Orlando, FL|Happy Independenc...|2016-07-04T22:05:47Z|\n",
      "|1467663376923900019|      en|  NEUTRAL|         Switzerland|@Moreterm Full of...|2016-07-04T17:21:37Z|\n",
      "|1467670928189100298|      en|  NEUTRAL|         Switzerland|@Antonineone1 You...|2016-07-04T20:46:04Z|\n",
      "|1467672413671200220|      en| POSITIVE|           somewhere|And some love for...|2016-07-04T21:51:31Z|\n",
      "|1467595296452100365|      en| POSITIVE|       United States|Beautiful town #Z...|2016-07-04T00:09:06Z|\n",
      "|1467670456238200051|      en| POSITIVE|           somewhere|These little thin...|2016-07-04T20:27:54Z|\n",
      "|1467631047189100234|      en| POSITIVE|                null|Happy #Independen...|2016-07-04T11:16:18Z|\n",
      "|1467672593115300180|      en| POSITIVE|           somewhere|Happy Birthday Gl...|2016-07-04T22:01:13Z|\n",
      "|1467630962073600130|      en|  NEUTRAL|               India|Students brainsto...|2016-07-04T11:14:01Z|\n",
      "|1467611758163200092|      en| POSITIVE|  Berne, Switzerland|'@IEEEInstitute S...|2016-07-04T05:55:20Z|\n",
      "|1467635198239800107|      en| NEGATIVE|         Switzerland|#Skynews Angela E...|2016-07-04T12:22:54Z|\n",
      "|1467663375452100078|      en| POSITIVE|                null|Sweet dinner espe...|2016-07-04T17:21:35Z|\n",
      "|1467637237170000090|      en| POSITIVE|           Llanberis|Lunch with a spec...|2016-07-04T12:56:17Z|\n",
      "|1467668541189100035|      en| NEGATIVE|                null|i'm addicted to #...|2016-07-04T19:03:04Z|\n",
      "|1467659351170600081|      en| NEGATIVE|         Switzerland|What a toxic char...|2016-07-04T16:42:01Z|\n",
      "|1467649651184700008|      en| POSITIVE|Loughborough, Lei...|Welcome to Switze...|2016-07-04T15:26:43Z|\n",
      "+-------------------+--------+---------+--------------------+--------------------+--------------------+\n",
      "only showing top 20 rows\n",
      "\n"
     ]
    }
   ],
   "source": [
    "t1.show()"
   ]
  },
  {
   "cell_type": "markdown",
   "metadata": {},
   "source": [
    "### Combining other data"
   ]
  },
  {
   "cell_type": "code",
   "execution_count": 13,
   "metadata": {
    "collapsed": false
   },
   "outputs": [],
   "source": [
    "base_path1 = 'file:///home/kirtan/Academics/EPFL/sem1/ADA/ADA-Project/twitter_data/gender/'\n",
    "files1 = os.listdir('twitter_data/gender/')"
   ]
  },
  {
   "cell_type": "code",
   "execution_count": 14,
   "metadata": {
    "collapsed": true
   },
   "outputs": [],
   "source": [
    "df1 = sqlContext.read.parquet(base_path1 + files1[0])"
   ]
  },
  {
   "cell_type": "code",
   "execution_count": 15,
   "metadata": {
    "collapsed": true
   },
   "outputs": [],
   "source": [
    "df_twitter1 = df1"
   ]
  },
  {
   "cell_type": "code",
   "execution_count": 16,
   "metadata": {
    "collapsed": false
   },
   "outputs": [
    {
     "name": "stderr",
     "output_type": "stream",
     "text": []
    }
   ],
   "source": [
    "for f in tqdm(files1[1:]):\n",
    "    temp = sqlContext.read.parquet(base_path1 + f)\n",
    "    df_twitter1 = df_twitter1.unionAll(temp)\n",
    "   \n",
    "    "
   ]
  },
  {
   "cell_type": "code",
   "execution_count": 17,
   "metadata": {
    "collapsed": false
   },
   "outputs": [],
   "source": [
    "df_twitter1 = df_twitter1.dropDuplicates()"
   ]
  },
  {
   "cell_type": "code",
   "execution_count": 15,
   "metadata": {
    "collapsed": false
   },
   "outputs": [
    {
     "data": {
      "text/plain": [
       "10557432"
      ]
     },
     "execution_count": 15,
     "metadata": {},
     "output_type": "execute_result"
    }
   ],
   "source": [
    "df_twitter1.count()"
   ]
  },
  {
   "cell_type": "code",
   "execution_count": 15,
   "metadata": {
    "collapsed": false
   },
   "outputs": [
    {
     "name": "stdout",
     "output_type": "stream",
     "text": [
      "+---------+\n",
      "|count(id)|\n",
      "+---------+\n",
      "| 10557432|\n",
      "+---------+\n",
      "\n"
     ]
    }
   ],
   "source": [
    "df_twitter1.agg(func.countDistinct('id')).show()"
   ]
  },
  {
   "cell_type": "code",
   "execution_count": 18,
   "metadata": {
    "collapsed": false
   },
   "outputs": [],
   "source": [
    "main_df = t1.join(df_twitter1, t1.id == df_twitter1.id, 'inner').drop(df_twitter1.id)"
   ]
  },
  {
   "cell_type": "code",
   "execution_count": 17,
   "metadata": {
    "collapsed": false
   },
   "outputs": [
    {
     "data": {
      "text/plain": [
       "8719750"
      ]
     },
     "execution_count": 17,
     "metadata": {},
     "output_type": "execute_result"
    }
   ],
   "source": [
    "main_df.count()"
   ]
  },
  {
   "cell_type": "code",
   "execution_count": 19,
   "metadata": {
    "collapsed": true
   },
   "outputs": [],
   "source": [
    "main_df = main_df.dropDuplicates().drop(main_df.canton)"
   ]
  },
  {
   "cell_type": "code",
   "execution_count": 44,
   "metadata": {
    "collapsed": false
   },
   "outputs": [
    {
     "data": {
      "text/plain": [
       "8500030"
      ]
     },
     "execution_count": 44,
     "metadata": {},
     "output_type": "execute_result"
    }
   ],
   "source": [
    "main_df.count()"
   ]
  },
  {
   "cell_type": "markdown",
   "metadata": {},
   "source": [
    "### Adding more data"
   ]
  },
  {
   "cell_type": "code",
   "execution_count": 20,
   "metadata": {
    "collapsed": true
   },
   "outputs": [],
   "source": [
    "base_path2 = 'file:///home/kirtan/Academics/EPFL/sem1/ADA/ADA-Project/twitter_data/canton/'\n",
    "files2 = os.listdir('twitter_data/canton')"
   ]
  },
  {
   "cell_type": "code",
   "execution_count": 21,
   "metadata": {
    "collapsed": false
   },
   "outputs": [],
   "source": [
    "df2 = sqlContext.read.parquet(base_path2 + files2[0])"
   ]
  },
  {
   "cell_type": "code",
   "execution_count": 22,
   "metadata": {
    "collapsed": true
   },
   "outputs": [],
   "source": [
    "df_twitter2 = df2"
   ]
  },
  {
   "cell_type": "code",
   "execution_count": 23,
   "metadata": {
    "collapsed": false
   },
   "outputs": [
    {
     "name": "stderr",
     "output_type": "stream",
     "text": []
    }
   ],
   "source": [
    "for f in tqdm(files2[1:]):\n",
    "    temp = sqlContext.read.parquet(base_path2 + f)\n",
    "    df_twitter2 = df_twitter2.unionAll(temp)\n",
    "   \n",
    "    "
   ]
  },
  {
   "cell_type": "code",
   "execution_count": 24,
   "metadata": {
    "collapsed": true
   },
   "outputs": [],
   "source": [
    "df_twitter2 = df_twitter2.dropDuplicates()"
   ]
  },
  {
   "cell_type": "code",
   "execution_count": 25,
   "metadata": {
    "collapsed": false
   },
   "outputs": [],
   "source": [
    "final = main_df.join(df_twitter2, main_df.id == df_twitter2.id, 'left').drop(df_twitter2.id)"
   ]
  },
  {
   "cell_type": "code",
   "execution_count": 35,
   "metadata": {
    "collapsed": false
   },
   "outputs": [
    {
     "data": {
      "text/plain": [
       "8500030"
      ]
     },
     "execution_count": 35,
     "metadata": {},
     "output_type": "execute_result"
    }
   ],
   "source": [
    "final.count()"
   ]
  },
  {
   "cell_type": "code",
   "execution_count": 26,
   "metadata": {
    "collapsed": false
   },
   "outputs": [
    {
     "data": {
      "text/plain": [
       "[Row(language='fr', sentiment='NEUTRAL', count=1963897),\n",
       " Row(language='fr', sentiment='POSITIVE', count=51940),\n",
       " Row(language='fr', sentiment='NEGATIVE', count=8040),\n",
       " Row(language='en', sentiment='POSITIVE', count=1387348),\n",
       " Row(language='en', sentiment='NEGATIVE', count=657896),\n",
       " Row(language='en', sentiment='NEUTRAL', count=2279445),\n",
       " Row(language='de', sentiment='NEGATIVE', count=4679),\n",
       " Row(language='de', sentiment='NEUTRAL', count=2050716),\n",
       " Row(language='de', sentiment='POSITIVE', count=96069)]"
      ]
     },
     "execution_count": 26,
     "metadata": {},
     "output_type": "execute_result"
    }
   ],
   "source": [
    "final.groupBy(['language', 'sentiment']).count().sort(col(\"language\").desc()).collect()"
   ]
  },
  {
   "cell_type": "code",
   "execution_count": 26,
   "metadata": {
    "collapsed": true
   },
   "outputs": [],
   "source": [
    "final = final.where((col('language') == 'en') | (col('sentiment').isin({'POSITIVE', 'NEGATIVE'})))"
   ]
  },
  {
   "cell_type": "code",
   "execution_count": 24,
   "metadata": {
    "collapsed": false
   },
   "outputs": [
    {
     "name": "stdout",
     "output_type": "stream",
     "text": [
      "+-------------------+--------+---------+-----------+--------------------+--------------------+-------+------+\n",
      "|                 id|language|sentiment|   location|                main|                date| gender|canton|\n",
      "+-------------------+--------+---------+-----------+--------------------+--------------------+-------+------+\n",
      "|1451607480000009678|      en|  NEUTRAL|Switzerland|I really need to ...|2016-01-01T00:17:25Z| FEMALE|  null|\n",
      "|1451612913000008971|      de| POSITIVE|      Basel|SteffiShy: Hier k...|2016-01-01T01:48:09Z| FEMALE|  null|\n",
      "|1451613258000000293|      en|  NEUTRAL|Switzerland|@RealHarryHudson ...|2016-01-01T01:53:50Z|UNKNOWN|  null|\n",
      "|1451619487000012173|      en|  NEUTRAL|Switzerland|#nowplaying Kid C...|2016-01-01T03:37:43Z|UNKNOWN|  null|\n",
      "|1451620127000015104|      en|  NEUTRAL|       Bern|Could Everton be ...|2016-01-01T03:48:18Z|UNKNOWN|  null|\n",
      "|1451621497000009805|      en|  NEUTRAL|     Geneva|@jayashree_64 Tha...|2016-01-01T04:10:52Z|UNKNOWN|  null|\n",
      "|1451624522000012137|      en|  NEUTRAL|Switzerland|Am i the only one...|2016-01-01T05:01:40Z| FEMALE|  null|\n",
      "|1451625514000013701|      en|  NEUTRAL|      Basel|#EXECUTIVE DIRECT...|2016-01-01T05:18:07Z|UNKNOWN|  null|\n",
      "|1451632412000007729|      en|  NEUTRAL|Switzerland|Name: 2016 Status...|2016-01-01T07:13:09Z| FEMALE|  null|\n",
      "|1451641484000013482|      en|  NEUTRAL|     Zürich|Switzerland. pic....|2016-01-01T09:43:02Z|UNKNOWN|  null|\n",
      "|1451641643000003125|      en|  NEUTRAL|Switzerland|The Effects of Ba...|2016-01-01T09:46:57Z|   MALE|  null|\n",
      "|1451643523000006974|      en|  NEUTRAL|Switzerland|@NewFolderMedia #...|2016-01-01T10:18:20Z|   MALE|  null|\n",
      "|1451646923000015096|      en|  NEUTRAL|Switzerland|0900 am & 1100 am...|2016-01-01T11:15:02Z|   MALE|  null|\n",
      "|1451651334000000702|      en|  NEUTRAL|Switzerland|@nymphenfeder the...|2016-01-01T12:28:23Z|UNKNOWN|  null|\n",
      "|1451652758000013954|      en|  NEUTRAL|Switzerland|Can we truly empo...|2016-01-01T12:52:13Z|UNKNOWN|  null|\n",
      "|1451653215000004258|      en|  NEUTRAL|Switzerland|#nowplaying Kasse...|2016-01-01T12:59:44Z|UNKNOWN|  null|\n",
      "|1451655376000004854|      en|  NEUTRAL|Switzerland|#NP on #13StarzRa...|2016-01-01T13:35:27Z|UNKNOWN|  null|\n",
      "|1451656104000008805|      en|  NEUTRAL|Switzerland|Typical #ISIS men...|2016-01-01T13:47:58Z|   MALE|  null|\n",
      "|1451656367000007737|      fr| POSITIVE|Switzerland|@Munsterma @magal...|2016-01-01T13:52:18Z| FEMALE|  null|\n",
      "|1451657397000013585|      en|  NEUTRAL|     Zurich|Your film is beau...|2016-01-01T14:09:26Z|UNKNOWN|  null|\n",
      "+-------------------+--------+---------+-----------+--------------------+--------------------+-------+------+\n",
      "only showing top 20 rows\n",
      "\n"
     ]
    }
   ],
   "source": [
    "final.show()"
   ]
  },
  {
   "cell_type": "code",
   "execution_count": 37,
   "metadata": {
    "collapsed": false
   },
   "outputs": [
    {
     "data": {
      "text/plain": [
       "[Row(language='fr', sentiment='POSITIVE', count=51940),\n",
       " Row(language='fr', sentiment='NEGATIVE', count=8040),\n",
       " Row(language='en', sentiment='POSITIVE', count=1387348),\n",
       " Row(language='en', sentiment='NEGATIVE', count=657896),\n",
       " Row(language='en', sentiment='NEUTRAL', count=2279445),\n",
       " Row(language='de', sentiment='NEGATIVE', count=4679),\n",
       " Row(language='de', sentiment='POSITIVE', count=96069)]"
      ]
     },
     "execution_count": 37,
     "metadata": {},
     "output_type": "execute_result"
    }
   ],
   "source": [
    "final.groupBy(['language', 'sentiment']).count().sort(col(\"language\").desc()).collect()"
   ]
  },
  {
   "cell_type": "code",
   "execution_count": 25,
   "metadata": {
    "collapsed": false
   },
   "outputs": [
    {
     "data": {
      "text/plain": [
       "4485417"
      ]
     },
     "execution_count": 25,
     "metadata": {},
     "output_type": "execute_result"
    }
   ],
   "source": [
    "final.count()"
   ]
  },
  {
   "cell_type": "code",
   "execution_count": 26,
   "metadata": {
    "collapsed": false
   },
   "outputs": [
    {
     "name": "stdout",
     "output_type": "stream",
     "text": [
      "Proportion with a canton: 0.37345312598583363\n"
     ]
    }
   ],
   "source": [
    "print(\"Proportion with a canton:\", final.filter(final.canton != 'null').count()/4485417)"
   ]
  },
  {
   "cell_type": "code",
   "execution_count": 2,
   "metadata": {
    "collapsed": false
   },
   "outputs": [],
   "source": [
    "final = sqlContext.read.parquet('file:///home/kirtan/Academics/EPFL/sem1/ADA/ADA-Project/twitter_data/final_twitter.parquet')"
   ]
  },
  {
   "cell_type": "code",
   "execution_count": 3,
   "metadata": {
    "collapsed": false
   },
   "outputs": [],
   "source": [
    "dict_map =  pickle.load( open( \"small_dict.p\", \"rb\" ) )"
   ]
  },
  {
   "cell_type": "code",
   "execution_count": 30,
   "metadata": {
    "collapsed": false
   },
   "outputs": [
    {
     "data": {
      "text/plain": [
       "17449"
      ]
     },
     "execution_count": 30,
     "metadata": {},
     "output_type": "execute_result"
    }
   ],
   "source": [
    "len(loc)"
   ]
  },
  {
   "cell_type": "markdown",
   "metadata": {},
   "source": [
    "### Make dictionary"
   ]
  },
  {
   "cell_type": "code",
   "execution_count": 31,
   "metadata": {
    "collapsed": true
   },
   "outputs": [],
   "source": [
    "location = df_twitter.select(df_twitter.id, df_twitter.location)\n",
    "canton = df_twitter2.select(df_twitter2.id, df_twitter2.canton)"
   ]
  },
  {
   "cell_type": "code",
   "execution_count": 32,
   "metadata": {
    "collapsed": true
   },
   "outputs": [],
   "source": [
    "df_dict = location.join(canton, location.id == canton.id, 'inner').drop(canton.id).drop(location.id)"
   ]
  },
  {
   "cell_type": "code",
   "execution_count": 29,
   "metadata": {
    "collapsed": false
   },
   "outputs": [],
   "source": [
    "df_dict1 = df_dict.filter(df_dict.canton != 'null')"
   ]
  },
  {
   "cell_type": "code",
   "execution_count": 35,
   "metadata": {
    "collapsed": true
   },
   "outputs": [],
   "source": [
    "lst = df_dict1.collect()"
   ]
  },
  {
   "cell_type": "code",
   "execution_count": 37,
   "metadata": {
    "collapsed": true
   },
   "outputs": [],
   "source": [
    "loc = {}"
   ]
  },
  {
   "cell_type": "code",
   "execution_count": 38,
   "metadata": {
    "collapsed": false
   },
   "outputs": [],
   "source": [
    "for row in lst:\n",
    "    loc[row.location] = row.canton"
   ]
  },
  {
   "cell_type": "code",
   "execution_count": 33,
   "metadata": {
    "collapsed": false
   },
   "outputs": [],
   "source": [
    "df_dict_ = df_dict.filter(df_dict.canton == 'null').drop(df_dict.canton)"
   ]
  },
  {
   "cell_type": "code",
   "execution_count": 34,
   "metadata": {
    "collapsed": false
   },
   "outputs": [],
   "source": [
    "lst1 = df_dict_.collect()"
   ]
  },
  {
   "cell_type": "code",
   "execution_count": 35,
   "metadata": {
    "collapsed": true
   },
   "outputs": [],
   "source": [
    "locs = []\n",
    "for row in lst1:\n",
    "    locs.append(row.location)"
   ]
  },
  {
   "cell_type": "code",
   "execution_count": 36,
   "metadata": {
    "collapsed": true
   },
   "outputs": [],
   "source": [
    "locs_uniq = set(locs)"
   ]
  },
  {
   "cell_type": "code",
   "execution_count": 37,
   "metadata": {
    "collapsed": false
   },
   "outputs": [],
   "source": [
    "dict_map = {k:loc[k] for k in locs_uniq if k in loc}\n",
    "for l in locs_uniq:\n",
    "    if l not in dict_map.keys():\n",
    "        dict_map[l] = 'null'"
   ]
  },
  {
   "cell_type": "code",
   "execution_count": 38,
   "metadata": {
    "collapsed": true
   },
   "outputs": [],
   "source": [
    "pickle.dump( dict_map, open( \"small_dict.p\", \"wb\" ) )"
   ]
  },
  {
   "cell_type": "code",
   "execution_count": 4,
   "metadata": {
    "collapsed": false
   },
   "outputs": [],
   "source": [
    "def map_location(value):\n",
    "    if value in dict_map.keys():\n",
    "        return(dict_map[value])\n",
    "    else:\n",
    "        return('null')\n",
    "udfmap = udf(map_location, StringType())"
   ]
  },
  {
   "cell_type": "code",
   "execution_count": 5,
   "metadata": {
    "collapsed": false
   },
   "outputs": [],
   "source": [
    "final_loc = final.withColumn('canton_', udfmap(\"location\"))"
   ]
  },
  {
   "cell_type": "code",
   "execution_count": 6,
   "metadata": {
    "collapsed": false
   },
   "outputs": [],
   "source": [
    "f = final_loc.drop(final_loc.canton)"
   ]
  },
  {
   "cell_type": "code",
   "execution_count": 22,
   "metadata": {
    "collapsed": false
   },
   "outputs": [
    {
     "name": "stdout",
     "output_type": "stream",
     "text": [
      "Proportion with a canton: 0.9803710558015007\n"
     ]
    }
   ],
   "source": [
    "print(\"Proportion with a canton:\", final_loc.filter(final_loc.canton_ != 'null').count()/4485417)"
   ]
  },
  {
   "cell_type": "code",
   "execution_count": 25,
   "metadata": {
    "collapsed": false
   },
   "outputs": [
    {
     "data": {
      "text/plain": [
       "33"
      ]
     },
     "execution_count": 25,
     "metadata": {},
     "output_type": "execute_result"
    }
   ],
   "source": [
    "len(set(dict_map.values()))"
   ]
  },
  {
   "cell_type": "code",
   "execution_count": 7,
   "metadata": {
    "collapsed": true
   },
   "outputs": [],
   "source": [
    "bad = ['Baden-Württemberg', 'Bavaria', 'Kocaeli', 'Lower Silesian Voivodeship', 'Maha Sarakham', 'Rio de Janeiro', 'São Paulo', 'null']"
   ]
  },
  {
   "cell_type": "code",
   "execution_count": 8,
   "metadata": {
    "collapsed": false
   },
   "outputs": [],
   "source": [
    "f = f.drop(f.location)"
   ]
  },
  {
   "cell_type": "code",
   "execution_count": 29,
   "metadata": {
    "collapsed": false
   },
   "outputs": [
    {
     "name": "stdout",
     "output_type": "stream",
     "text": [
      "+-------------------+--------+---------+--------------------+--------------------+-------+----------+\n",
      "|                 id|language|sentiment|                main|                date| gender|   canton_|\n",
      "+-------------------+--------+---------+--------------------+--------------------+-------+----------+\n",
      "|1451606716000000246|      en|  NEUTRAL|Gregory Larsen - ...|2016-01-01T00:04:33Z|UNKNOWN|    Zurich|\n",
      "|1451606971000001136|      en|  NEUTRAL|@killMOOSEkill @W...|2016-01-01T00:04:02Z|UNKNOWN|      Vaud|\n",
      "|1451611676000005396|      en|  NEUTRAL|Leave charging 20...|2016-01-01T01:27:19Z|UNKNOWN|      Vaud|\n",
      "|1451612158000004904|      en|  NEUTRAL|Happy new year fr...|2016-01-01T01:35:30Z|UNKNOWN|    Glarus|\n",
      "|1451612584000003207|      en|  NEUTRAL|@Yanruliu1 Accord...|2016-01-01T01:42:39Z|UNKNOWN|    Zurich|\n",
      "|1451625427000008147|      en|  NEUTRAL|AccentForex | “Ca...|2016-01-01T05:16:46Z|UNKNOWN|      Vaud|\n",
      "|1451637836000007370|      en|  NEUTRAL|@malcolm_fox2 Che...|2016-01-01T08:43:22Z|UNKNOWN|      Vaud|\n",
      "|1451640479000009658|      en|  NEUTRAL|@Plichta part2: D...|2016-01-01T09:27:26Z|UNKNOWN|      Vaud|\n",
      "|1451644118000007621|      en|  NEUTRAL|#HappyNewYear Red...|2016-01-01T10:28:02Z|UNKNOWN|    Zurich|\n",
      "|1451644142000007785|      en|  NEUTRAL|2016 - The Year o...|2016-01-01T10:28:15Z|   MALE|    Geneva|\n",
      "|1451644400000004886|      en|  NEUTRAL|@Ionicframework u...|2016-01-01T10:32:55Z|UNKNOWN|Basel-City|\n",
      "|1451644797000008003|      en|  NEUTRAL|    Happy New Year !|2016-01-01T10:39:04Z|UNKNOWN|      Vaud|\n",
      "|1451650095000012198|      en|  NEUTRAL|Year 2015: Black-...|2016-01-01T12:03:08Z| FEMALE|      Vaud|\n",
      "|1451650370000012275|      en|  NEUTRAL|Chou ^^ https://t...|2016-01-01T12:04:30Z|UNKNOWN|    Valais|\n",
      "|1451652444000013593|      en|  NEUTRAL|Hyun Song Shin, B...|2016-01-01T12:47:00Z|UNKNOWN|    Zurich|\n",
      "|1451653626000003104|      en|  NEUTRAL|Cant wait for all...|2016-01-01T13:05:41Z| FEMALE|      Vaud|\n",
      "|1451654249000000666|      en|  NEUTRAL|Transl. Happy New...|2016-01-01T13:17:02Z| FEMALE|      Vaud|\n",
      "|1451654961000007637|      en|  NEUTRAL|The Swisstorage D...|2016-01-01T13:28:55Z|UNKNOWN|      Vaud|\n",
      "|1451655307000012144|      en|  NEUTRAL|Navys ; so when i...|2016-01-01T13:34:05Z| FEMALE|      Vaud|\n",
      "|1451656447000014018|      en|  NEUTRAL|But, 2016 Here I ...|2016-01-01T13:53:45Z| FEMALE|    Geneva|\n",
      "+-------------------+--------+---------+--------------------+--------------------+-------+----------+\n",
      "only showing top 20 rows\n",
      "\n"
     ]
    }
   ],
   "source": [
    "f.show()"
   ]
  },
  {
   "cell_type": "code",
   "execution_count": 30,
   "metadata": {
    "collapsed": false
   },
   "outputs": [
    {
     "data": {
      "text/plain": [
       "[Row(language='fr', sentiment='POSITIVE', count=51940),\n",
       " Row(language='fr', sentiment='NEGATIVE', count=8040),\n",
       " Row(language='en', sentiment='POSITIVE', count=1387348),\n",
       " Row(language='en', sentiment='NEGATIVE', count=657896),\n",
       " Row(language='en', sentiment='NEUTRAL', count=2279445),\n",
       " Row(language='de', sentiment='NEGATIVE', count=4679),\n",
       " Row(language='de', sentiment='POSITIVE', count=96069)]"
      ]
     },
     "execution_count": 30,
     "metadata": {},
     "output_type": "execute_result"
    }
   ],
   "source": [
    "f.groupBy(['language', 'sentiment']).count().sort(col(\"language\").desc()).collect()"
   ]
  },
  {
   "cell_type": "code",
   "execution_count": 9,
   "metadata": {
    "collapsed": true
   },
   "outputs": [],
   "source": [
    "import time"
   ]
  },
  {
   "cell_type": "code",
   "execution_count": 10,
   "metadata": {
    "collapsed": true
   },
   "outputs": [],
   "source": [
    "def time_of_day(iso_time):\n",
    "    time_struct = time.strptime(iso_time, \"%Y-%m-%dT%H:%M:%SZ\")\n",
    "    hour = time_struct.tm_hour\n",
    "    if 6 <= hour < 18:\n",
    "        return \"Day\"\n",
    "    else:\n",
    "        return \"Night\""
   ]
  },
  {
   "cell_type": "code",
   "execution_count": 11,
   "metadata": {
    "collapsed": true
   },
   "outputs": [],
   "source": [
    "def month(iso_time):\n",
    "    time_struct = time.strptime(iso_time, \"%Y-%m-%dT%H:%M:%SZ\")\n",
    "    return time_struct.tm_mon"
   ]
  },
  {
   "cell_type": "code",
   "execution_count": 12,
   "metadata": {
    "collapsed": true
   },
   "outputs": [],
   "source": [
    "def sentiment_map(sentiment):\n",
    "    if(sentiment == 'NEGATIVE'):\n",
    "        return(-1)\n",
    "    elif(sentiment == 'POSITIVE'):\n",
    "        return(1)\n",
    "    elif(sentiment == 'NEUTRAL'):\n",
    "        return(0)\n",
    "    else:\n",
    "        return(2)"
   ]
  },
  {
   "cell_type": "code",
   "execution_count": 13,
   "metadata": {
    "collapsed": true
   },
   "outputs": [],
   "source": [
    "udfTOD = udf(time_of_day, StringType())\n",
    "udfMonth = udf(month, StringType())"
   ]
  },
  {
   "cell_type": "code",
   "execution_count": 14,
   "metadata": {
    "collapsed": true
   },
   "outputs": [],
   "source": [
    "udfSenti = udf(sentiment_map, IntegerType())"
   ]
  },
  {
   "cell_type": "code",
   "execution_count": 15,
   "metadata": {
    "collapsed": false
   },
   "outputs": [],
   "source": [
    "f1 = f.withColumn('time_period', udfTOD(\"date\"))\n",
    "f2 = f1.withColumn('month', udfMonth(\"date\"))"
   ]
  },
  {
   "cell_type": "code",
   "execution_count": 16,
   "metadata": {
    "collapsed": true
   },
   "outputs": [],
   "source": [
    "f3 = f2.withColumn('sentiment_', udfSenti(\"sentiment\"))"
   ]
  },
  {
   "cell_type": "code",
   "execution_count": 41,
   "metadata": {
    "collapsed": false
   },
   "outputs": [
    {
     "name": "stdout",
     "output_type": "stream",
     "text": [
      "+-------------------+--------+---------+--------------------+--------------------+-------+----------+-----------+-----+----------+\n",
      "|                 id|language|sentiment|                main|                date| gender|   canton_|time_period|month|sentiment_|\n",
      "+-------------------+--------+---------+--------------------+--------------------+-------+----------+-----------+-----+----------+\n",
      "|1451606716000000246|      en|  NEUTRAL|Gregory Larsen - ...|2016-01-01T00:04:33Z|UNKNOWN|    Zurich|      Night|    1|         0|\n",
      "|1451606971000001136|      en|  NEUTRAL|@killMOOSEkill @W...|2016-01-01T00:04:02Z|UNKNOWN|      Vaud|      Night|    1|         0|\n",
      "|1451611676000005396|      en|  NEUTRAL|Leave charging 20...|2016-01-01T01:27:19Z|UNKNOWN|      Vaud|      Night|    1|         0|\n",
      "|1451612158000004904|      en|  NEUTRAL|Happy new year fr...|2016-01-01T01:35:30Z|UNKNOWN|    Glarus|      Night|    1|         0|\n",
      "|1451612584000003207|      en|  NEUTRAL|@Yanruliu1 Accord...|2016-01-01T01:42:39Z|UNKNOWN|    Zurich|      Night|    1|         0|\n",
      "|1451625427000008147|      en|  NEUTRAL|AccentForex | “Ca...|2016-01-01T05:16:46Z|UNKNOWN|      Vaud|      Night|    1|         0|\n",
      "|1451637836000007370|      en|  NEUTRAL|@malcolm_fox2 Che...|2016-01-01T08:43:22Z|UNKNOWN|      Vaud|        Day|    1|         0|\n",
      "|1451640479000009658|      en|  NEUTRAL|@Plichta part2: D...|2016-01-01T09:27:26Z|UNKNOWN|      Vaud|        Day|    1|         0|\n",
      "|1451644118000007621|      en|  NEUTRAL|#HappyNewYear Red...|2016-01-01T10:28:02Z|UNKNOWN|    Zurich|        Day|    1|         0|\n",
      "|1451644142000007785|      en|  NEUTRAL|2016 - The Year o...|2016-01-01T10:28:15Z|   MALE|    Geneva|        Day|    1|         0|\n",
      "|1451644400000004886|      en|  NEUTRAL|@Ionicframework u...|2016-01-01T10:32:55Z|UNKNOWN|Basel-City|        Day|    1|         0|\n",
      "|1451644797000008003|      en|  NEUTRAL|    Happy New Year !|2016-01-01T10:39:04Z|UNKNOWN|      Vaud|        Day|    1|         0|\n",
      "|1451650095000012198|      en|  NEUTRAL|Year 2015: Black-...|2016-01-01T12:03:08Z| FEMALE|      Vaud|        Day|    1|         0|\n",
      "|1451650370000012275|      en|  NEUTRAL|Chou ^^ https://t...|2016-01-01T12:04:30Z|UNKNOWN|    Valais|        Day|    1|         0|\n",
      "|1451652444000013593|      en|  NEUTRAL|Hyun Song Shin, B...|2016-01-01T12:47:00Z|UNKNOWN|    Zurich|        Day|    1|         0|\n",
      "|1451653626000003104|      en|  NEUTRAL|Cant wait for all...|2016-01-01T13:05:41Z| FEMALE|      Vaud|        Day|    1|         0|\n",
      "|1451654249000000666|      en|  NEUTRAL|Transl. Happy New...|2016-01-01T13:17:02Z| FEMALE|      Vaud|        Day|    1|         0|\n",
      "|1451654961000007637|      en|  NEUTRAL|The Swisstorage D...|2016-01-01T13:28:55Z|UNKNOWN|      Vaud|        Day|    1|         0|\n",
      "|1451655307000012144|      en|  NEUTRAL|Navys ; so when i...|2016-01-01T13:34:05Z| FEMALE|      Vaud|        Day|    1|         0|\n",
      "|1451656447000014018|      en|  NEUTRAL|But, 2016 Here I ...|2016-01-01T13:53:45Z| FEMALE|    Geneva|        Day|    1|         0|\n",
      "+-------------------+--------+---------+--------------------+--------------------+-------+----------+-----------+-----+----------+\n",
      "only showing top 20 rows\n",
      "\n"
     ]
    }
   ],
   "source": [
    "f3.show()"
   ]
  },
  {
   "cell_type": "code",
   "execution_count": 17,
   "metadata": {
    "collapsed": true
   },
   "outputs": [],
   "source": [
    "f4 = f3.drop(f3.sentiment).drop(f3.date)"
   ]
  },
  {
   "cell_type": "code",
   "execution_count": 18,
   "metadata": {
    "collapsed": false
   },
   "outputs": [],
   "source": [
    "for b in bad:\n",
    "    f4 = f4.filter(f4.canton_ != b)"
   ]
  },
  {
   "cell_type": "code",
   "execution_count": 24,
   "metadata": {
    "collapsed": false
   },
   "outputs": [
    {
     "name": "stdout",
     "output_type": "stream",
     "text": [
      "+-------------------+--------+--------------------+-------+----------+-----------+-----+----------+---+\n",
      "|                 id|language|                main| gender|   canton_|time_period|month|sentiment_|tmp|\n",
      "+-------------------+--------+--------------------+-------+----------+-----------+-----+----------+---+\n",
      "|1451606716000000246|      en|Gregory Larsen - ...|UNKNOWN|    Zurich|      Night|    1|         0|  1|\n",
      "|1451606971000001136|      en|@killMOOSEkill @W...|UNKNOWN|      Vaud|      Night|    1|         0|  1|\n",
      "|1451611676000005396|      en|Leave charging 20...|UNKNOWN|      Vaud|      Night|    1|         0|  1|\n",
      "|1451612158000004904|      en|Happy new year fr...|UNKNOWN|    Glarus|      Night|    1|         0|  1|\n",
      "|1451612584000003207|      en|@Yanruliu1 Accord...|UNKNOWN|    Zurich|      Night|    1|         0|  1|\n",
      "|1451625427000008147|      en|AccentForex | “Ca...|UNKNOWN|      Vaud|      Night|    1|         0|  1|\n",
      "|1451637836000007370|      en|@malcolm_fox2 Che...|UNKNOWN|      Vaud|        Day|    1|         0|  1|\n",
      "|1451640479000009658|      en|@Plichta part2: D...|UNKNOWN|      Vaud|        Day|    1|         0|  1|\n",
      "|1451644118000007621|      en|#HappyNewYear Red...|UNKNOWN|    Zurich|        Day|    1|         0|  1|\n",
      "|1451644142000007785|      en|2016 - The Year o...|   MALE|    Geneva|        Day|    1|         0|  1|\n",
      "|1451644400000004886|      en|@Ionicframework u...|UNKNOWN|Basel-City|        Day|    1|         0|  1|\n",
      "|1451644797000008003|      en|    Happy New Year !|UNKNOWN|      Vaud|        Day|    1|         0|  1|\n",
      "|1451650095000012198|      en|Year 2015: Black-...| FEMALE|      Vaud|        Day|    1|         0|  1|\n",
      "|1451650370000012275|      en|Chou ^^ https://t...|UNKNOWN|    Valais|        Day|    1|         0|  1|\n",
      "|1451652444000013593|      en|Hyun Song Shin, B...|UNKNOWN|    Zurich|        Day|    1|         0|  1|\n",
      "|1451653626000003104|      en|Cant wait for all...| FEMALE|      Vaud|        Day|    1|         0|  1|\n",
      "|1451654249000000666|      en|Transl. Happy New...| FEMALE|      Vaud|        Day|    1|         0|  1|\n",
      "|1451654961000007637|      en|The Swisstorage D...|UNKNOWN|      Vaud|        Day|    1|         0|  1|\n",
      "|1451655307000012144|      en|Navys ; so when i...| FEMALE|      Vaud|        Day|    1|         0|  1|\n",
      "|1451656447000014018|      en|But, 2016 Here I ...| FEMALE|    Geneva|        Day|    1|         0|  1|\n",
      "+-------------------+--------+--------------------+-------+----------+-----------+-----+----------+---+\n",
      "only showing top 20 rows\n",
      "\n"
     ]
    }
   ],
   "source": [
    "f4.show()"
   ]
  },
  {
   "cell_type": "code",
   "execution_count": 19,
   "metadata": {
    "collapsed": false
   },
   "outputs": [],
   "source": [
    "from pyspark.sql.functions import lit\n",
    "f4 = f4.withColumn('tmp', lit(1))"
   ]
  },
  {
   "cell_type": "code",
   "execution_count": 26,
   "metadata": {
    "collapsed": false
   },
   "outputs": [],
   "source": [
    "f5 = f4.drop(f4.id).drop(f4.main)"
   ]
  },
  {
   "cell_type": "code",
   "execution_count": 30,
   "metadata": {
    "collapsed": false
   },
   "outputs": [
    {
     "name": "stdout",
     "output_type": "stream",
     "text": [
      "+--------+-------+----------+-----------+-----+----------+---+\n",
      "|language| gender|   canton_|time_period|month|sentiment_|tmp|\n",
      "+--------+-------+----------+-----------+-----+----------+---+\n",
      "|      en|UNKNOWN|    Zurich|      Night|    1|         0|  1|\n",
      "|      en|UNKNOWN|      Vaud|      Night|    1|         0|  1|\n",
      "|      en|UNKNOWN|      Vaud|      Night|    1|         0|  1|\n",
      "|      en|UNKNOWN|    Glarus|      Night|    1|         0|  1|\n",
      "|      en|UNKNOWN|    Zurich|      Night|    1|         0|  1|\n",
      "|      en|UNKNOWN|      Vaud|      Night|    1|         0|  1|\n",
      "|      en|UNKNOWN|      Vaud|        Day|    1|         0|  1|\n",
      "|      en|UNKNOWN|      Vaud|        Day|    1|         0|  1|\n",
      "|      en|UNKNOWN|    Zurich|        Day|    1|         0|  1|\n",
      "|      en|   MALE|    Geneva|        Day|    1|         0|  1|\n",
      "|      en|UNKNOWN|Basel-City|        Day|    1|         0|  1|\n",
      "|      en|UNKNOWN|      Vaud|        Day|    1|         0|  1|\n",
      "|      en| FEMALE|      Vaud|        Day|    1|         0|  1|\n",
      "|      en|UNKNOWN|    Valais|        Day|    1|         0|  1|\n",
      "|      en|UNKNOWN|    Zurich|        Day|    1|         0|  1|\n",
      "|      en| FEMALE|      Vaud|        Day|    1|         0|  1|\n",
      "|      en| FEMALE|      Vaud|        Day|    1|         0|  1|\n",
      "|      en|UNKNOWN|      Vaud|        Day|    1|         0|  1|\n",
      "|      en| FEMALE|      Vaud|        Day|    1|         0|  1|\n",
      "|      en| FEMALE|    Geneva|        Day|    1|         0|  1|\n",
      "+--------+-------+----------+-----------+-----+----------+---+\n",
      "only showing top 20 rows\n",
      "\n"
     ]
    }
   ],
   "source": [
    "f5.show()"
   ]
  },
  {
   "cell_type": "code",
   "execution_count": 28,
   "metadata": {
    "collapsed": false
   },
   "outputs": [],
   "source": [
    "f4.write.parquet('file:///home/kirtan/Academics/EPFL/sem1/ADA/ADA-Project/twitter_data/final_twitter1.parquet')"
   ]
  },
  {
   "cell_type": "code",
   "execution_count": 29,
   "metadata": {
    "collapsed": true
   },
   "outputs": [],
   "source": [
    "f5.write.parquet('file:///home/kirtan/Academics/EPFL/sem1/ADA/ADA-Project/twitter_data/final_twitter2.parquet')"
   ]
  },
  {
   "cell_type": "code",
   "execution_count": 35,
   "metadata": {
    "collapsed": false
   },
   "outputs": [],
   "source": [
    "f5 = f5.withColumn('tmp2', f5.sentiment_*f5.tmp)"
   ]
  },
  {
   "cell_type": "code",
   "execution_count": 36,
   "metadata": {
    "collapsed": false
   },
   "outputs": [
    {
     "data": {
      "text/plain": [
       "StructType(List(StructField(language,StringType,true),StructField(gender,StringType,true),StructField(canton_,StringType,true),StructField(time_period,StringType,true),StructField(month,StringType,true),StructField(sentiment_,IntegerType,true),StructField(tmp,IntegerType,false),StructField(tmp2,IntegerType,true)))"
      ]
     },
     "execution_count": 36,
     "metadata": {},
     "output_type": "execute_result"
    }
   ],
   "source": [
    "f5.schema"
   ]
  },
  {
   "cell_type": "code",
   "execution_count": 48,
   "metadata": {
    "collapsed": false
   },
   "outputs": [],
   "source": [
    "f6 = f5.groupBy('canton_', 'month', 'language', 'gender', 'time_period').agg((func.sum('tmp2')/func.sum('tmp')).alias('avg_sentiment'))"
   ]
  },
  {
   "cell_type": "code",
   "execution_count": 49,
   "metadata": {
    "collapsed": false
   },
   "outputs": [
    {
     "name": "stdout",
     "output_type": "stream",
     "text": [
      "+----------------+-----+--------+-------+-----------+-------------------+\n",
      "|         canton_|month|language| gender|time_period|      avg_sentiment|\n",
      "+----------------+-----+--------+-------+-----------+-------------------+\n",
      "|      Basel-City|    7|      en|   MALE|        Day|0.16316931982633864|\n",
      "|          Geneva|    8|      en|   MALE|        Day|0.13686382393397525|\n",
      "|         Thurgau|    8|      en|   MALE|        Day|0.10526315789473684|\n",
      "|       Solothurn|    9|      en| FEMALE|      Night| 0.2608695652173913|\n",
      "|          Schwyz|    5|      en|UNKNOWN|        Day|                0.5|\n",
      "|Basel-Landschaft|    5|      en| FEMALE|        Day|                0.2|\n",
      "|      Basel-City|    9|      fr|UNKNOWN|      Night|                1.0|\n",
      "|          Glarus|    4|      en|   MALE|        Day|                1.0|\n",
      "|      Basel-City|    1|      de|UNKNOWN|        Day| 0.8735042735042735|\n",
      "|            Vaud|    4|      fr|   MALE|        Day| 0.8545454545454545|\n",
      "|            Bern|    6|      de|   MALE|      Night| 0.9069767441860465|\n",
      "|       Neuchâtel|    8|      en|   MALE|        Day| 0.3333333333333333|\n",
      "|          Aargau|    8|      en|   MALE|        Day|               0.16|\n",
      "|          Zurich|    7|      de|UNKNOWN|        Day| 0.8717948717948718|\n",
      "|        Obwalden|    8|      en|UNKNOWN|      Night|0.05405405405405406|\n",
      "|          Aargau|   10|      en| FEMALE|        Day|                0.1|\n",
      "|         Lucerne|    6|      de| FEMALE|      Night|                1.0|\n",
      "|         Thurgau|    2|      de|UNKNOWN|        Day|                1.0|\n",
      "|    Schaffhausen|    5|      de|UNKNOWN|        Day|                1.0|\n",
      "|          Zurich|    7|      fr|   MALE|      Night|                1.0|\n",
      "+----------------+-----+--------+-------+-----------+-------------------+\n",
      "only showing top 20 rows\n",
      "\n"
     ]
    }
   ],
   "source": [
    "f6.show()"
   ]
  },
  {
   "cell_type": "code",
   "execution_count": 50,
   "metadata": {
    "collapsed": false
   },
   "outputs": [],
   "source": [
    "f7 = f6.selectExpr(\"canton_ as canton\", \"month as month\", \"language as language\", \"gender as gender\", \"time_period as time_period\",\n",
    "                  \"avg_sentiment as avg_sentiment\")"
   ]
  },
  {
   "cell_type": "code",
   "execution_count": 51,
   "metadata": {
    "collapsed": false
   },
   "outputs": [
    {
     "name": "stdout",
     "output_type": "stream",
     "text": [
      "+----------------+-----+--------+-------+-----------+-------------------+\n",
      "|          canton|month|language| gender|time_period|      avg_sentiment|\n",
      "+----------------+-----+--------+-------+-----------+-------------------+\n",
      "|      Basel-City|    7|      en|   MALE|        Day|0.16316931982633864|\n",
      "|          Geneva|    8|      en|   MALE|        Day|0.13686382393397525|\n",
      "|         Thurgau|    8|      en|   MALE|        Day|0.10526315789473684|\n",
      "|       Solothurn|    9|      en| FEMALE|      Night| 0.2608695652173913|\n",
      "|          Schwyz|    5|      en|UNKNOWN|        Day|                0.5|\n",
      "|Basel-Landschaft|    5|      en| FEMALE|        Day|                0.2|\n",
      "|      Basel-City|    9|      fr|UNKNOWN|      Night|                1.0|\n",
      "|          Glarus|    4|      en|   MALE|        Day|                1.0|\n",
      "|      Basel-City|    1|      de|UNKNOWN|        Day| 0.8735042735042735|\n",
      "|            Vaud|    4|      fr|   MALE|        Day| 0.8545454545454545|\n",
      "|            Bern|    6|      de|   MALE|      Night| 0.9069767441860465|\n",
      "|       Neuchâtel|    8|      en|   MALE|        Day| 0.3333333333333333|\n",
      "|          Aargau|    8|      en|   MALE|        Day|               0.16|\n",
      "|          Zurich|    7|      de|UNKNOWN|        Day| 0.8717948717948718|\n",
      "|        Obwalden|    8|      en|UNKNOWN|      Night|0.05405405405405406|\n",
      "|          Aargau|   10|      en| FEMALE|        Day|                0.1|\n",
      "|         Lucerne|    6|      de| FEMALE|      Night|                1.0|\n",
      "|         Thurgau|    2|      de|UNKNOWN|        Day|                1.0|\n",
      "|    Schaffhausen|    5|      de|UNKNOWN|        Day|                1.0|\n",
      "|          Zurich|    7|      fr|   MALE|      Night|                1.0|\n",
      "+----------------+-----+--------+-------+-----------+-------------------+\n",
      "only showing top 20 rows\n",
      "\n"
     ]
    }
   ],
   "source": [
    "f7.show()"
   ]
  },
  {
   "cell_type": "code",
   "execution_count": 52,
   "metadata": {
    "collapsed": true
   },
   "outputs": [],
   "source": [
    "f7.write.parquet('file:///home/kirtan/Academics/EPFL/sem1/ADA/ADA-Project/twitter_data/final_twitter3.parquet')"
   ]
  },
  {
   "cell_type": "code",
   "execution_count": 53,
   "metadata": {
    "collapsed": false
   },
   "outputs": [
    {
     "data": {
      "text/plain": [
       "2448"
      ]
     },
     "execution_count": 53,
     "metadata": {},
     "output_type": "execute_result"
    }
   ],
   "source": [
    "f7.count()"
   ]
  },
  {
   "cell_type": "code",
   "execution_count": 54,
   "metadata": {
    "collapsed": true
   },
   "outputs": [],
   "source": [
    "fp = f7.toPandas()"
   ]
  },
  {
   "cell_type": "code",
   "execution_count": 62,
   "metadata": {
    "collapsed": false
   },
   "outputs": [],
   "source": [
    "fp.to_csv('twitter_data/twitter.csv', sep=',', encoding='utf-8')"
   ]
  },
  {
   "cell_type": "code",
   "execution_count": null,
   "metadata": {
    "collapsed": true
   },
   "outputs": [],
   "source": []
  }
 ],
 "metadata": {
  "anaconda-cloud": {},
  "kernelspec": {
   "display_name": "Python [default]",
   "language": "python",
   "name": "python3"
  },
  "language_info": {
   "codemirror_mode": {
    "name": "ipython",
    "version": 3
   },
   "file_extension": ".py",
   "mimetype": "text/x-python",
   "name": "python",
   "nbconvert_exporter": "python",
   "pygments_lexer": "ipython3",
   "version": "3.5.2"
  }
 },
 "nbformat": 4,
 "nbformat_minor": 0
}
