{
 "cells": [
  {
   "cell_type": "markdown",
   "metadata": {},
   "source": [
    "## Getting and saving the cleaned twitter data\n",
    "* We get the necessary columns for the twitter data from the  .json files by running the code on the cluster and saving the dataframes as parquet.\n",
    "* The code to get the data is in cleaned_twitter.py"
   ]
  },
  {
   "cell_type": "code",
   "execution_count": 39,
   "metadata": {
    "collapsed": false
   },
   "outputs": [],
   "source": [
    "import pandas as pd\n",
    "import os\n",
    "import re\n",
    "from tqdm import tqdm\n",
    "from pyspark import SparkConf, SparkContext\n",
    "import pyspark.sql\n",
    "from pyspark.sql.functions import col, udf\n",
    "import pyspark.sql.functions as func\n",
    "from pyspark.sql.types import *\n",
    "from pyspark.sql import SQLContext\n",
    "from itertools import chain\n",
    "import nltk\n",
    "from nltk import FreqDist\n",
    "from nltk.tokenize import RegexpTokenizer\n",
    "\n",
    "conf = SparkConf().setAppName(\"ADA-gcl\")\n",
    "#sc = SparkContext(conf=conf)\n",
    "sqlContext = SQLContext(sc)\n",
    "#sqlContext.setConf(\"spark.sql.parquet.compression.codec\", \"snappy\")\n"
   ]
  },
  {
   "cell_type": "markdown",
   "metadata": {},
   "source": [
    "## Load the paqueret data"
   ]
  },
  {
   "cell_type": "code",
   "execution_count": 1,
   "metadata": {
    "collapsed": false
   },
   "outputs": [],
   "source": [
    "path = 'file:///home/kirtan/Academics/EPFL/sem1/ADA/ADA-Project/twitter_data/final_twitter1.parquet'\n",
    "df = sqlContext.read.parquet(path)"
   ]
  },
  {
   "cell_type": "code",
   "execution_count": 3,
   "metadata": {
    "collapsed": false
   },
   "outputs": [],
   "source": [
    "df = df.withColumn('canton', df.canton_)"
   ]
  },
  {
   "cell_type": "code",
   "execution_count": 5,
   "metadata": {
    "collapsed": false
   },
   "outputs": [],
   "source": [
    "df = df.withColumn('sentiment', df.sentiment_)"
   ]
  },
  {
   "cell_type": "code",
   "execution_count": 6,
   "metadata": {
    "collapsed": true
   },
   "outputs": [],
   "source": [
    "df = df.drop(df.canton_).drop(df.sentiment_)"
   ]
  },
  {
   "cell_type": "code",
   "execution_count": 7,
   "metadata": {
    "collapsed": false
   },
   "outputs": [
    {
     "name": "stdout",
     "output_type": "stream",
     "text": [
      "+-------------------+--------+--------------------+-------+-----------+-----+---+----------+---------+\n",
      "|                 id|language|                main| gender|time_period|month|tmp|    canton|sentiment|\n",
      "+-------------------+--------+--------------------+-------+-----------+-----+---+----------+---------+\n",
      "|1451606943000012161|      en|@NaliniSingh we a...|UNKNOWN|      Night|    1|  1|      Vaud|        0|\n",
      "|1451607568000005493|      en|If bae gets any s...| FEMALE|      Night|    1|  1|      Vaud|        0|\n",
      "|1451609302000001820|      en|Listening to \"Bre...|   MALE|      Night|    1|  1|    Zurich|        0|\n",
      "|1451618447000009640|      en|@Strippin @dexbon...|UNKNOWN|      Night|    1|  1|      Vaud|        0|\n",
      "|1451619941000014002|      en|@VictoriaJustice ...| FEMALE|      Night|    1|  1|      Vaud|        0|\n",
      "|1451623493000004879|      en|10NL Folded flush...| FEMALE|      Night|    1|  1|      Vaud|        0|\n",
      "|1451632164000001178|      en|@Iam_boika I love...| FEMALE|        Day|    1|  1|    Geneva|        1|\n",
      "|1451640244000006984|      en|Kanye West releas...|UNKNOWN|        Day|    1|  1|      Vaud|        0|\n",
      "|1451643361000012166|      en|@LiviaQuinn #than...|   MALE|        Day|    1|  1|      Vaud|        0|\n",
      "|1451644044000004409|      en|#Fraud Risk Manag...|UNKNOWN|        Day|    1|  1|Basel-City|        0|\n",
      "|1451644572000013487|      en|Charlie Puth – On...|UNKNOWN|        Day|    1|  1|      Vaud|        0|\n",
      "|1451647098000005420|      en|Love Beauty Succe...|UNKNOWN|        Day|    1|  1|      Vaud|        0|\n",
      "|1451655503000015577|      en|Want to #quit #sm...|UNKNOWN|        Day|    1|  1|      Vaud|        0|\n",
      "|1451657261000013512|      en|\"Your are what yo...|UNKNOWN|        Day|    1|  1|      Vaud|        0|\n",
      "|1451657744000008985|      en|Thus, \"Moderate I...|   MALE|        Day|    1|  1|      Vaud|        0|\n",
      "|1451659256000015015|      en|#nowplaying Haelo...|UNKNOWN|        Day|    1|  1|      Vaud|        0|\n",
      "|1451660028000015056|      en|\"@__arsenalnews_:...|UNKNOWN|        Day|    1|  1|      Bern|        0|\n",
      "|1451660618000007737|      en|@HeadLineNoise ne...|   MALE|        Day|    1|  1|    Zurich|        0|\n",
      "|1451661029000012240|      en|Happy 2016 to all...| FEMALE|        Day|    1|  1|      Vaud|        0|\n",
      "|1451661266000004367|      en|Beautiful Swiss b...|UNKNOWN|        Day|    1|  1|    Zurich|        0|\n",
      "+-------------------+--------+--------------------+-------+-----------+-----+---+----------+---------+\n",
      "only showing top 20 rows\n",
      "\n"
     ]
    }
   ],
   "source": [
    "df.show()"
   ]
  },
  {
   "cell_type": "code",
   "execution_count": 26,
   "metadata": {
    "collapsed": true
   },
   "outputs": [],
   "source": [
    "def get_hashtags(twt):\n",
    "    return(re.findall(r\"#(\\w+)\", twt))"
   ]
  },
  {
   "cell_type": "code",
   "execution_count": 27,
   "metadata": {
    "collapsed": false
   },
   "outputs": [],
   "source": [
    "udfTags = udf(get_hashtags, ArrayType(StringType()))"
   ]
  },
  {
   "cell_type": "code",
   "execution_count": 28,
   "metadata": {
    "collapsed": true
   },
   "outputs": [],
   "source": [
    "df = df.withColumn('tags', udfTags(\"main\"))"
   ]
  },
  {
   "cell_type": "code",
   "execution_count": 53,
   "metadata": {
    "collapsed": false
   },
   "outputs": [
    {
     "name": "stdout",
     "output_type": "stream",
     "text": [
      "+-------------------+--------+--------------------+-------+-----------+-----+---+----------+---------+--------------------+\n",
      "|                 id|language|                main| gender|time_period|month|tmp|    canton|sentiment|                tags|\n",
      "+-------------------+--------+--------------------+-------+-----------+-----+---+----------+---------+--------------------+\n",
      "|1451606943000012161|      en|@NaliniSingh we a...|UNKNOWN|      Night|    1|  1|      Vaud|        0|                  []|\n",
      "|1451607568000005493|      en|If bae gets any s...| FEMALE|      Night|    1|  1|      Vaud|        0|                  []|\n",
      "|1451609302000001820|      en|Listening to \"Bre...|   MALE|      Night|    1|  1|    Zurich|        0|        [nowplaying]|\n",
      "|1451618447000009640|      en|@Strippin @dexbon...|UNKNOWN|      Night|    1|  1|      Vaud|        0|                  []|\n",
      "|1451619941000014002|      en|@VictoriaJustice ...| FEMALE|      Night|    1|  1|      Vaud|        0|                  []|\n",
      "|1451623493000004879|      en|10NL Folded flush...| FEMALE|      Night|    1|  1|      Vaud|        0|[Poker, PaganoEve...|\n",
      "|1451632164000001178|      en|@Iam_boika I love...| FEMALE|        Day|    1|  1|    Geneva|        1|                  []|\n",
      "|1451640244000006984|      en|Kanye West releas...|UNKNOWN|        Day|    1|  1|      Vaud|        0|                  []|\n",
      "|1451643361000012166|      en|@LiviaQuinn #than...|   MALE|        Day|    1|  1|      Vaud|        0|   [thanks, retweet]|\n",
      "|1451644044000004409|      en|#Fraud Risk Manag...|UNKNOWN|        Day|    1|  1|Basel-City|        0|[Fraud, jobs, job...|\n",
      "|1451644572000013487|      en|Charlie Puth – On...|UNKNOWN|        Day|    1|  1|      Vaud|        0|                  []|\n",
      "|1451647098000005420|      en|Love Beauty Succe...|UNKNOWN|        Day|    1|  1|      Vaud|        0|                  []|\n",
      "|1451655503000015577|      en|Want to #quit #sm...|UNKNOWN|        Day|    1|  1|      Vaud|        0|[quit, smoking, N...|\n",
      "|1451657261000013512|      en|\"Your are what yo...|UNKNOWN|        Day|    1|  1|      Vaud|        0|[motivation, insp...|\n",
      "|1451657744000008985|      en|Thus, \"Moderate I...|   MALE|        Day|    1|  1|      Vaud|        0| [CIA, ISIS, Turkey]|\n",
      "|1451659256000015015|      en|#nowplaying Haelo...|UNKNOWN|        Day|    1|  1|      Vaud|        0|[nowplaying, haelos]|\n",
      "|1451660028000015056|      en|\"@__arsenalnews_:...|UNKNOWN|        Day|    1|  1|      Bern|        0|              [COYG]|\n",
      "|1451660618000007737|      en|@HeadLineNoise ne...|   MALE|        Day|    1|  1|    Zurich|        0|              [WTC7]|\n",
      "|1451661029000012240|      en|Happy 2016 to all...| FEMALE|        Day|    1|  1|      Vaud|        0|[thanksforeveryth...|\n",
      "|1451661266000004367|      en|Beautiful Swiss b...|UNKNOWN|        Day|    1|  1|    Zurich|        0|                  []|\n",
      "+-------------------+--------+--------------------+-------+-----------+-----+---+----------+---------+--------------------+\n",
      "only showing top 20 rows\n",
      "\n"
     ]
    }
   ],
   "source": [
    "df.show()"
   ]
  },
  {
   "cell_type": "code",
   "execution_count": 122,
   "metadata": {
    "collapsed": true
   },
   "outputs": [],
   "source": [
    "stpWords = set(stopwords.words(\"english\")).union(set(stopwords.words(\"french\")).union(set(stopwords.words(\"german\"))))\n",
    "def clean_main(twt):\n",
    "    tkns = re.sub(\"(@[A-Za-z0-9_]+)|([^A-Za-z \\t])|(\\w+:\\/\\/\\S+)\",\" \",' '.join(twt)).split()\n",
    "    tkns_l = [w.lower() for w in tkns]\n",
    "    return([word for word in tkns_l if word not in stpWords])    "
   ]
  },
  {
   "cell_type": "code",
   "execution_count": 125,
   "metadata": {
    "collapsed": true
   },
   "outputs": [],
   "source": [
    "udfTokenize = udf(clean_main, ArrayType(StringType()))"
   ]
  },
  {
   "cell_type": "code",
   "execution_count": 126,
   "metadata": {
    "collapsed": false
   },
   "outputs": [],
   "source": [
    "df = df.withColumn('tweet', udfTokenize(\"main\"))"
   ]
  },
  {
   "cell_type": "code",
   "execution_count": 128,
   "metadata": {
    "collapsed": false
   },
   "outputs": [],
   "source": [
    "df = df.drop(df.main).drop(id)"
   ]
  },
  {
   "cell_type": "code",
   "execution_count": 141,
   "metadata": {
    "collapsed": false
   },
   "outputs": [],
   "source": [
    "def concat(type):\n",
    "    def concat_(*args):\n",
    "        return list(chain(*args))\n",
    "    return udf(concat_, ArrayType(type))\n",
    "\n",
    "\n",
    "concat_string_arrays = concat(StringType())\n",
    "\n",
    "df = df.withColumn('keywords', concat_string_arrays(col(\"tweet\"), col(\"tags\")))"
   ]
  },
  {
   "cell_type": "code",
   "execution_count": 143,
   "metadata": {
    "collapsed": false
   },
   "outputs": [],
   "source": [
    "df = df.drop(df.tags).drop(df.keywords)"
   ]
  },
  {
   "cell_type": "code",
   "execution_count": 144,
   "metadata": {
    "collapsed": false
   },
   "outputs": [
    {
     "name": "stdout",
     "output_type": "stream",
     "text": [
      "+--------+-------+-----------+-----+---+----------+---------+--------------------+\n",
      "|language| gender|time_period|month|tmp|    canton|sentiment|               tweet|\n",
      "+--------+-------+-----------+-----+---+----------+---------+--------------------+\n",
      "|      en|UNKNOWN|      Night|    1|  1|      Vaud|        0|[anau, fishing, t...|\n",
      "|      en| FEMALE|      Night|    1|  1|      Vaud|        0|[bae, gets, smoot...|\n",
      "|      en|   MALE|      Night|    1|  1|    Zurich|        0|[listening, bread...|\n",
      "|      en|UNKNOWN|      Night|    1|  1|      Vaud|        0|[jesus, didnt, re...|\n",
      "|      en| FEMALE|      Night|    1|  1|      Vaud|        0|[vic, take, look,...|\n",
      "|      en| FEMALE|      Night|    1|  1|      Vaud|        0|[nl, folded, flus...|\n",
      "|      en| FEMALE|        Day|    1|  1|    Geneva|        1|        [love, papi]|\n",
      "|      en|UNKNOWN|        Day|    1|  1|      Vaud|        0|[kanye, west, rel...|\n",
      "|      en|   MALE|        Day|    1|  1|      Vaud|        0|[thanks, retweet,...|\n",
      "|      en|UNKNOWN|        Day|    1|  1|Basel-City|        0|[fraud, risk, man...|\n",
      "|      en|UNKNOWN|        Day|    1|  1|      Vaud|        0|[charlie, puth, o...|\n",
      "|      en|UNKNOWN|        Day|    1|  1|      Vaud|        0|[love, beauty, su...|\n",
      "|      en|UNKNOWN|        Day|    1|  1|      Vaud|        0|[want, quit, smok...|\n",
      "|      en|UNKNOWN|        Day|    1|  1|      Vaud|        0|[believe, paulo, ...|\n",
      "|      en|   MALE|        Day|    1|  1|      Vaud|        0|[thus, moderate, ...|\n",
      "|      en|UNKNOWN|        Day|    1|  1|      Vaud|        0|[nowplaying, hael...|\n",
      "|      en|UNKNOWN|        Day|    1|  1|      Bern|        0|[seeing, boys, li...|\n",
      "|      en|   MALE|        Day|    1|  1|    Zurich|        0|      [neither, wtc]|\n",
      "|      en| FEMALE|        Day|    1|  1|      Vaud|        0|[happy, friends, ...|\n",
      "|      en|UNKNOWN|        Day|    1|  1|    Zurich|        0|[beautiful, swiss...|\n",
      "+--------+-------+-----------+-----+---+----------+---------+--------------------+\n",
      "only showing top 20 rows\n",
      "\n"
     ]
    }
   ],
   "source": [
    "df.show()"
   ]
  },
  {
   "cell_type": "code",
   "execution_count": 3,
   "metadata": {
    "collapsed": false
   },
   "outputs": [],
   "source": [
    "df = sqlContext.read.parquet('file:///home/kirtan/Academics/EPFL/sem1/ADA/ADA-Project/twitter_data/twitter_forFreq.parquet')"
   ]
  },
  {
   "cell_type": "code",
   "execution_count": 7,
   "metadata": {
    "collapsed": false
   },
   "outputs": [],
   "source": [
    "df1 = sqlContext.createDataFrame([\n",
    "    ([\"L\", \"S\", \"Y\", \"S\"],  ),\n",
    "    ([\"L\", \"V\", \"I\", \"S\"],  ),\n",
    "    ([\"I\", \"A\", \"N\", \"A\"],  ),\n",
    "    ([\"I\", \"L\", \"S\", \"A\"],  ),\n",
    "    ([\"E\", \"N\", \"N\", \"Y\"],  ),\n",
    "    ([\"E\", \"I\", \"M\", \"A\"],  ),\n",
    "    ([\"O\", \"A\", \"N\", \"A\"],  ),\n",
    "    ([\"S\", \"U\", \"S\"],  )], \n",
    "    (\"tokens\", ))"
   ]
  },
  {
   "cell_type": "code",
   "execution_count": 68,
   "metadata": {
    "collapsed": false
   },
   "outputs": [],
   "source": [
    "def filter_df(df, keywords, column):\n",
    "    def check_L1_in_L2(l2):\n",
    "        for l in keywords:\n",
    "            if l in l2:\n",
    "                return True\n",
    "        return False\n",
    "    filt = udf(check_L1_in_L2, BooleanType())\n",
    "    return(df.where(filt(col(column))))"
   ]
  },
  {
   "cell_type": "code",
   "execution_count": 85,
   "metadata": {
    "collapsed": false
   },
   "outputs": [],
   "source": [
    "def get_grouped(df, column):\n",
    "    return(df.groupBy(column).agg((func.sum(df.sentiment)/func.sum(df.tmp)).alias('avg_sentiment'), func.sum(df.tmp).alias('count')))"
   ]
  },
  {
   "cell_type": "code",
   "execution_count": 41,
   "metadata": {
    "collapsed": false
   },
   "outputs": [
    {
     "name": "stdout",
     "output_type": "stream",
     "text": [
      "+--------------------+-------------------+-------+\n",
      "|              canton|      avg_sentiment|  count|\n",
      "+--------------------+-------------------+-------+\n",
      "|                Bern| 0.2026460148434979|  68178|\n",
      "|             Lucerne| 0.2885554149340083|  11062|\n",
      "|           Neuchâtel|0.26464646464646463|   3465|\n",
      "|Appenzell Innerrh...| 0.1276595744680851|     47|\n",
      "|        Schaffhausen| 0.3213728549141966|   1923|\n",
      "|                Vaud|0.19293273025541155|1762293|\n",
      "|              Ticino| 0.1091281351305238|  29305|\n",
      "|                 Uri|0.23214285714285715|     56|\n",
      "|              Valais|0.22400329871401695| 116409|\n",
      "|                Jura|0.23194748358862144|    457|\n",
      "|            Obwalden|0.13312693498452013|   1292|\n",
      "|              Geneva| 0.1413494047751649| 583561|\n",
      "|             Thurgau|0.19573400250941028|    797|\n",
      "|           Nidwalden|            0.33125|    160|\n",
      "|           Solothurn|0.28759493670886077|   3950|\n",
      "|          Basel-City| 0.2411903027091475| 241552|\n",
      "|              Zurich| 0.2431137485795549| 601924|\n",
      "|              Schwyz|  0.473972602739726|    365|\n",
      "|              Glarus| 0.5483870967741935|     31|\n",
      "|Appenzell Ausserr...| 0.5365239294710328|    397|\n",
      "+--------------------+-------------------+-------+\n",
      "only showing top 20 rows\n",
      "\n"
     ]
    }
   ],
   "source": [
    "get_grouped(df, 'canton').show()"
   ]
  },
  {
   "cell_type": "code",
   "execution_count": 87,
   "metadata": {
    "collapsed": true
   },
   "outputs": [],
   "source": [
    "def get_final_df(df, keywords, column, grp_column):\n",
    "    return(get_grouped(filter_df(df, keywords, column), grp_column))"
   ]
  },
  {
   "cell_type": "code",
   "execution_count": 43,
   "metadata": {
    "collapsed": false
   },
   "outputs": [
    {
     "name": "stdout",
     "output_type": "stream",
     "text": [
      "+----------+--------------------+-----+\n",
      "|    canton|       avg_sentiment|count|\n",
      "+----------+--------------------+-----+\n",
      "|      Bern|                 0.0|    4|\n",
      "|   Lucerne|                 0.0|    1|\n",
      "|      Vaud| 0.31266245822502786| 2693|\n",
      "|    Ticino|  0.6666666666666666|    6|\n",
      "|    Valais| 0.16666666666666666|   18|\n",
      "|    Geneva|0.038461538461538464|   26|\n",
      "| Solothurn|                -0.5|    2|\n",
      "|Basel-City| 0.27835051546391754|   97|\n",
      "|    Zurich| 0.15897435897435896|  195|\n",
      "|  Fribourg|                 0.0|    5|\n",
      "|    Aargau|                -1.0|    1|\n",
      "|   Grisons|                 0.0|    2|\n",
      "+----------+--------------------+-----+\n",
      "\n"
     ]
    }
   ],
   "source": [
    "get_final_df(df, ['federer'], 'tweet').show()"
   ]
  },
  {
   "cell_type": "code",
   "execution_count": 90,
   "metadata": {
    "collapsed": false
   },
   "outputs": [
    {
     "name": "stdout",
     "output_type": "stream",
     "text": [
      "+-----+-------------------+-----+\n",
      "|month|      avg_sentiment|count|\n",
      "+-----+-------------------+-----+\n",
      "|    1|0.03179650238473768|  629|\n",
      "|    2|0.21428571428571427|  770|\n",
      "|    3|0.31683168316831684|  505|\n",
      "|    4|0.25925925925925924|  324|\n",
      "|    5|0.35856573705179284|  251|\n",
      "|    6|0.21717171717171718|  198|\n",
      "|    7| 0.2754237288135593|  236|\n",
      "|    8|0.26200873362445415|  229|\n",
      "|    9|0.23622047244094488|  254|\n",
      "|   10| 0.3439024390243902|  410|\n",
      "+-----+-------------------+-----+\n",
      "\n"
     ]
    }
   ],
   "source": [
    "get_final_df(df, ['snow', 'Schnee', 'neige'], 'tweet', 'month').show()"
   ]
  },
  {
   "cell_type": "code",
   "execution_count": null,
   "metadata": {
    "collapsed": true
   },
   "outputs": [],
   "source": []
  }
 ],
 "metadata": {
  "anaconda-cloud": {},
  "kernelspec": {
   "display_name": "Python [default]",
   "language": "python",
   "name": "python3"
  },
  "language_info": {
   "codemirror_mode": {
    "name": "ipython",
    "version": 3
   },
   "file_extension": ".py",
   "mimetype": "text/x-python",
   "name": "python",
   "nbconvert_exporter": "python",
   "pygments_lexer": "ipython3",
   "version": "3.5.2"
  }
 },
 "nbformat": 4,
 "nbformat_minor": 0
}
