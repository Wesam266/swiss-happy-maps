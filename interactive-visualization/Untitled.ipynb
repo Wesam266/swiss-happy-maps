{
 "cells": [
  {
   "cell_type": "markdown",
   "metadata": {},
   "source": [
    "# swiss_sentiment_map\n",
    "Interactive Visualization for Twitter Sentiment Across Switzerland. Here is a video demo:\n",
    "\n",
    "[![Alt text](images_readme/youtube_choropleth.png)](https://www.youtube.com/watch?v=qdTp-QBqTcc)\n",
    "\n",
    "\n",
    "The maps were created with the information we got from the json files (in the cluster) corresponding to the twitter data. Please, refer to the jupyter notebook **/data_wrangling/twitter_cleaning.ipynb** to see how we got the csv file (**/leaflet-app/data/twitter.csv**) that we used for generating the map.\n",
    "\n",
    "**NOTE:** Before trying to run the application for displaying the map, please be sure you meet with the following:\n",
    "\n",
    "* R as well as R Studio have to be installed\\*\n",
    "* The following packets in R need to be also installed (we are writing also the version we used):\n",
    "  * sp (Classes and Methods for Spatial Data, version 1.2-4)  \n",
    "  * rgdal (Bindings for Geospatial Data Abstraction Library, version 1.2-5)\n",
    "  * shiny (Web Application Framework for R, version 1.0) `install_packages(\"shiny\")`\n",
    "\n",
    "To run the file:\n",
    "It is possible to run Shiny from the remote source. The simplest way is to run the following code in RStudio (assuming RStudio and Shiny is installed):\n",
    "\n",
    "`library(shiny)\n",
    "\n",
    "shiny::runGitHub(\"swiss_sentiment_map\", \"tbfang\")`\n",
    "\n",
    "Alternatively, it is possible to clone the repository, run the app with the following steps:\n",
    "\n",
    "* Open the \"run_leaflet.R\" file in R Studio, this file is localized in the root directory of this repository\n",
    "\n",
    "![image](images_readme/1.png)\n",
    "\n",
    "* Change the directory to the root directory of this repository (where both the \"run_leaflet.R\" file and the \"leaflet-app\" folder are) (go to \"Session -> Set Working Directory -> Choose Directory…\")\n",
    "\n",
    "![image](images_readme/2.png)\n",
    "\n",
    "![image](images_readme/3.png)\n",
    "\n",
    "* Press the \"Run app\" button localizad in the same \"run_leaflet.R\" pane\n",
    "\n",
    "![image](images_readme/run_app_b.png)\n",
    "\n",
    "After performing the mentioned steps, a new window of R Studio will be displayed showing the application for the interactive map:\n",
    "\n",
    "![image](images_readme/4.png)\n",
    "\n",
    "Due to the map is interactive, one can change the filters we want to apply for displaying the map such as the gender (male/female/both), language (English, German, French, All), time of the day (Day, Night, All) or select a specific month or a range of months (1 for January, 2 for February and so on until 10 for october). One also can hover over the cantons to see the sentiment value corresponding to it.\n",
    "\n",
    "**Examples of filters:**\n",
    "* Gender: Female\n",
    "* Language: English\n",
    "* Time of the day: Night\n",
    "* Months: 7-10 (from july to october)\n",
    "\n",
    "![image](images_readme/5.png)\n",
    "\n",
    "* Gender: Both\n",
    "* Language: All\n",
    "* Time of the day: All\n",
    "* Months: 5 (May)\n",
    "\n",
    "![image](images_readme/6.png)\n",
    "\n",
    "\\*For more information, please refer to https://www.r-project.org and https://www.rstudio.com\n"
   ]
  },
  {
   "cell_type": "code",
   "execution_count": null,
   "metadata": {
    "collapsed": true
   },
   "outputs": [],
   "source": []
  }
 ],
 "metadata": {
  "kernelspec": {
   "display_name": "Python 3",
   "language": "python",
   "name": "python3"
  },
  "language_info": {
   "codemirror_mode": {
    "name": "ipython",
    "version": 3
   },
   "file_extension": ".py",
   "mimetype": "text/x-python",
   "name": "python",
   "nbconvert_exporter": "python",
   "pygments_lexer": "ipython3",
   "version": "3.5.3"
  }
 },
 "nbformat": 4,
 "nbformat_minor": 0
}
