{
 "cells": [
  {
   "cell_type": "markdown",
   "metadata": {},
   "source": [
    "This gets the DataFrame as backend for Visualization. For now, this completes everything for July."
   ]
  },
  {
   "cell_type": "markdown",
   "metadata": {},
   "source": [
    "## Getting and saving the cleaned twitter data\n",
    "* We get the necessary columns for the twitter data from the  .json files by running the code on the cluster and saving the dataframes as parquet.\n",
    "* The code to get the data is in cleaned_twitter.py"
   ]
  },
  {
   "cell_type": "code",
   "execution_count": 1,
   "metadata": {
    "collapsed": true
   },
   "outputs": [],
   "source": [
    "import os\n",
    "import sys\n",
    "\n",
    "spark_path = os.environ[\"SPARK_PATH\"]\n",
    "os.environ['SPARK_HOME'] = spark_path\n",
    "os.environ['HADOOP_HOME'] = spark_path\n",
    "\n",
    "sys.path.append(spark_path + \"/bin\")\n",
    "sys.path.append(spark_path + \"/python\")\n",
    "sys.path.append(spark_path + \"/python/pyspark/\")\n",
    "sys.path.append(spark_path + \"/python/lib\")\n",
    "sys.path.append(spark_path + \"/python/lib/pyspark.zip\")\n",
    "sys.path.append(spark_path + \"/python/lib/py4j-0.9-src.zip\")"
   ]
  },
  {
   "cell_type": "code",
   "execution_count": 2,
   "metadata": {
    "collapsed": false
   },
   "outputs": [],
   "source": [
    "import pandas as pd\n",
    "import os\n",
    "from tqdm import tqdm\n",
    "from pyspark import SparkConf, SparkContext\n",
    "import pyspark.sql\n",
    "from pyspark.sql.types import *\n",
    "from pyspark.sql import SQLContext\n",
    "import time\n",
    "\n",
    "conf = SparkConf().setAppName(\"ADA-gcl\")\n",
    "sc = SparkContext(conf=conf)\n",
    "sqlContext = SQLContext(sc)\n",
    "#sqlContext.setConf(\"spark.sql.parquet.compression.codec\", \"snappy\")\n"
   ]
  },
  {
   "cell_type": "markdown",
   "metadata": {},
   "source": [
    "## Load the paqueret data"
   ]
  },
  {
   "cell_type": "markdown",
   "metadata": {},
   "source": [
    "## DataFrames\n",
    "* df1: num_followings, num_followers, mentions\n",
    "* df2: gender, geo_state\n",
    "* df3: language, sentiment, location, main, date, "
   ]
  },
  {
   "cell_type": "code",
   "execution_count": 3,
   "metadata": {
    "collapsed": false,
    "scrolled": true
   },
   "outputs": [],
   "source": [
    "path_user_info = 'file:///Users/tbfang/Documents/EPFL/ADA/ADA-Project/twitter_data/twitter_user_info_jul.parquet'\n",
    "df1 = sqlContext.read.parquet(path_user_info)\n",
    "\n",
    "path_gender = 'file:///Users/tbfang/Documents/EPFL/ADA/ADA-Project/twitter_data/twitter_gender_jul.parquet'\n",
    "df2 = sqlContext.read.parquet(path_gender)\n",
    "\n",
    "path_sentiment = 'file:///Users/tbfang/Documents/EPFL/ADA/ADA-Project/twitter_data/twitter_cleaned_jul.parquet'\n",
    "df3 = sqlContext.read.parquet(path_sentiment)"
   ]
  },
  {
   "cell_type": "code",
   "execution_count": 4,
   "metadata": {
    "collapsed": false
   },
   "outputs": [],
   "source": [
    "df1 = df1.toPandas()\n",
    "df2 = df2.toPandas()\n",
    "df3 = df3.toPandas()"
   ]
  },
  {
   "cell_type": "code",
   "execution_count": 5,
   "metadata": {
    "collapsed": false,
    "scrolled": true
   },
   "outputs": [
    {
     "name": "stdout",
     "output_type": "stream",
     "text": [
      "795026 795026 795026\n"
     ]
    }
   ],
   "source": [
    "print(df1.shape[0], df2.shape[0], df3.shape[0])"
   ]
  },
  {
   "cell_type": "code",
   "execution_count": 6,
   "metadata": {
    "collapsed": false
   },
   "outputs": [],
   "source": [
    "orig_df = df1.merge(df2,on='id').merge(df3,on='id')"
   ]
  },
  {
   "cell_type": "code",
   "execution_count": 7,
   "metadata": {
    "collapsed": false
   },
   "outputs": [],
   "source": [
    "df = df1.merge(df2,on='id').merge(df3,on='id')"
   ]
  },
  {
   "cell_type": "code",
   "execution_count": 9,
   "metadata": {
    "collapsed": false
   },
   "outputs": [],
   "source": [
    "code_mapping = pd.read_csv('twitter_data/canton_code.csv').ix[:,1:3]"
   ]
  },
  {
   "cell_type": "code",
   "execution_count": 12,
   "metadata": {
    "collapsed": true
   },
   "outputs": [],
   "source": [
    "code_mapping.columns = ['canton_code','canton']"
   ]
  },
  {
   "cell_type": "code",
   "execution_count": 13,
   "metadata": {
    "collapsed": false
   },
   "outputs": [],
   "source": [
    "df = code_mapping.merge(df, on='canton', how='inner')"
   ]
  },
  {
   "cell_type": "code",
   "execution_count": 14,
   "metadata": {
    "collapsed": false
   },
   "outputs": [
    {
     "data": {
      "text/plain": [
       "canton_code      357881\n",
       "canton           357881\n",
       "id               357881\n",
       "num_followers    357881\n",
       "num_following    357815\n",
       "mentions         119627\n",
       "gender           357868\n",
       "language         357881\n",
       "sentiment        316497\n",
       "location         343200\n",
       "main             357881\n",
       "date             357881\n",
       "dtype: int64"
      ]
     },
     "execution_count": 14,
     "metadata": {},
     "output_type": "execute_result"
    }
   ],
   "source": [
    "df.count()"
   ]
  },
  {
   "cell_type": "markdown",
   "metadata": {},
   "source": [
    "## Analyzing DF\n",
    "* 28/80, ~35% haveinfo about chatters\n",
    "* 48/80, ~60% have cantons > 50%, pretty good!\n",
    "* 70/80, ~87.5% have sentiment"
   ]
  },
  {
   "cell_type": "markdown",
   "metadata": {},
   "source": [
    "### DataFrame Transformations\n",
    "* DONE mentions -> number\n",
    "* DONE parse date into month and time of day (6am to 6pm) (6pm to 6am) is night"
   ]
  },
  {
   "cell_type": "code",
   "execution_count": 15,
   "metadata": {
    "collapsed": false,
    "scrolled": true
   },
   "outputs": [],
   "source": [
    "df.mentions.fillna(\"\",inplace=True)"
   ]
  },
  {
   "cell_type": "markdown",
   "metadata": {},
   "source": [
    "### converting date"
   ]
  },
  {
   "cell_type": "code",
   "execution_count": 16,
   "metadata": {
    "collapsed": false
   },
   "outputs": [],
   "source": [
    "def month(iso_time):\n",
    "    time_struct = time.strptime(iso_time, \"%Y-%m-%dT%H:%M:%SZ\")\n",
    "    return time_struct.tm_mon"
   ]
  },
  {
   "cell_type": "code",
   "execution_count": 17,
   "metadata": {
    "collapsed": true
   },
   "outputs": [],
   "source": [
    "def time_of_day(iso_time):\n",
    "    time_struct = time.strptime(iso_time, \"%Y-%m-%dT%H:%M:%SZ\")\n",
    "    hour = time_struct.tm_hour\n",
    "    if 6 <= hour < 18:\n",
    "        return \"Day\"\n",
    "    else:\n",
    "        return \"Night\""
   ]
  },
  {
   "cell_type": "code",
   "execution_count": 18,
   "metadata": {
    "collapsed": false
   },
   "outputs": [],
   "source": [
    "df['num_mentions'] = df.mentions.apply(len)\n",
    "df['time_of_day'] = df.date.apply(time_of_day)\n",
    "df['month'] = df.date.apply(month)"
   ]
  },
  {
   "cell_type": "code",
   "execution_count": 19,
   "metadata": {
    "collapsed": false,
    "scrolled": true
   },
   "outputs": [
    {
     "data": {
      "text/html": [
       "<div>\n",
       "<table border=\"1\" class=\"dataframe\">\n",
       "  <thead>\n",
       "    <tr style=\"text-align: right;\">\n",
       "      <th></th>\n",
       "      <th>canton_code</th>\n",
       "      <th>canton</th>\n",
       "      <th>id</th>\n",
       "      <th>num_followers</th>\n",
       "      <th>num_following</th>\n",
       "      <th>mentions</th>\n",
       "      <th>gender</th>\n",
       "      <th>language</th>\n",
       "      <th>sentiment</th>\n",
       "      <th>location</th>\n",
       "      <th>main</th>\n",
       "      <th>date</th>\n",
       "      <th>num_mentions</th>\n",
       "      <th>time_of_day</th>\n",
       "      <th>month</th>\n",
       "    </tr>\n",
       "  </thead>\n",
       "  <tbody>\n",
       "    <tr>\n",
       "      <th>0</th>\n",
       "      <td>AG</td>\n",
       "      <td>Aargau</td>\n",
       "      <td>1467354438402300035</td>\n",
       "      <td>34</td>\n",
       "      <td>97.0</td>\n",
       "      <td></td>\n",
       "      <td>MALE</td>\n",
       "      <td>U</td>\n",
       "      <td>None</td>\n",
       "      <td>Baden</td>\n",
       "      <td>#schweiz #switzerland #suisse #swiss #svizzera...</td>\n",
       "      <td>2016-07-01T06:23:45Z</td>\n",
       "      <td>0</td>\n",
       "      <td>Day</td>\n",
       "      <td>7</td>\n",
       "    </tr>\n",
       "    <tr>\n",
       "      <th>1</th>\n",
       "      <td>AG</td>\n",
       "      <td>Aargau</td>\n",
       "      <td>1467398079407500174</td>\n",
       "      <td>1634</td>\n",
       "      <td>1588.0</td>\n",
       "      <td>[simonshirley72]</td>\n",
       "      <td>UNKNOWN</td>\n",
       "      <td>en</td>\n",
       "      <td>POSITIVE</td>\n",
       "      <td>Switzerland</td>\n",
       "      <td>@simonshirley72 go #storm didn't see that scor...</td>\n",
       "      <td>2016-07-01T18:31:53Z</td>\n",
       "      <td>1</td>\n",
       "      <td>Night</td>\n",
       "      <td>7</td>\n",
       "    </tr>\n",
       "    <tr>\n",
       "      <th>2</th>\n",
       "      <td>AG</td>\n",
       "      <td>Aargau</td>\n",
       "      <td>1467384385377100009</td>\n",
       "      <td>728</td>\n",
       "      <td>254.0</td>\n",
       "      <td></td>\n",
       "      <td>FEMALE</td>\n",
       "      <td>en</td>\n",
       "      <td>POSITIVE</td>\n",
       "      <td>Switzerland</td>\n",
       "      <td>In vet's with Aethelflaed. The good thing abou...</td>\n",
       "      <td>2016-07-01T14:43:11Z</td>\n",
       "      <td>0</td>\n",
       "      <td>Day</td>\n",
       "      <td>7</td>\n",
       "    </tr>\n",
       "    <tr>\n",
       "      <th>3</th>\n",
       "      <td>AG</td>\n",
       "      <td>Aargau</td>\n",
       "      <td>1467403635318000029</td>\n",
       "      <td>1634</td>\n",
       "      <td>1588.0</td>\n",
       "      <td>[hannahmchugh_]</td>\n",
       "      <td>UNKNOWN</td>\n",
       "      <td>en</td>\n",
       "      <td>POSITIVE</td>\n",
       "      <td>Switzerland</td>\n",
       "      <td>@hannahmchugh_ Not a good day at all.</td>\n",
       "      <td>2016-07-01T20:05:03Z</td>\n",
       "      <td>1</td>\n",
       "      <td>Night</td>\n",
       "      <td>7</td>\n",
       "    </tr>\n",
       "    <tr>\n",
       "      <th>4</th>\n",
       "      <td>AG</td>\n",
       "      <td>Aargau</td>\n",
       "      <td>1467380876526700035</td>\n",
       "      <td>1634</td>\n",
       "      <td>1588.0</td>\n",
       "      <td>[callyowl, malcolm_fox2, babygibbo]</td>\n",
       "      <td>UNKNOWN</td>\n",
       "      <td>U</td>\n",
       "      <td>None</td>\n",
       "      <td>Switzerland</td>\n",
       "      <td>@callyowl @malcolm_fox2 @babygibbo</td>\n",
       "      <td>2016-07-01T13:45:23Z</td>\n",
       "      <td>3</td>\n",
       "      <td>Day</td>\n",
       "      <td>7</td>\n",
       "    </tr>\n",
       "  </tbody>\n",
       "</table>\n",
       "</div>"
      ],
      "text/plain": [
       "  canton_code  canton                   id  num_followers  num_following  \\\n",
       "0          AG  Aargau  1467354438402300035             34           97.0   \n",
       "1          AG  Aargau  1467398079407500174           1634         1588.0   \n",
       "2          AG  Aargau  1467384385377100009            728          254.0   \n",
       "3          AG  Aargau  1467403635318000029           1634         1588.0   \n",
       "4          AG  Aargau  1467380876526700035           1634         1588.0   \n",
       "\n",
       "                              mentions   gender language sentiment  \\\n",
       "0                                          MALE        U      None   \n",
       "1                     [simonshirley72]  UNKNOWN       en  POSITIVE   \n",
       "2                                        FEMALE       en  POSITIVE   \n",
       "3                      [hannahmchugh_]  UNKNOWN       en  POSITIVE   \n",
       "4  [callyowl, malcolm_fox2, babygibbo]  UNKNOWN        U      None   \n",
       "\n",
       "      location                                               main  \\\n",
       "0        Baden  #schweiz #switzerland #suisse #swiss #svizzera...   \n",
       "1  Switzerland  @simonshirley72 go #storm didn't see that scor...   \n",
       "2  Switzerland  In vet's with Aethelflaed. The good thing abou...   \n",
       "3  Switzerland              @hannahmchugh_ Not a good day at all.   \n",
       "4  Switzerland                 @callyowl @malcolm_fox2 @babygibbo   \n",
       "\n",
       "                   date  num_mentions time_of_day  month  \n",
       "0  2016-07-01T06:23:45Z             0         Day      7  \n",
       "1  2016-07-01T18:31:53Z             1       Night      7  \n",
       "2  2016-07-01T14:43:11Z             0         Day      7  \n",
       "3  2016-07-01T20:05:03Z             1       Night      7  \n",
       "4  2016-07-01T13:45:23Z             3         Day      7  "
      ]
     },
     "execution_count": 19,
     "metadata": {},
     "output_type": "execute_result"
    }
   ],
   "source": [
    "df.head()"
   ]
  },
  {
   "cell_type": "markdown",
   "metadata": {},
   "source": [
    "## Tweet Level"
   ]
  },
  {
   "cell_type": "code",
   "execution_count": 20,
   "metadata": {
    "collapsed": false,
    "scrolled": true
   },
   "outputs": [],
   "source": [
    "df_author = df.drop(['mentions','location','main','date','num_mentions'],axis=1)\n",
    "df.drop(['mentions','location','main','date','num_followers','num_following'],axis=1,inplace=True)\n",
    "df.dropna(inplace=True)\n",
    "# keeps 48/80 = 60% of data\n",
    "# keeps only gender is known"
   ]
  },
  {
   "cell_type": "markdown",
   "metadata": {},
   "source": [
    "## Cleaning up Cantons\n",
    "\n",
    "Currently, there are 170 \"cantons\" from geo_state, that needs to be cleaned..."
   ]
  },
  {
   "cell_type": "code",
   "execution_count": 21,
   "metadata": {
    "collapsed": false,
    "scrolled": false
   },
   "outputs": [
    {
     "data": {
      "text/plain": [
       "23"
      ]
     },
     "execution_count": 21,
     "metadata": {},
     "output_type": "execute_result"
    }
   ],
   "source": [
    "len(pd.DataFrame(df['canton'].unique(),columns=['Canton']))"
   ]
  },
  {
   "cell_type": "markdown",
   "metadata": {},
   "source": [
    "## Handling Authors\n",
    "\n",
    "Getting distinct authors only, I assume if they have the same # of followers, following and gender they are the same person."
   ]
  },
  {
   "cell_type": "code",
   "execution_count": 22,
   "metadata": {
    "collapsed": false,
    "scrolled": true
   },
   "outputs": [
    {
     "data": {
      "text/plain": [
       "357881"
      ]
     },
     "execution_count": 22,
     "metadata": {},
     "output_type": "execute_result"
    }
   ],
   "source": [
    "df_author.shape[0]"
   ]
  },
  {
   "cell_type": "code",
   "execution_count": 23,
   "metadata": {
    "collapsed": false,
    "scrolled": true
   },
   "outputs": [],
   "source": [
    "df_author.drop_duplicates(['num_followers', 'num_following', 'gender'], inplace=True) # only the authors"
   ]
  },
  {
   "cell_type": "markdown",
   "metadata": {},
   "source": [
    "Need a notion of sample size, has to be significant. Need to remove outliers for num_followers"
   ]
  },
  {
   "cell_type": "code",
   "execution_count": 24,
   "metadata": {
    "collapsed": false,
    "scrolled": true
   },
   "outputs": [],
   "source": [
    "df_author = df_author.groupby(['canton','gender','language','time_of_day','month'], as_index=False).mean()"
   ]
  },
  {
   "cell_type": "code",
   "execution_count": 25,
   "metadata": {
    "collapsed": false
   },
   "outputs": [],
   "source": [
    "sentiment_map = {'NEUTRAL': 0, 'POSITIVE':1, 'NEGATIVE':-1}\n",
    "# df['sentiment_val'] = \n",
    "df['sentiment'] = df.sentiment.map(sentiment_map)"
   ]
  },
  {
   "cell_type": "code",
   "execution_count": 26,
   "metadata": {
    "collapsed": false,
    "scrolled": true
   },
   "outputs": [],
   "source": [
    "df_user = df.groupby(['canton','gender','language','time_of_day','month'], as_index=False).mean()"
   ]
  },
  {
   "cell_type": "code",
   "execution_count": 33,
   "metadata": {
    "collapsed": false,
    "scrolled": true
   },
   "outputs": [
    {
     "data": {
      "text/html": [
       "<div>\n",
       "<table border=\"1\" class=\"dataframe\">\n",
       "  <thead>\n",
       "    <tr style=\"text-align: right;\">\n",
       "      <th></th>\n",
       "      <th>canton</th>\n",
       "      <th>gender</th>\n",
       "      <th>language</th>\n",
       "      <th>time_of_day</th>\n",
       "      <th>month</th>\n",
       "      <th>canton_code</th>\n",
       "      <th>id</th>\n",
       "      <th>sentiment</th>\n",
       "      <th>num_mentions</th>\n",
       "    </tr>\n",
       "  </thead>\n",
       "  <tbody>\n",
       "    <tr>\n",
       "      <th>0</th>\n",
       "      <td>Aargau</td>\n",
       "      <td>FEMALE</td>\n",
       "      <td>de</td>\n",
       "      <td>Day</td>\n",
       "      <td>7</td>\n",
       "      <td>217</td>\n",
       "      <td>217</td>\n",
       "      <td>217</td>\n",
       "      <td>217</td>\n",
       "    </tr>\n",
       "    <tr>\n",
       "      <th>1</th>\n",
       "      <td>Aargau</td>\n",
       "      <td>FEMALE</td>\n",
       "      <td>de</td>\n",
       "      <td>Night</td>\n",
       "      <td>7</td>\n",
       "      <td>64</td>\n",
       "      <td>64</td>\n",
       "      <td>64</td>\n",
       "      <td>64</td>\n",
       "    </tr>\n",
       "    <tr>\n",
       "      <th>2</th>\n",
       "      <td>Aargau</td>\n",
       "      <td>FEMALE</td>\n",
       "      <td>en</td>\n",
       "      <td>Day</td>\n",
       "      <td>7</td>\n",
       "      <td>473</td>\n",
       "      <td>473</td>\n",
       "      <td>473</td>\n",
       "      <td>473</td>\n",
       "    </tr>\n",
       "    <tr>\n",
       "      <th>3</th>\n",
       "      <td>Aargau</td>\n",
       "      <td>FEMALE</td>\n",
       "      <td>en</td>\n",
       "      <td>Night</td>\n",
       "      <td>7</td>\n",
       "      <td>362</td>\n",
       "      <td>362</td>\n",
       "      <td>362</td>\n",
       "      <td>362</td>\n",
       "    </tr>\n",
       "    <tr>\n",
       "      <th>4</th>\n",
       "      <td>Aargau</td>\n",
       "      <td>FEMALE</td>\n",
       "      <td>es</td>\n",
       "      <td>Day</td>\n",
       "      <td>7</td>\n",
       "      <td>13</td>\n",
       "      <td>13</td>\n",
       "      <td>13</td>\n",
       "      <td>13</td>\n",
       "    </tr>\n",
       "  </tbody>\n",
       "</table>\n",
       "</div>"
      ],
      "text/plain": [
       "   canton  gender language time_of_day  month  canton_code   id  sentiment  \\\n",
       "0  Aargau  FEMALE       de         Day      7          217  217        217   \n",
       "1  Aargau  FEMALE       de       Night      7           64   64         64   \n",
       "2  Aargau  FEMALE       en         Day      7          473  473        473   \n",
       "3  Aargau  FEMALE       en       Night      7          362  362        362   \n",
       "4  Aargau  FEMALE       es         Day      7           13   13         13   \n",
       "\n",
       "   num_mentions  \n",
       "0           217  \n",
       "1            64  \n",
       "2           473  \n",
       "3           362  \n",
       "4            13  "
      ]
     },
     "execution_count": 33,
     "metadata": {},
     "output_type": "execute_result"
    }
   ],
   "source": [
    "df.groupby(['canton','gender','language','time_of_day','month'], as_index=False).count().head()"
   ]
  },
  {
   "cell_type": "code",
   "execution_count": 28,
   "metadata": {
    "collapsed": false,
    "scrolled": true
   },
   "outputs": [],
   "source": [
    "df_final = df_user.merge(df_author,on=['canton','gender','language','time_of_day','month'])"
   ]
  },
  {
   "cell_type": "code",
   "execution_count": 29,
   "metadata": {
    "collapsed": false
   },
   "outputs": [
    {
     "data": {
      "text/plain": [
       "691"
      ]
     },
     "execution_count": 29,
     "metadata": {},
     "output_type": "execute_result"
    }
   ],
   "source": [
    "df_final.shape[0]"
   ]
  },
  {
   "cell_type": "markdown",
   "metadata": {},
   "source": [
    "### Evaluating the goodness of the conditions\n",
    "We want to make sure there is enough in each category. We want to minimize the # of 0 sentiments."
   ]
  },
  {
   "cell_type": "code",
   "execution_count": 30,
   "metadata": {
    "collapsed": false,
    "scrolled": false
   },
   "outputs": [
    {
     "data": {
      "text/plain": [
       "345"
      ]
     },
     "execution_count": 30,
     "metadata": {},
     "output_type": "execute_result"
    }
   ],
   "source": [
    "df_final[df_final['sentiment'] == 0].shape[0] # sentiment = 0 means "
   ]
  },
  {
   "cell_type": "code",
   "execution_count": 32,
   "metadata": {
    "collapsed": false,
    "scrolled": true
   },
   "outputs": [
    {
     "data": {
      "text/html": [
       "<div>\n",
       "<table border=\"1\" class=\"dataframe\">\n",
       "  <thead>\n",
       "    <tr style=\"text-align: right;\">\n",
       "      <th></th>\n",
       "      <th>canton</th>\n",
       "      <th>gender</th>\n",
       "      <th>language</th>\n",
       "      <th>time_of_day</th>\n",
       "      <th>month</th>\n",
       "      <th>sentiment</th>\n",
       "      <th>num_mentions</th>\n",
       "      <th>num_followers</th>\n",
       "      <th>num_following</th>\n",
       "    </tr>\n",
       "  </thead>\n",
       "  <tbody>\n",
       "    <tr>\n",
       "      <th>0</th>\n",
       "      <td>Aargau</td>\n",
       "      <td>FEMALE</td>\n",
       "      <td>de</td>\n",
       "      <td>Day</td>\n",
       "      <td>7</td>\n",
       "      <td>0.064516</td>\n",
       "      <td>0.917051</td>\n",
       "      <td>631.705882</td>\n",
       "      <td>349.117647</td>\n",
       "    </tr>\n",
       "    <tr>\n",
       "      <th>1</th>\n",
       "      <td>Aargau</td>\n",
       "      <td>FEMALE</td>\n",
       "      <td>de</td>\n",
       "      <td>Night</td>\n",
       "      <td>7</td>\n",
       "      <td>0.031250</td>\n",
       "      <td>0.750000</td>\n",
       "      <td>620.750000</td>\n",
       "      <td>404.625000</td>\n",
       "    </tr>\n",
       "    <tr>\n",
       "      <th>2</th>\n",
       "      <td>Aargau</td>\n",
       "      <td>FEMALE</td>\n",
       "      <td>en</td>\n",
       "      <td>Day</td>\n",
       "      <td>7</td>\n",
       "      <td>0.228330</td>\n",
       "      <td>0.463002</td>\n",
       "      <td>1491.015873</td>\n",
       "      <td>448.031746</td>\n",
       "    </tr>\n",
       "    <tr>\n",
       "      <th>3</th>\n",
       "      <td>Aargau</td>\n",
       "      <td>FEMALE</td>\n",
       "      <td>en</td>\n",
       "      <td>Night</td>\n",
       "      <td>7</td>\n",
       "      <td>0.116022</td>\n",
       "      <td>0.638122</td>\n",
       "      <td>656.387097</td>\n",
       "      <td>547.548387</td>\n",
       "    </tr>\n",
       "    <tr>\n",
       "      <th>4</th>\n",
       "      <td>Aargau</td>\n",
       "      <td>FEMALE</td>\n",
       "      <td>es</td>\n",
       "      <td>Day</td>\n",
       "      <td>7</td>\n",
       "      <td>0.000000</td>\n",
       "      <td>0.538462</td>\n",
       "      <td>156.500000</td>\n",
       "      <td>81.500000</td>\n",
       "    </tr>\n",
       "  </tbody>\n",
       "</table>\n",
       "</div>"
      ],
      "text/plain": [
       "   canton  gender language time_of_day  month  sentiment  num_mentions  \\\n",
       "0  Aargau  FEMALE       de         Day      7   0.064516      0.917051   \n",
       "1  Aargau  FEMALE       de       Night      7   0.031250      0.750000   \n",
       "2  Aargau  FEMALE       en         Day      7   0.228330      0.463002   \n",
       "3  Aargau  FEMALE       en       Night      7   0.116022      0.638122   \n",
       "4  Aargau  FEMALE       es         Day      7   0.000000      0.538462   \n",
       "\n",
       "   num_followers  num_following  \n",
       "0     631.705882     349.117647  \n",
       "1     620.750000     404.625000  \n",
       "2    1491.015873     448.031746  \n",
       "3     656.387097     547.548387  \n",
       "4     156.500000      81.500000  "
      ]
     },
     "execution_count": 32,
     "metadata": {},
     "output_type": "execute_result"
    }
   ],
   "source": [
    "df_final.head()"
   ]
  },
  {
   "cell_type": "markdown",
   "metadata": {},
   "source": [
    "## Final DF\n",
    "\n",
    "* canton, gender, language, time of day, month are things we want to filter by\n",
    "* sentiment, num mentions, num followers, and num_following are all averages for those specified categories. For num_followers and num_followings, it only averages the unique tweet authors. Sentiment and num mentions are averages over all tweets in those filters.\n",
    "\n",
    "* will have big DataFrame for July to October. Good enough to do visualization...\n",
    "\n",
    "Need to do:\n",
    "* map location to Google Maps to cantons for January to June.\n",
    "\n",
    "Spark/cluster work:\n",
    "* January gender needs to be fixed"
   ]
  },
  {
   "cell_type": "markdown",
   "metadata": {},
   "source": [
    "## creating the Canton Map"
   ]
  },
  {
   "cell_type": "markdown",
   "metadata": {},
   "source": [
    "It's not possible to do location to canton mapping... So we need to map location to cantons directly. We lose too many locations. We need to use Google Maps to automatically map this... This is for January to June. "
   ]
  },
  {
   "cell_type": "code",
   "execution_count": null,
   "metadata": {
    "collapsed": false
   },
   "outputs": [],
   "source": [
    "orig_df.groupby('location').count().sort('id', ascending=False).head(100)"
   ]
  },
  {
   "cell_type": "code",
   "execution_count": null,
   "metadata": {
    "collapsed": false,
    "scrolled": true
   },
   "outputs": [],
   "source": [
    "canton_mapping = orig_df[['canton','location']].dropna().drop_duplicates()"
   ]
  },
  {
   "cell_type": "code",
   "execution_count": null,
   "metadata": {
    "collapsed": false,
    "scrolled": true
   },
   "outputs": [],
   "source": [
    "canton_mapping.groupby('canton').count().sort('location',ascending=False)"
   ]
  },
  {
   "cell_type": "code",
   "execution_count": null,
   "metadata": {
    "collapsed": true
   },
   "outputs": [],
   "source": []
  },
  {
   "cell_type": "code",
   "execution_count": null,
   "metadata": {
    "collapsed": false,
    "scrolled": true
   },
   "outputs": [],
   "source": [
    "pd.DataFrame(canton_mapping.canton.unique(),columns=['Canton'])"
   ]
  },
  {
   "cell_type": "code",
   "execution_count": null,
   "metadata": {
    "collapsed": false
   },
   "outputs": [],
   "source": [
    "code_mapping = pd.read_csv('twitter_data/canton_code.csv').ix[:,1:3]"
   ]
  },
  {
   "cell_type": "code",
   "execution_count": null,
   "metadata": {
    "collapsed": false
   },
   "outputs": [],
   "source": [
    "canton_mapping.head()"
   ]
  },
  {
   "cell_type": "code",
   "execution_count": null,
   "metadata": {
    "collapsed": false,
    "scrolled": true
   },
   "outputs": [],
   "source": [
    "code_mapping.head()"
   ]
  },
  {
   "cell_type": "code",
   "execution_count": null,
   "metadata": {
    "collapsed": true
   },
   "outputs": [],
   "source": [
    "code_mapping.columns = ['canton_code','canton']"
   ]
  },
  {
   "cell_type": "code",
   "execution_count": null,
   "metadata": {
    "collapsed": false,
    "scrolled": true
   },
   "outputs": [],
   "source": [
    "code_mapping.merge(canton_mapping, on='canton', how='inner')"
   ]
  },
  {
   "cell_type": "code",
   "execution_count": null,
   "metadata": {
    "collapsed": false
   },
   "outputs": [],
   "source": [
    "canton_mapping.head()"
   ]
  },
  {
   "cell_type": "code",
   "execution_count": null,
   "metadata": {
    "collapsed": false,
    "scrolled": true
   },
   "outputs": [],
   "source": [
    "canton_mapping.groupby('location').count().sort('canton',ascending=False)"
   ]
  },
  {
   "cell_type": "markdown",
   "metadata": {},
   "source": [
    "Creating a Canton to Location Mapping"
   ]
  },
  {
   "cell_type": "code",
   "execution_count": null,
   "metadata": {
    "collapsed": false
   },
   "outputs": [],
   "source": [
    "swiss_cantons = ['AG', 'AI', 'AR', 'BE', 'BL', 'BS', 'FR', 'GE', 'GL', 'GR', 'JU', 'LU', 'NE', 'NW', \n",
    "                 'OW', 'SG', 'SH', 'SO', 'SZ', 'TG', 'TI', 'UR', 'VD', 'VS', 'ZG', 'ZH']"
   ]
  },
  {
   "cell_type": "code",
   "execution_count": null,
   "metadata": {
    "collapsed": false
   },
   "outputs": [],
   "source": [
    "len(swiss_cantons)"
   ]
  }
 ],
 "metadata": {
  "anaconda-cloud": {},
  "kernelspec": {
   "display_name": "Python 3",
   "language": "python",
   "name": "python3"
  },
  "language_info": {
   "codemirror_mode": {
    "name": "ipython",
    "version": 3
   },
   "file_extension": ".py",
   "mimetype": "text/x-python",
   "name": "python",
   "nbconvert_exporter": "python",
   "pygments_lexer": "ipython3",
   "version": "3.5.1"
  }
 },
 "nbformat": 4,
 "nbformat_minor": 0
}
