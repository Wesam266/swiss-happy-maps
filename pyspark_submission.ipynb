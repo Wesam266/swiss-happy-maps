{
 "cells": [
  {
   "cell_type": "markdown",
   "metadata": {},
   "source": [
    "This module allows us to write code and submit spark applications write on Jupyter, so we don't have to copy and do spark-submit."
   ]
  },
  {
   "cell_type": "markdown",
   "metadata": {},
   "source": [
    "## Initializing PySpark\n",
    "\n",
    "* cannot run with more than one sc, must close all existing SparkContexts before starting a new one\n",
    "* SPARK_PATH should be changed to whatever variable name used for the spark path."
   ]
  },
  {
   "cell_type": "code",
   "execution_count": 1,
   "metadata": {
    "collapsed": false
   },
   "outputs": [],
   "source": [
    "import os\n",
    "import sys\n",
    "\n",
    "spark_path = os.environ[\"SPARK_PATH\"]\n",
    "os.environ['SPARK_HOME'] = spark_path\n",
    "os.environ['HADOOP_HOME'] = spark_path\n",
    "\n",
    "sys.path.append(spark_path + \"/bin\")\n",
    "sys.path.append(spark_path + \"/python\")\n",
    "sys.path.append(spark_path + \"/python/pyspark/\")\n",
    "sys.path.append(spark_path + \"/python/lib\")\n",
    "sys.path.append(spark_path + \"/python/lib/pyspark.zip\")\n",
    "sys.path.append(spark_path + \"/python/lib/py4j-0.9-src.zip\")"
   ]
  },
  {
   "cell_type": "markdown",
   "metadata": {},
   "source": [
    "## Code"
   ]
  },
  {
   "cell_type": "code",
   "execution_count": 2,
   "metadata": {
    "collapsed": false
   },
   "outputs": [
    {
     "name": "stdout",
     "output_type": "stream",
     "text": [
      "Posts w/o sentiment: 7227\n",
      "Posts with sentiment: 2523\n"
     ]
    }
   ],
   "source": [
    "import json\n",
    "import os\n",
    "import glob\n",
    "from pyspark import SparkConf, SparkContext\n",
    "\n",
    "\n",
    "conf = SparkConf().setAppName(\"ADA-gcl\")\n",
    "sc = SparkContext(conf=conf)\n",
    "\n",
    "def count_sentiment(p):\n",
    "    rdd = sc.wholeTextFiles(p).values()\n",
    "    parsed = rdd.map(json.loads)\n",
    "    m=parsed.top(1)\n",
    "    no_sentiment=0\n",
    "    sentiment=0\n",
    "    for i in range(len(m[0])):\n",
    "        if 'sentiment' not in m[0][i]['_source'].keys():\n",
    "            no_sentiment+=1\n",
    "        else:\n",
    "            sentiment+=1\n",
    "    return no_sentiment, sentiment\n",
    "\n",
    "#path = os.getcwd() +'/datasets'\n",
    "pathe = 'hdfs://iccluster046.iccluster.epfl.ch:8020/datasets/goodcitylife/april/harvest3r_instagram_data_28-04_0.json'\n",
    "instagram_files='/harvest3r_instagram_data*.json'\n",
    "news_files='/harvest3r_news_data*.json'\n",
    "twitter_files='/harvest3r_twitter_data*.json'\n",
    "count_wo_sentiment=0\n",
    "count_w_sentiment=0\n",
    "#for folder in os.listdir(path):\n",
    "#    for file in glob.glob(os.path.join(path,folder + instagram_files)):\n",
    "#        print(file)\n",
    "no_sent,sent=count_sentiment(pathe)\n",
    "count_wo_sentiment=no_sent\n",
    "count_w_sentiment=sent\n",
    "print('Posts w/o sentiment: %d' % count_wo_sentiment)\n",
    "print('Posts with sentiment: %d' % count_w_sentiment)\n"
   ]
  },
  {
   "cell_type": "code",
   "execution_count": null,
   "metadata": {
    "collapsed": true
   },
   "outputs": [],
   "source": []
  }
 ],
 "metadata": {
  "kernelspec": {
   "display_name": "Python 3",
   "language": "python",
   "name": "python3"
  },
  "language_info": {
   "codemirror_mode": {
    "name": "ipython",
    "version": 3
   },
   "file_extension": ".py",
   "mimetype": "text/x-python",
   "name": "python",
   "nbconvert_exporter": "python",
   "pygments_lexer": "ipython3",
   "version": "3.5.1"
  }
 },
 "nbformat": 4,
 "nbformat_minor": 0
}
