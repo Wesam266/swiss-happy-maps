{
 "cells": [
  {
   "cell_type": "code",
   "execution_count": 1,
   "metadata": {
    "collapsed": true
   },
   "outputs": [],
   "source": [
    "import pandas as pd"
   ]
  },
  {
   "cell_type": "markdown",
   "metadata": {},
   "source": [
    "### Getting the DF"
   ]
  },
  {
   "cell_type": "code",
   "execution_count": 25,
   "metadata": {
    "collapsed": false,
    "scrolled": true
   },
   "outputs": [],
   "source": [
    "df = pd.read_csv('data/twitter.csv')"
   ]
  },
  {
   "cell_type": "code",
   "execution_count": 21,
   "metadata": {
    "collapsed": false,
    "scrolled": true
   },
   "outputs": [
    {
     "data": {
      "text/html": [
       "<div>\n",
       "<table border=\"1\" class=\"dataframe\">\n",
       "  <thead>\n",
       "    <tr style=\"text-align: right;\">\n",
       "      <th></th>\n",
       "      <th>canton_code</th>\n",
       "      <th>canton</th>\n",
       "      <th>Unnamed: 0</th>\n",
       "      <th>month</th>\n",
       "      <th>language</th>\n",
       "      <th>gender</th>\n",
       "      <th>time_period</th>\n",
       "      <th>avg_sentiment</th>\n",
       "      <th>count</th>\n",
       "    </tr>\n",
       "  </thead>\n",
       "  <tbody>\n",
       "    <tr>\n",
       "      <th>0</th>\n",
       "      <td>AG</td>\n",
       "      <td>Aargau</td>\n",
       "      <td>11</td>\n",
       "      <td>8</td>\n",
       "      <td>en</td>\n",
       "      <td>MALE</td>\n",
       "      <td>Day</td>\n",
       "      <td>0.16</td>\n",
       "      <td>50</td>\n",
       "    </tr>\n",
       "    <tr>\n",
       "      <th>1</th>\n",
       "      <td>AG</td>\n",
       "      <td>Aargau</td>\n",
       "      <td>14</td>\n",
       "      <td>10</td>\n",
       "      <td>en</td>\n",
       "      <td>FEMALE</td>\n",
       "      <td>Day</td>\n",
       "      <td>0.10</td>\n",
       "      <td>10</td>\n",
       "    </tr>\n",
       "    <tr>\n",
       "      <th>2</th>\n",
       "      <td>AG</td>\n",
       "      <td>Aargau</td>\n",
       "      <td>38</td>\n",
       "      <td>2</td>\n",
       "      <td>de</td>\n",
       "      <td>UNKNOWN</td>\n",
       "      <td>Day</td>\n",
       "      <td>1.00</td>\n",
       "      <td>6</td>\n",
       "    </tr>\n",
       "    <tr>\n",
       "      <th>3</th>\n",
       "      <td>AG</td>\n",
       "      <td>Aargau</td>\n",
       "      <td>50</td>\n",
       "      <td>3</td>\n",
       "      <td>de</td>\n",
       "      <td>FEMALE</td>\n",
       "      <td>Day</td>\n",
       "      <td>1.00</td>\n",
       "      <td>6</td>\n",
       "    </tr>\n",
       "    <tr>\n",
       "      <th>4</th>\n",
       "      <td>AG</td>\n",
       "      <td>Aargau</td>\n",
       "      <td>104</td>\n",
       "      <td>4</td>\n",
       "      <td>de</td>\n",
       "      <td>UNKNOWN</td>\n",
       "      <td>Night</td>\n",
       "      <td>1.00</td>\n",
       "      <td>5</td>\n",
       "    </tr>\n",
       "  </tbody>\n",
       "</table>\n",
       "</div>"
      ],
      "text/plain": [
       "  canton_code  canton  Unnamed: 0  month language   gender time_period  \\\n",
       "0          AG  Aargau          11      8       en     MALE         Day   \n",
       "1          AG  Aargau          14     10       en   FEMALE         Day   \n",
       "2          AG  Aargau          38      2       de  UNKNOWN         Day   \n",
       "3          AG  Aargau          50      3       de   FEMALE         Day   \n",
       "4          AG  Aargau         104      4       de  UNKNOWN       Night   \n",
       "\n",
       "   avg_sentiment  count  \n",
       "0           0.16     50  \n",
       "1           0.10     10  \n",
       "2           1.00      6  \n",
       "3           1.00      6  \n",
       "4           1.00      5  "
      ]
     },
     "execution_count": 21,
     "metadata": {},
     "output_type": "execute_result"
    }
   ],
   "source": [
    "df.head()"
   ]
  },
  {
   "cell_type": "code",
   "execution_count": 3,
   "metadata": {
    "collapsed": false
   },
   "outputs": [],
   "source": [
    "code_mapping = pd.read_csv('data/canton_code.csv').ix[:,1:3]"
   ]
  },
  {
   "cell_type": "code",
   "execution_count": 4,
   "metadata": {
    "collapsed": true
   },
   "outputs": [],
   "source": [
    "code_mapping.columns = ['canton_code', 'canton']"
   ]
  },
  {
   "cell_type": "code",
   "execution_count": 5,
   "metadata": {
    "collapsed": true
   },
   "outputs": [
    {
     "data": {
      "text/html": [
       "<div>\n",
       "<table border=\"1\" class=\"dataframe\">\n",
       "  <thead>\n",
       "    <tr style=\"text-align: right;\">\n",
       "      <th></th>\n",
       "      <th>Unnamed: 0</th>\n",
       "      <th>Unnamed: 0.1</th>\n",
       "      <th>canton</th>\n",
       "      <th>month</th>\n",
       "      <th>language</th>\n",
       "      <th>gender</th>\n",
       "      <th>time_period</th>\n",
       "      <th>count</th>\n",
       "      <th>sentiment</th>\n",
       "    </tr>\n",
       "  </thead>\n",
       "  <tbody>\n",
       "    <tr>\n",
       "      <th>0</th>\n",
       "      <td>0</td>\n",
       "      <td>0</td>\n",
       "      <td>Basel-City</td>\n",
       "      <td>7</td>\n",
       "      <td>English</td>\n",
       "      <td>Male</td>\n",
       "      <td>Day</td>\n",
       "      <td>2764</td>\n",
       "      <td>0.163169</td>\n",
       "    </tr>\n",
       "    <tr>\n",
       "      <th>1</th>\n",
       "      <td>1</td>\n",
       "      <td>1</td>\n",
       "      <td>Geneva</td>\n",
       "      <td>8</td>\n",
       "      <td>English</td>\n",
       "      <td>Male</td>\n",
       "      <td>Day</td>\n",
       "      <td>13086</td>\n",
       "      <td>0.136864</td>\n",
       "    </tr>\n",
       "    <tr>\n",
       "      <th>2</th>\n",
       "      <td>2</td>\n",
       "      <td>2</td>\n",
       "      <td>Solothurn</td>\n",
       "      <td>9</td>\n",
       "      <td>English</td>\n",
       "      <td>Female</td>\n",
       "      <td>Night</td>\n",
       "      <td>69</td>\n",
       "      <td>0.260870</td>\n",
       "    </tr>\n",
       "    <tr>\n",
       "      <th>3</th>\n",
       "      <td>3</td>\n",
       "      <td>3</td>\n",
       "      <td>Schwyz</td>\n",
       "      <td>5</td>\n",
       "      <td>English</td>\n",
       "      <td>Unknown</td>\n",
       "      <td>Day</td>\n",
       "      <td>6</td>\n",
       "      <td>0.500000</td>\n",
       "    </tr>\n",
       "    <tr>\n",
       "      <th>4</th>\n",
       "      <td>4</td>\n",
       "      <td>4</td>\n",
       "      <td>Basel-City</td>\n",
       "      <td>9</td>\n",
       "      <td>French</td>\n",
       "      <td>Unknown</td>\n",
       "      <td>Night</td>\n",
       "      <td>2</td>\n",
       "      <td>1.000000</td>\n",
       "    </tr>\n",
       "  </tbody>\n",
       "</table>\n",
       "</div>"
      ],
      "text/plain": [
       "   Unnamed: 0  Unnamed: 0.1      canton  month language   gender time_period  \\\n",
       "0           0             0  Basel-City      7  English     Male         Day   \n",
       "1           1             1      Geneva      8  English     Male         Day   \n",
       "2           2             2   Solothurn      9  English   Female       Night   \n",
       "3           3             3      Schwyz      5  English  Unknown         Day   \n",
       "4           4             4  Basel-City      9   French  Unknown       Night   \n",
       "\n",
       "   count  sentiment  \n",
       "0   2764   0.163169  \n",
       "1  13086   0.136864  \n",
       "2     69   0.260870  \n",
       "3      6   0.500000  \n",
       "4      2   1.000000  "
      ]
     },
     "execution_count": 5,
     "metadata": {},
     "output_type": "execute_result"
    }
   ],
   "source": [
    "df.head()"
   ]
  },
  {
   "cell_type": "code",
   "execution_count": 32,
   "metadata": {
    "collapsed": true
   },
   "outputs": [],
   "source": [
    "new_df = code_mapping.merge(new_df, on = 'canton')"
   ]
  },
  {
   "cell_type": "code",
   "execution_count": 26,
   "metadata": {
    "collapsed": true
   },
   "outputs": [],
   "source": [
    "new_df = df.copy()"
   ]
  },
  {
   "cell_type": "code",
   "execution_count": 33,
   "metadata": {
    "collapsed": false,
    "scrolled": true
   },
   "outputs": [
    {
     "data": {
      "text/html": [
       "<div>\n",
       "<table border=\"1\" class=\"dataframe\">\n",
       "  <thead>\n",
       "    <tr style=\"text-align: right;\">\n",
       "      <th></th>\n",
       "      <th>canton_code</th>\n",
       "      <th>canton</th>\n",
       "      <th>month</th>\n",
       "      <th>language</th>\n",
       "      <th>gender</th>\n",
       "      <th>time_period</th>\n",
       "      <th>count</th>\n",
       "      <th>sentiment</th>\n",
       "    </tr>\n",
       "  </thead>\n",
       "  <tbody>\n",
       "    <tr>\n",
       "      <th>0</th>\n",
       "      <td>AG</td>\n",
       "      <td>Aargau</td>\n",
       "      <td>8</td>\n",
       "      <td>English</td>\n",
       "      <td>Male</td>\n",
       "      <td>Day</td>\n",
       "      <td>50</td>\n",
       "      <td>0.16</td>\n",
       "    </tr>\n",
       "    <tr>\n",
       "      <th>1</th>\n",
       "      <td>AG</td>\n",
       "      <td>Aargau</td>\n",
       "      <td>10</td>\n",
       "      <td>English</td>\n",
       "      <td>Female</td>\n",
       "      <td>Day</td>\n",
       "      <td>10</td>\n",
       "      <td>0.10</td>\n",
       "    </tr>\n",
       "    <tr>\n",
       "      <th>2</th>\n",
       "      <td>AG</td>\n",
       "      <td>Aargau</td>\n",
       "      <td>2</td>\n",
       "      <td>German</td>\n",
       "      <td>Unknown</td>\n",
       "      <td>Day</td>\n",
       "      <td>6</td>\n",
       "      <td>1.00</td>\n",
       "    </tr>\n",
       "    <tr>\n",
       "      <th>3</th>\n",
       "      <td>AG</td>\n",
       "      <td>Aargau</td>\n",
       "      <td>3</td>\n",
       "      <td>German</td>\n",
       "      <td>Female</td>\n",
       "      <td>Day</td>\n",
       "      <td>6</td>\n",
       "      <td>1.00</td>\n",
       "    </tr>\n",
       "    <tr>\n",
       "      <th>4</th>\n",
       "      <td>AG</td>\n",
       "      <td>Aargau</td>\n",
       "      <td>4</td>\n",
       "      <td>German</td>\n",
       "      <td>Unknown</td>\n",
       "      <td>Night</td>\n",
       "      <td>5</td>\n",
       "      <td>1.00</td>\n",
       "    </tr>\n",
       "  </tbody>\n",
       "</table>\n",
       "</div>"
      ],
      "text/plain": [
       "  canton_code  canton  month language   gender time_period  count  sentiment\n",
       "0          AG  Aargau      8  English     Male         Day     50       0.16\n",
       "1          AG  Aargau     10  English   Female         Day     10       0.10\n",
       "2          AG  Aargau      2   German  Unknown         Day      6       1.00\n",
       "3          AG  Aargau      3   German   Female         Day      6       1.00\n",
       "4          AG  Aargau      4   German  Unknown       Night      5       1.00"
      ]
     },
     "execution_count": 33,
     "metadata": {},
     "output_type": "execute_result"
    }
   ],
   "source": [
    "new_df.head()"
   ]
  },
  {
   "cell_type": "code",
   "execution_count": 29,
   "metadata": {
    "collapsed": true
   },
   "outputs": [],
   "source": [
    "new_df.drop([\"Unnamed: 0\"],1, inplace=True)\n",
    "# changes avg_sentiment to sentiment\n",
    "new_df['sentiment'] = new_df['avg_sentiment']\n",
    "new_df = new_df.drop('avg_sentiment',axis=1)"
   ]
  },
  {
   "cell_type": "code",
   "execution_count": 27,
   "metadata": {
    "collapsed": false
   },
   "outputs": [],
   "source": [
    "new_df['gender'] = new_df['gender'].map({\"FEMALE\":\"Female\",\"MALE\":\"Male\", \"UNKNOWN\":\"Unknown\"})\n",
    "new_df['language'] = new_df['language'].map({\"de\":\"German\",\"en\":\"English\", \"fr\":\"French\"})"
   ]
  },
  {
   "cell_type": "code",
   "execution_count": 34,
   "metadata": {
    "collapsed": false,
    "scrolled": true
   },
   "outputs": [],
   "source": [
    "new_df.to_csv('data/twitter.csv')"
   ]
  },
  {
   "cell_type": "markdown",
   "metadata": {},
   "source": [
    "### Creating the Function"
   ]
  },
  {
   "cell_type": "code",
   "execution_count": null,
   "metadata": {
    "collapsed": false
   },
   "outputs": [],
   "source": [
    "# function that filters out the dataframe and gives the final result wanted.\n",
    "# gender, month, language\n",
    "\n",
    "def filter_df(df, gender=True, min_month=1, max_month=10, language = True, time_period = True):\n",
    "    if type(gender) is str:\n",
    "        gender = (df['gender'] == gender)\n",
    "    month = ((min_month <= df['month']) & (df['month'] <= max_month))\n",
    "    if type(language) is str:\n",
    "        language = (df['language'] == language)\n",
    "    if type(time_period) is str:\n",
    "        time_period = (df['time_period'] == time_period)\n",
    "    filtered = df[gender & time_period & language]\n",
    "    return filtered"
   ]
  },
  {
   "cell_type": "code",
   "execution_count": null,
   "metadata": {
    "collapsed": true
   },
   "outputs": [],
   "source": [
    "cantons_kml = [\"ZH\",\"BE\",\"LU\",\"UR\",\"SZ\",\"OW\",\"NW\",\"GL\",\"ZG\",\"FR\",\"SO\",\"BS\",\"BL\",\"SH\",\"AR\",\"AI\",\"SG\",\"GR\",\"AG\",\"TG\",\"TI\",\"VD\",\"VS\",\"NE\",\"GE\",\"JU\"]\n",
    "cantons_df = pd.DataFrame(cantons_kml)\n",
    "cantons_df.columns = ['canton_code']\n",
    "\n",
    "\n",
    "def group(filtered_df):\n",
    "    filtered_df = filtered_df.groupby('canton_code').mean()\n",
    "    filtered_df = filtered_df.reset_index()[['canton_code','sentiment']] # group by\n",
    "    final = cantons_df.merge(filtered_df, on='canton_code', how='left')\n",
    "    return final"
   ]
  },
  {
   "cell_type": "code",
   "execution_count": null,
   "metadata": {
    "collapsed": true
   },
   "outputs": [],
   "source": [
    "cantons_df.to_csv('cantons_kml.csv')"
   ]
  },
  {
   "cell_type": "code",
   "execution_count": null,
   "metadata": {
    "collapsed": true
   },
   "outputs": [],
   "source": [
    "def new_df(df, gender=True, min_month=1, max_month=10, language = True, time_period = True):\n",
    "    return group(filter_df(df,gender,min_month,max_month,language,time_period))"
   ]
  },
  {
   "cell_type": "code",
   "execution_count": null,
   "metadata": {
    "collapsed": true
   },
   "outputs": [],
   "source": [
    "new_df(df, 'FEMALE',language='en')"
   ]
  },
  {
   "cell_type": "code",
   "execution_count": null,
   "metadata": {
    "collapsed": true
   },
   "outputs": [],
   "source": []
  }
 ],
 "metadata": {
  "kernelspec": {
   "display_name": "Python 3",
   "language": "python",
   "name": "python3"
  },
  "language_info": {
   "codemirror_mode": {
    "name": "ipython",
    "version": 3
   },
   "file_extension": ".py",
   "mimetype": "text/x-python",
   "name": "python",
   "nbconvert_exporter": "python",
   "pygments_lexer": "ipython3",
   "version": "3.5.3"
  }
 },
 "nbformat": 4,
 "nbformat_minor": 0
}
