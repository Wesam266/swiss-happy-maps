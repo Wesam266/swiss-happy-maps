{
 "cells": [
  {
   "cell_type": "code",
   "execution_count": 2,
   "metadata": {
    "collapsed": true
   },
   "outputs": [],
   "source": [
    "import pandas as pd"
   ]
  },
  {
   "cell_type": "markdown",
   "metadata": {},
   "source": [
    "### Getting the DF"
   ]
  },
  {
   "cell_type": "code",
   "execution_count": 14,
   "metadata": {
    "collapsed": false,
    "scrolled": true
   },
   "outputs": [],
   "source": [
    "df = pd.read_csv('data/twitter.csv')"
   ]
  },
  {
   "cell_type": "code",
   "execution_count": 15,
   "metadata": {
    "collapsed": false,
    "scrolled": false
   },
   "outputs": [
    {
     "data": {
      "text/html": [
       "<div>\n",
       "<table border=\"1\" class=\"dataframe\">\n",
       "  <thead>\n",
       "    <tr style=\"text-align: right;\">\n",
       "      <th></th>\n",
       "      <th>Unnamed: 0</th>\n",
       "      <th>canton_code</th>\n",
       "      <th>canton</th>\n",
       "      <th>month</th>\n",
       "      <th>language</th>\n",
       "      <th>gender</th>\n",
       "      <th>time_period</th>\n",
       "      <th>count</th>\n",
       "      <th>sentiment</th>\n",
       "    </tr>\n",
       "  </thead>\n",
       "  <tbody>\n",
       "    <tr>\n",
       "      <th>0</th>\n",
       "      <td>0</td>\n",
       "      <td>AG</td>\n",
       "      <td>Aargau</td>\n",
       "      <td>8</td>\n",
       "      <td>English</td>\n",
       "      <td>Male</td>\n",
       "      <td>Day</td>\n",
       "      <td>50</td>\n",
       "      <td>0.16</td>\n",
       "    </tr>\n",
       "    <tr>\n",
       "      <th>1</th>\n",
       "      <td>1</td>\n",
       "      <td>AG</td>\n",
       "      <td>Aargau</td>\n",
       "      <td>10</td>\n",
       "      <td>English</td>\n",
       "      <td>Female</td>\n",
       "      <td>Day</td>\n",
       "      <td>10</td>\n",
       "      <td>0.10</td>\n",
       "    </tr>\n",
       "    <tr>\n",
       "      <th>2</th>\n",
       "      <td>2</td>\n",
       "      <td>AG</td>\n",
       "      <td>Aargau</td>\n",
       "      <td>2</td>\n",
       "      <td>German</td>\n",
       "      <td>Unknown</td>\n",
       "      <td>Day</td>\n",
       "      <td>6</td>\n",
       "      <td>1.00</td>\n",
       "    </tr>\n",
       "    <tr>\n",
       "      <th>3</th>\n",
       "      <td>3</td>\n",
       "      <td>AG</td>\n",
       "      <td>Aargau</td>\n",
       "      <td>3</td>\n",
       "      <td>German</td>\n",
       "      <td>Female</td>\n",
       "      <td>Day</td>\n",
       "      <td>6</td>\n",
       "      <td>1.00</td>\n",
       "    </tr>\n",
       "    <tr>\n",
       "      <th>4</th>\n",
       "      <td>4</td>\n",
       "      <td>AG</td>\n",
       "      <td>Aargau</td>\n",
       "      <td>4</td>\n",
       "      <td>German</td>\n",
       "      <td>Unknown</td>\n",
       "      <td>Night</td>\n",
       "      <td>5</td>\n",
       "      <td>1.00</td>\n",
       "    </tr>\n",
       "  </tbody>\n",
       "</table>\n",
       "</div>"
      ],
      "text/plain": [
       "   Unnamed: 0 canton_code  canton  month language   gender time_period  count  \\\n",
       "0           0          AG  Aargau      8  English     Male         Day     50   \n",
       "1           1          AG  Aargau     10  English   Female         Day     10   \n",
       "2           2          AG  Aargau      2   German  Unknown         Day      6   \n",
       "3           3          AG  Aargau      3   German   Female         Day      6   \n",
       "4           4          AG  Aargau      4   German  Unknown       Night      5   \n",
       "\n",
       "   sentiment  \n",
       "0       0.16  \n",
       "1       0.10  \n",
       "2       1.00  \n",
       "3       1.00  \n",
       "4       1.00  "
      ]
     },
     "execution_count": 15,
     "metadata": {},
     "output_type": "execute_result"
    }
   ],
   "source": [
    "df.head()"
   ]
  },
  {
   "cell_type": "code",
   "execution_count": 16,
   "metadata": {
    "collapsed": false
   },
   "outputs": [
    {
     "data": {
      "text/plain": [
       "array(['Aargau', 'Basel-City', 'Bern', 'Fribourg', 'Geneva', 'Glarus',\n",
       "       'Grisons', 'Jura', 'Lucerne', 'Neuchâtel', 'Nidwalden', 'Obwalden',\n",
       "       'Schaffhausen', 'Schwyz', 'Solothurn', 'Saint Gallen', 'Thurgau',\n",
       "       'Ticino', 'Uri', 'Valais', 'Vaud', 'Zurich'], dtype=object)"
      ]
     },
     "execution_count": 16,
     "metadata": {},
     "output_type": "execute_result"
    }
   ],
   "source": [
    "df.canton.unique()"
   ]
  },
  {
   "cell_type": "code",
   "execution_count": 17,
   "metadata": {
    "collapsed": false
   },
   "outputs": [],
   "source": [
    "df = df.replace('Neuchâtel', 'Neuchatel')"
   ]
  },
  {
   "cell_type": "code",
   "execution_count": 21,
   "metadata": {
    "collapsed": false,
    "scrolled": true
   },
   "outputs": [],
   "source": [
    "df.to_csv('data/twitter.csv')"
   ]
  },
  {
   "cell_type": "code",
   "execution_count": 20,
   "metadata": {
    "collapsed": false
   },
   "outputs": [
    {
     "data": {
      "text/plain": [
       "22"
      ]
     },
     "execution_count": 20,
     "metadata": {},
     "output_type": "execute_result"
    }
   ],
   "source": [
    "len(df.canton.unique())"
   ]
  },
  {
   "cell_type": "code",
   "execution_count": 8,
   "metadata": {
    "collapsed": false
   },
   "outputs": [
    {
     "data": {
      "text/plain": [
       "22"
      ]
     },
     "execution_count": 8,
     "metadata": {},
     "output_type": "execute_result"
    }
   ],
   "source": [
    "len(df.canton.unique())"
   ]
  },
  {
   "cell_type": "code",
   "execution_count": 9,
   "metadata": {
    "collapsed": false
   },
   "outputs": [],
   "source": [
    "code_mapping = pd.read_csv('data/canton_code.csv').ix[:,1:3]"
   ]
  },
  {
   "cell_type": "code",
   "execution_count": 10,
   "metadata": {
    "collapsed": true
   },
   "outputs": [],
   "source": [
    "code_mapping.columns = ['canton_code', 'canton']"
   ]
  },
  {
   "cell_type": "code",
   "execution_count": 11,
   "metadata": {
    "collapsed": false
   },
   "outputs": [
    {
     "data": {
      "text/html": [
       "<div>\n",
       "<table border=\"1\" class=\"dataframe\">\n",
       "  <thead>\n",
       "    <tr style=\"text-align: right;\">\n",
       "      <th></th>\n",
       "      <th>Unnamed: 0</th>\n",
       "      <th>canton_code_x</th>\n",
       "      <th>canton</th>\n",
       "      <th>canton_code_y</th>\n",
       "      <th>month</th>\n",
       "      <th>language</th>\n",
       "      <th>gender</th>\n",
       "      <th>time_period</th>\n",
       "      <th>count</th>\n",
       "      <th>sentiment</th>\n",
       "    </tr>\n",
       "  </thead>\n",
       "  <tbody>\n",
       "    <tr>\n",
       "      <th>0</th>\n",
       "      <td>0</td>\n",
       "      <td>AG</td>\n",
       "      <td>Aargau</td>\n",
       "      <td>AG</td>\n",
       "      <td>8</td>\n",
       "      <td>NaN</td>\n",
       "      <td>NaN</td>\n",
       "      <td>Day</td>\n",
       "      <td>50</td>\n",
       "      <td>0.16</td>\n",
       "    </tr>\n",
       "    <tr>\n",
       "      <th>1</th>\n",
       "      <td>1</td>\n",
       "      <td>AG</td>\n",
       "      <td>Aargau</td>\n",
       "      <td>AG</td>\n",
       "      <td>10</td>\n",
       "      <td>NaN</td>\n",
       "      <td>NaN</td>\n",
       "      <td>Day</td>\n",
       "      <td>10</td>\n",
       "      <td>0.10</td>\n",
       "    </tr>\n",
       "    <tr>\n",
       "      <th>2</th>\n",
       "      <td>2</td>\n",
       "      <td>AG</td>\n",
       "      <td>Aargau</td>\n",
       "      <td>AG</td>\n",
       "      <td>2</td>\n",
       "      <td>NaN</td>\n",
       "      <td>NaN</td>\n",
       "      <td>Day</td>\n",
       "      <td>6</td>\n",
       "      <td>1.00</td>\n",
       "    </tr>\n",
       "    <tr>\n",
       "      <th>3</th>\n",
       "      <td>3</td>\n",
       "      <td>AG</td>\n",
       "      <td>Aargau</td>\n",
       "      <td>AG</td>\n",
       "      <td>3</td>\n",
       "      <td>NaN</td>\n",
       "      <td>NaN</td>\n",
       "      <td>Day</td>\n",
       "      <td>6</td>\n",
       "      <td>1.00</td>\n",
       "    </tr>\n",
       "    <tr>\n",
       "      <th>4</th>\n",
       "      <td>4</td>\n",
       "      <td>AG</td>\n",
       "      <td>Aargau</td>\n",
       "      <td>AG</td>\n",
       "      <td>4</td>\n",
       "      <td>NaN</td>\n",
       "      <td>NaN</td>\n",
       "      <td>Night</td>\n",
       "      <td>5</td>\n",
       "      <td>1.00</td>\n",
       "    </tr>\n",
       "  </tbody>\n",
       "</table>\n",
       "</div>"
      ],
      "text/plain": [
       "   Unnamed: 0 canton_code_x  canton canton_code_y  month  language  gender  \\\n",
       "0           0            AG  Aargau            AG      8       NaN     NaN   \n",
       "1           1            AG  Aargau            AG     10       NaN     NaN   \n",
       "2           2            AG  Aargau            AG      2       NaN     NaN   \n",
       "3           3            AG  Aargau            AG      3       NaN     NaN   \n",
       "4           4            AG  Aargau            AG      4       NaN     NaN   \n",
       "\n",
       "  time_period  count  sentiment  \n",
       "0         Day     50       0.16  \n",
       "1         Day     10       0.10  \n",
       "2         Day      6       1.00  \n",
       "3         Day      6       1.00  \n",
       "4       Night      5       1.00  "
      ]
     },
     "execution_count": 11,
     "metadata": {},
     "output_type": "execute_result"
    }
   ],
   "source": [
    "df.head()"
   ]
  },
  {
   "cell_type": "code",
   "execution_count": 12,
   "metadata": {
    "collapsed": true
   },
   "outputs": [],
   "source": [
    "new_df = df.copy()"
   ]
  },
  {
   "cell_type": "code",
   "execution_count": 13,
   "metadata": {
    "collapsed": false,
    "scrolled": true
   },
   "outputs": [
    {
     "data": {
      "text/html": [
       "<div>\n",
       "<table border=\"1\" class=\"dataframe\">\n",
       "  <thead>\n",
       "    <tr style=\"text-align: right;\">\n",
       "      <th></th>\n",
       "      <th>Unnamed: 0</th>\n",
       "      <th>canton_code_x</th>\n",
       "      <th>canton</th>\n",
       "      <th>canton_code_y</th>\n",
       "      <th>month</th>\n",
       "      <th>language</th>\n",
       "      <th>gender</th>\n",
       "      <th>time_period</th>\n",
       "      <th>count</th>\n",
       "      <th>sentiment</th>\n",
       "    </tr>\n",
       "  </thead>\n",
       "  <tbody>\n",
       "    <tr>\n",
       "      <th>0</th>\n",
       "      <td>0</td>\n",
       "      <td>AG</td>\n",
       "      <td>Aargau</td>\n",
       "      <td>AG</td>\n",
       "      <td>8</td>\n",
       "      <td>NaN</td>\n",
       "      <td>NaN</td>\n",
       "      <td>Day</td>\n",
       "      <td>50</td>\n",
       "      <td>0.16</td>\n",
       "    </tr>\n",
       "    <tr>\n",
       "      <th>1</th>\n",
       "      <td>1</td>\n",
       "      <td>AG</td>\n",
       "      <td>Aargau</td>\n",
       "      <td>AG</td>\n",
       "      <td>10</td>\n",
       "      <td>NaN</td>\n",
       "      <td>NaN</td>\n",
       "      <td>Day</td>\n",
       "      <td>10</td>\n",
       "      <td>0.10</td>\n",
       "    </tr>\n",
       "    <tr>\n",
       "      <th>2</th>\n",
       "      <td>2</td>\n",
       "      <td>AG</td>\n",
       "      <td>Aargau</td>\n",
       "      <td>AG</td>\n",
       "      <td>2</td>\n",
       "      <td>NaN</td>\n",
       "      <td>NaN</td>\n",
       "      <td>Day</td>\n",
       "      <td>6</td>\n",
       "      <td>1.00</td>\n",
       "    </tr>\n",
       "    <tr>\n",
       "      <th>3</th>\n",
       "      <td>3</td>\n",
       "      <td>AG</td>\n",
       "      <td>Aargau</td>\n",
       "      <td>AG</td>\n",
       "      <td>3</td>\n",
       "      <td>NaN</td>\n",
       "      <td>NaN</td>\n",
       "      <td>Day</td>\n",
       "      <td>6</td>\n",
       "      <td>1.00</td>\n",
       "    </tr>\n",
       "    <tr>\n",
       "      <th>4</th>\n",
       "      <td>4</td>\n",
       "      <td>AG</td>\n",
       "      <td>Aargau</td>\n",
       "      <td>AG</td>\n",
       "      <td>4</td>\n",
       "      <td>NaN</td>\n",
       "      <td>NaN</td>\n",
       "      <td>Night</td>\n",
       "      <td>5</td>\n",
       "      <td>1.00</td>\n",
       "    </tr>\n",
       "  </tbody>\n",
       "</table>\n",
       "</div>"
      ],
      "text/plain": [
       "   Unnamed: 0 canton_code_x  canton canton_code_y  month  language  gender  \\\n",
       "0           0            AG  Aargau            AG      8       NaN     NaN   \n",
       "1           1            AG  Aargau            AG     10       NaN     NaN   \n",
       "2           2            AG  Aargau            AG      2       NaN     NaN   \n",
       "3           3            AG  Aargau            AG      3       NaN     NaN   \n",
       "4           4            AG  Aargau            AG      4       NaN     NaN   \n",
       "\n",
       "  time_period  count  sentiment  \n",
       "0         Day     50       0.16  \n",
       "1         Day     10       0.10  \n",
       "2         Day      6       1.00  \n",
       "3         Day      6       1.00  \n",
       "4       Night      5       1.00  "
      ]
     },
     "execution_count": 13,
     "metadata": {},
     "output_type": "execute_result"
    }
   ],
   "source": [
    "new_df.head()"
   ]
  },
  {
   "cell_type": "code",
   "execution_count": null,
   "metadata": {
    "collapsed": false
   },
   "outputs": [],
   "source": [
    "code_mapping.canton.unique()"
   ]
  },
  {
   "cell_type": "code",
   "execution_count": null,
   "metadata": {
    "collapsed": false
   },
   "outputs": [],
   "source": [
    "new_df = code_mapping.merge(new_df, on = 'canton')"
   ]
  },
  {
   "cell_type": "code",
   "execution_count": null,
   "metadata": {
    "collapsed": false
   },
   "outputs": [],
   "source": [
    "new_df.drop([\"Unnamed: 0\"],1, inplace=True)\n",
    "# changes avg_sentiment to sentiment\n",
    "# new_df['sentiment'] = new_df['avg_sentiment']\n",
    "# new_df = new_df.drop('avg_sentiment',axis=1)"
   ]
  },
  {
   "cell_type": "code",
   "execution_count": null,
   "metadata": {
    "collapsed": false
   },
   "outputs": [],
   "source": [
    "len(new_df.canton.unique())"
   ]
  },
  {
   "cell_type": "code",
   "execution_count": null,
   "metadata": {
    "collapsed": false
   },
   "outputs": [],
   "source": [
    "new_df['gender'] = new_df['gender'].map({\"FEMALE\":\"Female\",\"MALE\":\"Male\", \"UNKNOWN\":\"Unknown\"})\n",
    "new_df['language'] = new_df['language'].map({\"de\":\"German\",\"en\":\"English\", \"fr\":\"French\"})"
   ]
  },
  {
   "cell_type": "code",
   "execution_count": null,
   "metadata": {
    "collapsed": false,
    "scrolled": true
   },
   "outputs": [],
   "source": [
    "new_df.to_csv('data/twitter.csv')"
   ]
  },
  {
   "cell_type": "code",
   "execution_count": null,
   "metadata": {
    "collapsed": false
   },
   "outputs": [],
   "source": [
    "new_df.head()"
   ]
  },
  {
   "cell_type": "markdown",
   "metadata": {},
   "source": [
    "### Creating the Function"
   ]
  },
  {
   "cell_type": "code",
   "execution_count": null,
   "metadata": {
    "collapsed": false
   },
   "outputs": [],
   "source": [
    "# function that filters out the dataframe and gives the final result wanted.\n",
    "# gender, month, language\n",
    "\n",
    "def filter_df(df, gender=True, min_month=1, max_month=10, language = True, time_period = True):\n",
    "    if type(gender) is str:\n",
    "        gender = (df['gender'] == gender)\n",
    "    month = ((min_month <= df['month']) & (df['month'] <= max_month))\n",
    "    if type(language) is str:\n",
    "        language = (df['language'] == language)\n",
    "    if type(time_period) is str:\n",
    "        time_period = (df['time_period'] == time_period)\n",
    "    filtered = df[gender & time_period & language]\n",
    "    return filtered"
   ]
  },
  {
   "cell_type": "code",
   "execution_count": null,
   "metadata": {
    "collapsed": true
   },
   "outputs": [],
   "source": [
    "cantons_kml = [\"ZH\",\"BE\",\"LU\",\"UR\",\"SZ\",\"OW\",\"NW\",\"GL\",\"ZG\",\"FR\",\"SO\",\"BS\",\"BL\",\"SH\",\"AR\",\"AI\",\"SG\",\"GR\",\"AG\",\"TG\",\"TI\",\"VD\",\"VS\",\"NE\",\"GE\",\"JU\"]\n",
    "cantons_df = pd.DataFrame(cantons_kml)\n",
    "cantons_df.columns = ['canton_code']\n",
    "\n",
    "\n",
    "def group(filtered_df):\n",
    "    filtered_df = filtered_df.groupby('canton_code').mean()\n",
    "    filtered_df = filtered_df.reset_index()[['canton_code','sentiment']] # group by\n",
    "    final = cantons_df.merge(filtered_df, on='canton_code', how='left')\n",
    "    return final"
   ]
  },
  {
   "cell_type": "code",
   "execution_count": null,
   "metadata": {
    "collapsed": true
   },
   "outputs": [],
   "source": [
    "cantons_df.to_csv('cantons_kml.csv')"
   ]
  },
  {
   "cell_type": "code",
   "execution_count": null,
   "metadata": {
    "collapsed": true
   },
   "outputs": [],
   "source": [
    "def new_df(df, gender=True, min_month=1, max_month=10, language = True, time_period = True):\n",
    "    return group(filter_df(df,gender,min_month,max_month,language,time_period))"
   ]
  },
  {
   "cell_type": "code",
   "execution_count": null,
   "metadata": {
    "collapsed": true
   },
   "outputs": [],
   "source": [
    "new_df(df, 'FEMALE',language='en')"
   ]
  },
  {
   "cell_type": "code",
   "execution_count": null,
   "metadata": {
    "collapsed": true
   },
   "outputs": [],
   "source": []
  }
 ],
 "metadata": {
  "kernelspec": {
   "display_name": "Python 3",
   "language": "python",
   "name": "python3"
  },
  "language_info": {
   "codemirror_mode": {
    "name": "ipython",
    "version": 3
   },
   "file_extension": ".py",
   "mimetype": "text/x-python",
   "name": "python",
   "nbconvert_exporter": "python",
   "pygments_lexer": "ipython3",
   "version": "3.5.3"
  }
 },
 "nbformat": 4,
 "nbformat_minor": 0
}
